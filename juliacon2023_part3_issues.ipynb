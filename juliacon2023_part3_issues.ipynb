{
 "cells": [
  {
   "cell_type": "markdown",
   "id": "81950dea",
   "metadata": {},
   "source": [
    "# Working with DataFrames.jl beyond CSV files\n",
    "\n",
    "# Part 3: Important limitations of Parquet\n",
    "\n",
    "## Bogumił Kamiński\n",
    "### June 25, 2023"
   ]
  },
  {
   "cell_type": "markdown",
   "id": "4acb3ec2",
   "metadata": {},
   "source": [
    "What is covered in part 3:\n",
    "* Limitations of `RowGroup` size\n",
    "* Avoid excessive copying of data"
   ]
  },
  {
   "cell_type": "markdown",
   "id": "cf3d92ee",
   "metadata": {},
   "source": [
    "## Setup"
   ]
  },
  {
   "cell_type": "code",
   "execution_count": 1,
   "id": "3ac0783f",
   "metadata": {},
   "outputs": [],
   "source": [
    "using DataFrames"
   ]
  },
  {
   "cell_type": "code",
   "execution_count": 2,
   "id": "8bc85c87",
   "metadata": {},
   "outputs": [],
   "source": [
    "using Parquet2"
   ]
  },
  {
   "cell_type": "markdown",
   "id": "180ff9ba",
   "metadata": {},
   "source": [
    "## Handling tables with large number of rows"
   ]
  },
  {
   "cell_type": "code",
   "execution_count": 3,
   "id": "453115bc",
   "metadata": {},
   "outputs": [
    {
     "data": {
      "text/plain": [
       "false"
      ]
     },
     "execution_count": 3,
     "metadata": {},
     "output_type": "execute_result"
    }
   ],
   "source": [
    "isfile(\"large_df.parquet\") && rm(\"large_df.parquet\")"
   ]
  },
  {
   "cell_type": "code",
   "execution_count": 4,
   "id": "4b246cce",
   "metadata": {},
   "outputs": [
    {
     "data": {
      "text/html": [
       "<div><div style = \"float: left;\"><span>300000000×1 DataFrame</span></div><div style = \"float: right;\"><span style = \"font-style: italic;\">299999975 rows omitted</span></div><div style = \"clear: both;\"></div></div><div class = \"data-frame\" style = \"overflow-x: scroll;\"><table class = \"data-frame\" style = \"margin-bottom: 6px;\"><thead><tr class = \"header\"><th class = \"rowNumber\" style = \"font-weight: bold; text-align: right;\">Row</th><th style = \"text-align: left;\">x</th></tr><tr class = \"subheader headerLastRow\"><th class = \"rowNumber\" style = \"font-weight: bold; text-align: right;\"></th><th title = \"Float64\" style = \"text-align: left;\">Float64</th></tr></thead><tbody><tr><td class = \"rowNumber\" style = \"font-weight: bold; text-align: right;\">1</td><td style = \"text-align: right;\">0.715886</td></tr><tr><td class = \"rowNumber\" style = \"font-weight: bold; text-align: right;\">2</td><td style = \"text-align: right;\">0.906553</td></tr><tr><td class = \"rowNumber\" style = \"font-weight: bold; text-align: right;\">3</td><td style = \"text-align: right;\">0.428327</td></tr><tr><td class = \"rowNumber\" style = \"font-weight: bold; text-align: right;\">4</td><td style = \"text-align: right;\">0.734823</td></tr><tr><td class = \"rowNumber\" style = \"font-weight: bold; text-align: right;\">5</td><td style = \"text-align: right;\">0.428111</td></tr><tr><td class = \"rowNumber\" style = \"font-weight: bold; text-align: right;\">6</td><td style = \"text-align: right;\">0.24559</td></tr><tr><td class = \"rowNumber\" style = \"font-weight: bold; text-align: right;\">7</td><td style = \"text-align: right;\">0.894124</td></tr><tr><td class = \"rowNumber\" style = \"font-weight: bold; text-align: right;\">8</td><td style = \"text-align: right;\">0.897556</td></tr><tr><td class = \"rowNumber\" style = \"font-weight: bold; text-align: right;\">9</td><td style = \"text-align: right;\">0.874006</td></tr><tr><td class = \"rowNumber\" style = \"font-weight: bold; text-align: right;\">10</td><td style = \"text-align: right;\">0.548504</td></tr><tr><td class = \"rowNumber\" style = \"font-weight: bold; text-align: right;\">11</td><td style = \"text-align: right;\">0.959505</td></tr><tr><td class = \"rowNumber\" style = \"font-weight: bold; text-align: right;\">12</td><td style = \"text-align: right;\">0.0755375</td></tr><tr><td class = \"rowNumber\" style = \"font-weight: bold; text-align: right;\">13</td><td style = \"text-align: right;\">0.368193</td></tr><tr><td style = \"text-align: right;\">&vellip;</td><td style = \"text-align: right;\">&vellip;</td></tr><tr><td class = \"rowNumber\" style = \"font-weight: bold; text-align: right;\">299999989</td><td style = \"text-align: right;\">0.878042</td></tr><tr><td class = \"rowNumber\" style = \"font-weight: bold; text-align: right;\">299999990</td><td style = \"text-align: right;\">0.0774327</td></tr><tr><td class = \"rowNumber\" style = \"font-weight: bold; text-align: right;\">299999991</td><td style = \"text-align: right;\">0.00319433</td></tr><tr><td class = \"rowNumber\" style = \"font-weight: bold; text-align: right;\">299999992</td><td style = \"text-align: right;\">0.0654397</td></tr><tr><td class = \"rowNumber\" style = \"font-weight: bold; text-align: right;\">299999993</td><td style = \"text-align: right;\">0.206643</td></tr><tr><td class = \"rowNumber\" style = \"font-weight: bold; text-align: right;\">299999994</td><td style = \"text-align: right;\">0.648866</td></tr><tr><td class = \"rowNumber\" style = \"font-weight: bold; text-align: right;\">299999995</td><td style = \"text-align: right;\">0.465515</td></tr><tr><td class = \"rowNumber\" style = \"font-weight: bold; text-align: right;\">299999996</td><td style = \"text-align: right;\">0.537257</td></tr><tr><td class = \"rowNumber\" style = \"font-weight: bold; text-align: right;\">299999997</td><td style = \"text-align: right;\">0.482094</td></tr><tr><td class = \"rowNumber\" style = \"font-weight: bold; text-align: right;\">299999998</td><td style = \"text-align: right;\">0.712411</td></tr><tr><td class = \"rowNumber\" style = \"font-weight: bold; text-align: right;\">299999999</td><td style = \"text-align: right;\">0.61793</td></tr><tr><td class = \"rowNumber\" style = \"font-weight: bold; text-align: right;\">300000000</td><td style = \"text-align: right;\">0.489966</td></tr></tbody></table></div>"
      ],
      "text/latex": [
       "\\begin{tabular}{r|c}\n",
       "\t& x\\\\\n",
       "\t\\hline\n",
       "\t& Float64\\\\\n",
       "\t\\hline\n",
       "\t1 & 0.715886 \\\\\n",
       "\t2 & 0.906553 \\\\\n",
       "\t3 & 0.428327 \\\\\n",
       "\t4 & 0.734823 \\\\\n",
       "\t5 & 0.428111 \\\\\n",
       "\t6 & 0.24559 \\\\\n",
       "\t7 & 0.894124 \\\\\n",
       "\t8 & 0.897556 \\\\\n",
       "\t9 & 0.874006 \\\\\n",
       "\t10 & 0.548504 \\\\\n",
       "\t11 & 0.959505 \\\\\n",
       "\t12 & 0.0755375 \\\\\n",
       "\t13 & 0.368193 \\\\\n",
       "\t14 & 0.385562 \\\\\n",
       "\t15 & 0.60566 \\\\\n",
       "\t16 & 0.657765 \\\\\n",
       "\t17 & 0.250196 \\\\\n",
       "\t18 & 0.290132 \\\\\n",
       "\t19 & 0.798642 \\\\\n",
       "\t20 & 0.187835 \\\\\n",
       "\t21 & 0.266042 \\\\\n",
       "\t22 & 0.294484 \\\\\n",
       "\t23 & 0.236209 \\\\\n",
       "\t24 & 0.686138 \\\\\n",
       "\t25 & 0.243546 \\\\\n",
       "\t26 & 0.345894 \\\\\n",
       "\t27 & 0.252048 \\\\\n",
       "\t28 & 0.137969 \\\\\n",
       "\t29 & 0.615278 \\\\\n",
       "\t30 & 0.772424 \\\\\n",
       "\t$\\dots$ & $\\dots$ \\\\\n",
       "\\end{tabular}\n"
      ],
      "text/plain": [
       "\u001b[1m300000000×1 DataFrame\u001b[0m\n",
       "\u001b[1m       Row \u001b[0m│\u001b[1m x          \u001b[0m\n",
       "           │\u001b[90m Float64    \u001b[0m\n",
       "───────────┼────────────\n",
       "         1 │ 0.715886\n",
       "         2 │ 0.906553\n",
       "         3 │ 0.428327\n",
       "         4 │ 0.734823\n",
       "         5 │ 0.428111\n",
       "         6 │ 0.24559\n",
       "         7 │ 0.894124\n",
       "         8 │ 0.897556\n",
       "         9 │ 0.874006\n",
       "        10 │ 0.548504\n",
       "        11 │ 0.959505\n",
       "     ⋮     │     ⋮\n",
       " 299999991 │ 0.00319433\n",
       " 299999992 │ 0.0654397\n",
       " 299999993 │ 0.206643\n",
       " 299999994 │ 0.648866\n",
       " 299999995 │ 0.465515\n",
       " 299999996 │ 0.537257\n",
       " 299999997 │ 0.482094\n",
       " 299999998 │ 0.712411\n",
       " 299999999 │ 0.61793\n",
       " 300000000 │ 0.489966\n",
       "\u001b[36m  299999979 rows omitted\u001b[0m"
      ]
     },
     "execution_count": 4,
     "metadata": {},
     "output_type": "execute_result"
    }
   ],
   "source": [
    "large_df = DataFrame(x=rand(3*10^8))"
   ]
  },
  {
   "cell_type": "markdown",
   "id": "42e65e33",
   "metadata": {},
   "source": [
    "This table has too many rows and cannot be stored in Parquet as one `RowGroup`."
   ]
  },
  {
   "cell_type": "code",
   "execution_count": 5,
   "id": "59088cc4",
   "metadata": {},
   "outputs": [
    {
     "ename": "LoadError",
     "evalue": "InexactError: trunc(Int32, 2400000000)",
     "output_type": "error",
     "traceback": [
      "InexactError: trunc(Int32, 2400000000)",
      "",
      "Stacktrace:",
      "  [1] throw_inexacterror(f::Symbol, #unused#::Type{Int32}, val::Int64)",
      "    @ Core .\\boot.jl:634"
     ]
    }
   ],
   "source": [
    "Parquet2.writefile(\"large_df.parquet\", large_df)"
   ]
  },
  {
   "cell_type": "markdown",
   "id": "84101f37",
   "metadata": {},
   "source": [
    "We need to split it into partitions of smaller size using `Iterators.partition`:"
   ]
  },
  {
   "cell_type": "code",
   "execution_count": 6,
   "id": "18ba68dd",
   "metadata": {},
   "outputs": [
    {
     "data": {
      "text/plain": [
       "\u001b[34m✏ \u001b[39mParquet2.FileWriter{IOStream}(large_df.parquet)"
      ]
     },
     "execution_count": 6,
     "metadata": {},
     "output_type": "execute_result"
    }
   ],
   "source": [
    "Parquet2.writefile(\"large_df.parquet\", Iterators.partition(large_df, 10^8))"
   ]
  },
  {
   "cell_type": "markdown",
   "id": "4f2ffa33",
   "metadata": {},
   "source": [
    "Drop original data to save memory:"
   ]
  },
  {
   "cell_type": "code",
   "execution_count": 7,
   "id": "6d1fc286",
   "metadata": {},
   "outputs": [],
   "source": [
    "large_df = nothing"
   ]
  },
  {
   "cell_type": "markdown",
   "id": "85895503",
   "metadata": {},
   "source": [
    "## Impact of `copycols` keyword argument when fetching data to a `DataFrame`"
   ]
  },
  {
   "cell_type": "markdown",
   "id": "6e716993",
   "metadata": {},
   "source": [
    "`copycols=true` option:"
   ]
  },
  {
   "cell_type": "code",
   "execution_count": 8,
   "id": "493809aa",
   "metadata": {},
   "outputs": [
    {
     "name": "stdout",
     "output_type": "stream",
     "text": [
      "  9.391013 seconds (1.29 k allocations: 11.176 GiB, 5.37% gc time)\n"
     ]
    }
   ],
   "source": [
    "DataFrame(Parquet2.readfile(\"large_df.parquet\"))\n",
    "GC.gc(); GC.gc(); GC.gc(); GC.gc()\n",
    "@time DataFrame(Parquet2.readfile(\"large_df.parquet\"));"
   ]
  },
  {
   "cell_type": "markdown",
   "id": "a900295c",
   "metadata": {},
   "source": [
    "`copycols=false` option:"
   ]
  },
  {
   "cell_type": "code",
   "execution_count": 9,
   "id": "b2ba467a",
   "metadata": {},
   "outputs": [
    {
     "name": "stdout",
     "output_type": "stream",
     "text": [
      " 8.985564 seconds (1.29 k allocations: 8.941 GiB, 1.64% gc time)\n"
     ]
    }
   ],
   "source": [
    "DataFrame(Parquet2.readfile(\"large_df.parquet\"), copycols=false)\n",
    "GC.gc(); GC.gc(); GC.gc(); GC.gc()\n",
    "@time DataFrame(Parquet2.readfile(\"large_df.parquet\"), copycols=false);"
   ]
  },
  {
   "cell_type": "markdown",
   "id": "97ea16bc",
   "metadata": {},
   "source": [
    "*Preparation of this worksop has been supported by the Polish National Agency for Academic Exchange under the Strategic Partnerships programme, grant number BPI/PST/2021/1/00069/U/00001.*\n",
    "\n",
    "![SGH & NAWA](logo.png)"
   ]
  }
 ],
 "metadata": {
  "kernelspec": {
   "display_name": "Julia 1.9.2",
   "language": "julia",
   "name": "julia-1.9"
  },
  "language_info": {
   "file_extension": ".jl",
   "mimetype": "application/julia",
   "name": "julia",
   "version": "1.9.2"
  }
 },
 "nbformat": 4,
 "nbformat_minor": 5
}
