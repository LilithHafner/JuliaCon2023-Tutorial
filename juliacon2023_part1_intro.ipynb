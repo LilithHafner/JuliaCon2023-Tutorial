{
 "cells": [
  {
   "cell_type": "markdown",
   "id": "2f18e740",
   "metadata": {},
   "source": [
    "# Working with DataFrames.jl beyond CSV files\n",
    "\n",
    "# Part 1: review of common storage formats\n",
    "\n",
    "## Bogumił Kamiński\n",
    "### June 25, 2023"
   ]
  },
  {
   "cell_type": "markdown",
   "id": "c43578e0",
   "metadata": {},
   "source": [
    "What is covered in part 1:\n",
    "* reading Stata files (also SAS, SPSS)\n",
    "* reading R files\n",
    "* reading and writing SQLite database\n",
    "* reading and writing DuckDB database\n",
    "* reading and writing Parquet files\n",
    "\n",
    "As a particular topic I will discuss handling of metadata by these storage formats.\n",
    "\n",
    "For more details on working with metadata check my blog:\n",
    "* https://bkamins.github.io/julialang/2022/12/02/metadata.html\n",
    "* https://bkamins.github.io/julialang/2023/01/13/tmt.html"
   ]
  },
  {
   "cell_type": "markdown",
   "id": "072e68ed",
   "metadata": {},
   "source": [
    "## Setup"
   ]
  },
  {
   "cell_type": "code",
   "execution_count": 1,
   "id": "722280b5",
   "metadata": {},
   "outputs": [
    {
     "name": "stdout",
     "output_type": "stream",
     "text": [
      "\u001b[32m\u001b[1mStatus\u001b[22m\u001b[39m `C:\\WORK\\dev\\DataFramesTutorials\\JuliaCon2023-Tutorial\\Project.toml`\n",
      "  \u001b[90m[ba30903b] \u001b[39mCodecXz v0.7.0\n",
      "  \u001b[90m[a93c6f00] \u001b[39mDataFrames v1.6.1\n",
      "  \u001b[90m[d2f5444f] \u001b[39mDuckDB v0.8.1\n",
      "  \u001b[90m[7073ff75] \u001b[39mIJulia v1.24.2\n",
      "  \u001b[90m[98572fba] \u001b[39mParquet2 v0.2.17\n",
      "  \u001b[90m[df47a6cb] \u001b[39mRData v1.0.0\n",
      "  \u001b[90m[52522f7a] \u001b[39mReadStatTables v0.2.5\n",
      "  \u001b[90m[0aa819cd] \u001b[39mSQLite v1.6.0\n",
      "  \u001b[90m[2913bbd2] \u001b[39mStatsBase v0.34.0\n"
     ]
    }
   ],
   "source": [
    "]st"
   ]
  },
  {
   "cell_type": "code",
   "execution_count": 2,
   "id": "8ea724b5",
   "metadata": {},
   "outputs": [],
   "source": [
    "using CodecXz"
   ]
  },
  {
   "cell_type": "code",
   "execution_count": 3,
   "id": "6ae34b87",
   "metadata": {},
   "outputs": [],
   "source": [
    "using DataFrames"
   ]
  },
  {
   "cell_type": "code",
   "execution_count": 4,
   "id": "f3e6c010",
   "metadata": {},
   "outputs": [],
   "source": [
    "using DuckDB"
   ]
  },
  {
   "cell_type": "code",
   "execution_count": 5,
   "id": "141e20d7",
   "metadata": {},
   "outputs": [],
   "source": [
    "using Parquet2"
   ]
  },
  {
   "cell_type": "code",
   "execution_count": 6,
   "id": "f4a22513",
   "metadata": {},
   "outputs": [],
   "source": [
    "using RData"
   ]
  },
  {
   "cell_type": "code",
   "execution_count": 7,
   "id": "2b68d4eb",
   "metadata": {},
   "outputs": [],
   "source": [
    "using ReadStatTables"
   ]
  },
  {
   "cell_type": "code",
   "execution_count": 8,
   "id": "fec4a3e4",
   "metadata": {},
   "outputs": [],
   "source": [
    "using SQLite"
   ]
  },
  {
   "cell_type": "markdown",
   "id": "99cd27e1",
   "metadata": {},
   "source": [
    "## Get the data from Stata"
   ]
  },
  {
   "cell_type": "markdown",
   "id": "e760680e",
   "metadata": {},
   "source": [
    "I fetched the file we work with from https://data.mendeley.com/datasets/zcvgc6m58h/1\n",
    "\n",
    "ReadStatTables.jl supports Stata, SAS, and SPSS files. In this tutorial we will work with Stata file."
   ]
  },
  {
   "cell_type": "code",
   "execution_count": 9,
   "id": "8f3fbd6f",
   "metadata": {},
   "outputs": [
    {
     "data": {
      "text/plain": [
       "11123×872 ReadStatTable:\n",
       "\u001b[1m   Row \u001b[0m│\u001b[1m  country \u001b[0m\u001b[1m  wbcode \u001b[0m\u001b[1m  year \u001b[0m\u001b[1m AG_AGR_TRAC_NO \u001b[0m\u001b[1m AG_CON_FERT_MT \u001b[0m\u001b[1m AG_CON_FERT\u001b[0m ⋯\n",
       "       │\u001b[90m   String \u001b[0m\u001b[90m String3 \u001b[0m\u001b[90m Int16 \u001b[0m\u001b[90m       Float64? \u001b[0m\u001b[90m       Float64? \u001b[0m\u001b[90m       Float\u001b[0m ⋯\n",
       "───────┼────────────────────────────────────────────────────────────────────────\n",
       "     1 │    Aruba      ABW   1960         missing         missing         miss ⋯\n",
       "     2 │    Aruba      ABW   1961         missing         missing         miss ⋯\n",
       "     3 │    Aruba      ABW   1962         missing         missing         miss ⋯\n",
       "     4 │    Aruba      ABW   1963         missing         missing         miss ⋯\n",
       "     5 │    Aruba      ABW   1964         missing         missing         miss ⋯\n",
       "     6 │    Aruba      ABW   1965         missing         missing         miss ⋯\n",
       "     7 │    Aruba      ABW   1966         missing         missing         miss ⋯\n",
       "     8 │    Aruba      ABW   1967         missing         missing         miss ⋯\n",
       "     9 │    Aruba      ABW   1968         missing         missing         miss ⋯\n",
       "    10 │    Aruba      ABW   1969         missing         missing         miss ⋯\n",
       "    11 │    Aruba      ABW   1970         missing         missing         miss ⋯\n",
       "   ⋮   │    ⋮         ⋮       ⋮          ⋮               ⋮               ⋮     ⋱\n",
       " 11114 │ Zimbabwe      ZWE   1999         24000.0        185000.0         574. ⋯\n",
       " 11115 │ Zimbabwe      ZWE   2000         24000.0        165300.0         513. ⋯\n",
       " 11116 │ Zimbabwe      ZWE   2001         24000.0        152200.0         472. ⋯\n",
       " 11117 │ Zimbabwe      ZWE   2002         24000.0        130311.0         404. ⋯\n",
       " 11118 │ Zimbabwe      ZWE   2003         24000.0        146032.0         453. ⋯\n",
       " 11119 │ Zimbabwe      ZWE   2004         24000.0         86352.0         268. ⋯\n",
       " 11120 │ Zimbabwe      ZWE   2005         24000.0         85018.0         264. ⋯\n",
       " 11121 │ Zimbabwe      ZWE   2006         24000.0        132661.0         miss ⋯\n",
       " 11122 │ Zimbabwe      ZWE   2007         missing         missing         miss ⋯\n",
       " 11123 │ Zimbabwe      ZWE   2008         missing         missing         miss ⋯\n",
       "\u001b[36m                                              867 columns and 11102 rows omitted\u001b[0m"
      ]
     },
     "execution_count": 9,
     "metadata": {},
     "output_type": "execute_result"
    }
   ],
   "source": [
    "raw_wdi = ReadStatTables.readstat(\"WDI2009.dta\")"
   ]
  },
  {
   "cell_type": "code",
   "execution_count": 10,
   "id": "f988f402",
   "metadata": {},
   "outputs": [
    {
     "data": {
      "text/plain": [
       "ReadStatTable{ChainedReadStatColumns}"
      ]
     },
     "execution_count": 10,
     "metadata": {},
     "output_type": "execute_result"
    }
   ],
   "source": [
    "typeof(raw_wdi)"
   ]
  },
  {
   "cell_type": "markdown",
   "id": "803af010",
   "metadata": {},
   "source": [
    "`ReadStatTable` is a Tables.jl table that is a custom type provided by ReadStatTables.jl.\n",
    "\n",
    "We can work with it directly. As an example, let us investigate its metadata."
   ]
  },
  {
   "cell_type": "code",
   "execution_count": 11,
   "id": "ba607d9c",
   "metadata": {},
   "outputs": [
    {
     "data": {
      "text/plain": [
       "ReadStatMeta:\n",
       "  row count           => 11123\n",
       "  var count           => 872\n",
       "  modified time       => 2010-01-08T11:17:00\n",
       "  file format version => 114\n",
       "  notes               => [\"2\", \"dataset coded for stata as in Catini, Panizza and Saade. Macro Data 4 Stata\", \"December 2009\"]\n",
       "  file extension      => .dta"
      ]
     },
     "execution_count": 11,
     "metadata": {},
     "output_type": "execute_result"
    }
   ],
   "source": [
    "metadata(raw_wdi)"
   ]
  },
  {
   "cell_type": "code",
   "execution_count": 12,
   "id": "dcf75693",
   "metadata": {},
   "outputs": [
    {
     "data": {
      "text/plain": [
       "ColMetaIterator{ReadStatColMeta} with 872 entries:\n",
       "  :country           => ReadStatColMeta(CountryName, %44s)\n",
       "  :wbcode            => ReadStatColMeta(%9s)\n",
       "  :year              => ReadStatColMeta(%9.0g)\n",
       "  :AG_AGR_TRAC_NO    => ReadStatColMeta(Agricultural machinery, tractors, %10.0…\n",
       "  :AG_CON_FERT_MT    => ReadStatColMeta(Fertilizer consumption (metric tons), %…\n",
       "  :AG_CON_FERT_ZS    => ReadStatColMeta(Fertilizer consumption (100 grams per h…\n",
       "  :AG_LND_AGRI_K2    => ReadStatColMeta(Agricultural land (sq. km), %10.0g)\n",
       "  :AG_LND_AGRI_ZS    => ReadStatColMeta(Agricultural land (% of land area), %10…\n",
       "  :AG_LND_ARBL_HA    => ReadStatColMeta(Arable land (hectares), %10.0g)\n",
       "  :AG_LND_ARBL_HA_PC => ReadStatColMeta(Arable land (hectares per person), %10.…\n",
       "  :AG_LND_ARBL_ZS    => ReadStatColMeta(Arable land (% of land area), %10.0g)\n",
       "  :AG_LND_CREL_HA    => ReadStatColMeta(Land under cereal production (hectares)…\n",
       "  :AG_LND_CROP_ZS    => ReadStatColMeta(Permanent cropland (% of land area), %1…\n",
       "  :AG_LND_FRST_K2    => ReadStatColMeta(Forest area (sq. km), %10.0g)\n",
       "  :AG_LND_FRST_ZS    => ReadStatColMeta(Forest area (% of land area), %10.0g)\n",
       "  :AG_LND_IRIG_ZS    => ReadStatColMeta(Irrigated land (% of cropland), %10.0g)\n",
       "  :AG_LND_TOTL_K2    => ReadStatColMeta(Land area (sq. km), %10.0g)\n",
       "  :AG_LND_TRAC_ZS    => ReadStatColMeta(Agricultural machinery, tractors per 10…\n",
       "  :AG_PRD_CROP_XD    => ReadStatColMeta(Crop production index (1999-2001 = 100)…\n",
       "  :AG_PRD_FOOD_XD    => ReadStatColMeta(Food production index (1999-2001 = 100)…\n",
       "  :AG_PRD_LVSK_XD    => ReadStatColMeta(Livestock production index (1999-2001 =…\n",
       "  :AG_SRF_TOTL_K2    => ReadStatColMeta(Surface area (sq. km), %10.0g)\n",
       "  :AG_YLD_CREL_KG    => ReadStatColMeta(Cereal yield (kg per hectare), %10.0g)\n",
       "  :BG_GSR_NFSV_GD_ZS => ReadStatColMeta(Trade in services (% of GDP), %10.0g)\n",
       "  :BM_GSR_FCTY_CD    => ReadStatColMeta(Income payments (BoP, current US$), %10…\n",
       "  ⋮                  => ⋮"
      ]
     },
     "execution_count": 12,
     "metadata": {},
     "output_type": "execute_result"
    }
   ],
   "source": [
    "colmetadata(raw_wdi)"
   ]
  },
  {
   "cell_type": "code",
   "execution_count": 13,
   "id": "a53ef3cd",
   "metadata": {},
   "outputs": [
    {
     "data": {
      "text/plain": [
       "ReadStatColMeta:\n",
       "  label         => Agricultural machinery, tractors\n",
       "  format        => %10.0g\n",
       "  type          => READSTAT_TYPE_DOUBLE\n",
       "  value label   => \n",
       "  storage width => 8\n",
       "  display width => 10\n",
       "  measure       => READSTAT_MEASURE_UNKNOWN\n",
       "  alignment     => READSTAT_ALIGNMENT_RIGHT"
      ]
     },
     "execution_count": 13,
     "metadata": {},
     "output_type": "execute_result"
    }
   ],
   "source": [
    "colmetadata(raw_wdi, :AG_AGR_TRAC_NO)"
   ]
  },
  {
   "cell_type": "markdown",
   "id": "3886d833",
   "metadata": {},
   "source": [
    "I usually transform Tables.jl tables into `DataFrame` objects and later use functions from DataFrames.jl to work with them."
   ]
  },
  {
   "cell_type": "code",
   "execution_count": 14,
   "id": "03828ecf",
   "metadata": {},
   "outputs": [
    {
     "data": {
      "text/html": [
       "<div><div style = \"float: left;\"><span>11123×872 DataFrame</span></div><div style = \"float: right;\"><span style = \"font-style: italic;\">772 columns and 11098 rows omitted</span></div><div style = \"clear: both;\"></div></div><div class = \"data-frame\" style = \"overflow-x: scroll;\"><table class = \"data-frame\" style = \"margin-bottom: 6px;\"><thead><tr class = \"header\"><th class = \"rowNumber\" style = \"font-weight: bold; text-align: right;\">Row</th><th style = \"text-align: left;\">country</th><th style = \"text-align: left;\">wbcode</th><th style = \"text-align: left;\">year</th><th style = \"text-align: left;\">AG_AGR_TRAC_NO</th><th style = \"text-align: left;\">AG_CON_FERT_MT</th><th style = \"text-align: left;\">AG_CON_FERT_ZS</th><th style = \"text-align: left;\">AG_LND_AGRI_K2</th><th style = \"text-align: left;\">AG_LND_AGRI_ZS</th><th style = \"text-align: left;\">AG_LND_ARBL_HA</th><th style = \"text-align: left;\">AG_LND_ARBL_HA_PC</th><th style = \"text-align: left;\">AG_LND_ARBL_ZS</th><th style = \"text-align: left;\">AG_LND_CREL_HA</th><th style = \"text-align: left;\">AG_LND_CROP_ZS</th><th style = \"text-align: left;\">AG_LND_FRST_K2</th><th style = \"text-align: left;\">AG_LND_FRST_ZS</th><th style = \"text-align: left;\">AG_LND_IRIG_ZS</th><th style = \"text-align: left;\">AG_LND_TOTL_K2</th><th style = \"text-align: left;\">AG_LND_TRAC_ZS</th><th style = \"text-align: left;\">AG_PRD_CROP_XD</th><th style = \"text-align: left;\">AG_PRD_FOOD_XD</th><th style = \"text-align: left;\">AG_PRD_LVSK_XD</th><th style = \"text-align: left;\">AG_SRF_TOTL_K2</th><th style = \"text-align: left;\">AG_YLD_CREL_KG</th><th style = \"text-align: left;\">BG_GSR_NFSV_GD_ZS</th><th style = \"text-align: left;\">BM_GSR_FCTY_CD</th><th style = \"text-align: left;\">BM_GSR_GNFS_CD</th><th style = \"text-align: left;\">BM_GSR_MRCH_CD</th><th style = \"text-align: left;\">BM_GSR_NFSV_CD</th><th style = \"text-align: left;\">BM_GSR_ROYL_CD</th><th style = \"text-align: left;\">BM_GSR_TOTL_CD</th><th style = \"text-align: left;\">BM_KLT_DINV_GD_ZS</th><th style = \"text-align: left;\">BM_TRF_PWKR_CD_DT</th><th style = \"text-align: left;\">BN_CAB_XOKA_CD</th><th style = \"text-align: left;\">BN_CAB_XOKA_GD_ZS</th><th style = \"text-align: left;\">BN_GSR_FCTY_CD</th><th style = \"text-align: left;\">BN_GSR_GNFS_CD</th><th style = \"text-align: left;\">BN_GSR_MRCH_CD</th><th style = \"text-align: left;\">BN_KAC_EOMS_CD</th><th style = \"text-align: left;\">BN_KLT_DINV_CD</th><th style = \"text-align: left;\">BN_KLT_PTXL_CD</th><th style = \"text-align: left;\">BN_RES_INCL_CD</th><th style = \"text-align: left;\">BN_TRF_CURR_CD</th><th style = \"text-align: left;\">BN_TRF_KOGT_CD</th><th style = \"text-align: left;\">BX_GSR_CCIS_CD</th><th style = \"text-align: left;\">BX_GSR_CCIS_ZS</th><th style = \"text-align: left;\">BX_GSR_FCTY_CD</th><th style = \"text-align: left;\">BX_GSR_GNFS_CD</th><th style = \"text-align: left;\">BX_GSR_MRCH_CD</th><th style = \"text-align: left;\">BX_GSR_NFSV_CD</th><th style = \"text-align: left;\">BX_GSR_ROYL_CD</th><th style = \"text-align: left;\">BX_GSR_TOTL_CD</th><th style = \"text-align: left;\">BX_KLT_DINV_CD_WD</th><th style = \"text-align: left;\">BX_KLT_DINV_WD_GD_ZS</th><th style = \"text-align: left;\">BX_PEF_TOTL_CD_DT</th><th style = \"text-align: left;\">BX_TRF_CURR_CD</th><th style = \"text-align: left;\">BX_TRF_PWKR_CD</th><th style = \"text-align: left;\">BX_TRF_PWKR_CD_DT</th><th style = \"text-align: left;\">BX_TRF_PWKR_DT_GD_ZS</th><th style = \"text-align: left;\">CM_FIN_INTL_GD_ZS</th><th style = \"text-align: left;\">CM_MKT_INDX_ZG</th><th style = \"text-align: left;\">CM_MKT_LCAP_CD</th><th style = \"text-align: left;\">CM_MKT_LCAP_GD_ZS</th><th style = \"text-align: left;\">CM_MKT_LDOM_NO</th><th style = \"text-align: left;\">CM_MKT_TRAD_CD</th><th style = \"text-align: left;\">CM_MKT_TRAD_GD_ZS</th><th style = \"text-align: left;\">CM_MKT_TRNR</th><th style = \"text-align: left;\">DC_DAC_AUSL_CD</th><th style = \"text-align: left;\">DC_DAC_AUTL_CD</th><th style = \"text-align: left;\">DC_DAC_BELL_CD</th><th style = \"text-align: left;\">DC_DAC_CANL_CD</th><th style = \"text-align: left;\">DC_DAC_CECL_CD</th><th style = \"text-align: left;\">DC_DAC_CHEL_CD</th><th style = \"text-align: left;\">DC_DAC_DEUL_CD</th><th style = \"text-align: left;\">DC_DAC_DNKL_CD</th><th style = \"text-align: left;\">DC_DAC_ESPL_CD</th><th style = \"text-align: left;\">DC_DAC_FINL_CD</th><th style = \"text-align: left;\">DC_DAC_FRAL_CD</th><th style = \"text-align: left;\">DC_DAC_GBRL_CD</th><th style = \"text-align: left;\">DC_DAC_GRCL_CD</th><th style = \"text-align: left;\">DC_DAC_IRLL_CD</th><th style = \"text-align: left;\">DC_DAC_ITAL_CD</th><th style = \"text-align: left;\">DC_DAC_JPNL_CD</th><th style = \"text-align: left;\">DC_DAC_LUXL_CD</th><th style = \"text-align: left;\">DC_DAC_NLDL_CD</th><th style = \"text-align: left;\">DC_DAC_NORL_CD</th><th style = \"text-align: left;\">DC_DAC_NZLL_CD</th><th style = \"text-align: left;\">DC_DAC_PRTL_CD</th><th style = \"text-align: left;\">DC_DAC_SWEL_CD</th><th style = \"text-align: left;\">DC_DAC_TOTL_CD</th><th style = \"text-align: left;\">DC_DAC_USAL_CD</th><th style = \"text-align: left;\">DT_DOD_DECT_CD</th><th style = \"text-align: left;\">DT_DOD_DECT_GN_ZS</th><th style = \"text-align: left;\">DT_DOD_DIMF_CD</th><th style = \"text-align: left;\">DT_DOD_DLXF_CD</th><th style = \"text-align: left;\">DT_DOD_DPNG_CD</th><th style = \"text-align: left;\">DT_DOD_DPPG_CD</th><th style = \"text-align: left;\">DT_DOD_DSTC_CD</th><th style = \"text-align: left;\">DT_DOD_DSTC_IR_ZS</th><th style = \"text-align: left;\">DT_DOD_DSTC_XP_ZS</th><th style = \"text-align: left;\">DT_DOD_DSTC_ZS</th><th style = \"text-align: right;\">&ctdot;</th></tr><tr class = \"subheader headerLastRow\"><th class = \"rowNumber\" style = \"font-weight: bold; text-align: right;\"></th><th title = \"String\" style = \"text-align: left;\">String</th><th title = \"String3\" style = \"text-align: left;\">String3</th><th title = \"Int16\" style = \"text-align: left;\">Int16</th><th title = \"Union{Missing, Float64}\" style = \"text-align: left;\">Float64?</th><th title = \"Union{Missing, Float64}\" style = \"text-align: left;\">Float64?</th><th title = \"Union{Missing, Float64}\" style = \"text-align: left;\">Float64?</th><th title = \"Union{Missing, Float64}\" style = \"text-align: left;\">Float64?</th><th title = \"Union{Missing, Float64}\" style = \"text-align: left;\">Float64?</th><th title = \"Union{Missing, Float64}\" style = \"text-align: left;\">Float64?</th><th title = \"Union{Missing, Float64}\" style = \"text-align: left;\">Float64?</th><th title = \"Union{Missing, Float64}\" style = \"text-align: left;\">Float64?</th><th title = \"Union{Missing, Float64}\" style = \"text-align: left;\">Float64?</th><th title = \"Union{Missing, Float64}\" style = \"text-align: left;\">Float64?</th><th title = \"Union{Missing, Float64}\" style = \"text-align: left;\">Float64?</th><th title = \"Union{Missing, Float64}\" style = \"text-align: left;\">Float64?</th><th title = \"Union{Missing, Float64}\" style = \"text-align: left;\">Float64?</th><th title = \"Union{Missing, Float64}\" style = \"text-align: left;\">Float64?</th><th title = \"Union{Missing, Float64}\" style = \"text-align: left;\">Float64?</th><th title = \"Union{Missing, Float64}\" style = \"text-align: left;\">Float64?</th><th title = \"Union{Missing, Float64}\" style = \"text-align: left;\">Float64?</th><th title = \"Union{Missing, Float64}\" style = \"text-align: left;\">Float64?</th><th title = \"Union{Missing, Float64}\" style = \"text-align: left;\">Float64?</th><th title = \"Union{Missing, Float64}\" style = \"text-align: left;\">Float64?</th><th title = \"Union{Missing, Float64}\" style = \"text-align: left;\">Float64?</th><th title = \"Union{Missing, Float64}\" style = \"text-align: left;\">Float64?</th><th title = \"Union{Missing, Float64}\" style = \"text-align: left;\">Float64?</th><th title = \"Union{Missing, Float64}\" style = \"text-align: left;\">Float64?</th><th title = \"Union{Missing, Float64}\" style = \"text-align: left;\">Float64?</th><th title = \"Union{Missing, Float64}\" style = \"text-align: left;\">Float64?</th><th title = \"Union{Missing, Float64}\" style = \"text-align: left;\">Float64?</th><th title = \"Union{Missing, Float64}\" style = \"text-align: left;\">Float64?</th><th title = \"Union{Missing, Float64}\" style = \"text-align: left;\">Float64?</th><th title = \"Union{Missing, Float64}\" style = \"text-align: left;\">Float64?</th><th title = \"Union{Missing, Float64}\" style = \"text-align: left;\">Float64?</th><th title = \"Union{Missing, Float64}\" style = \"text-align: left;\">Float64?</th><th title = \"Union{Missing, Float64}\" style = \"text-align: left;\">Float64?</th><th title = \"Union{Missing, Float64}\" style = \"text-align: left;\">Float64?</th><th title = \"Union{Missing, Float64}\" style = \"text-align: left;\">Float64?</th><th title = \"Union{Missing, Float64}\" style = \"text-align: left;\">Float64?</th><th title = \"Union{Missing, Float64}\" style = \"text-align: left;\">Float64?</th><th title = \"Union{Missing, Float64}\" style = \"text-align: left;\">Float64?</th><th title = \"Union{Missing, Float64}\" style = \"text-align: left;\">Float64?</th><th title = \"Union{Missing, Float64}\" style = \"text-align: left;\">Float64?</th><th title = \"Union{Missing, Float64}\" style = \"text-align: left;\">Float64?</th><th title = \"Union{Missing, Float64}\" style = \"text-align: left;\">Float64?</th><th title = \"Union{Missing, Float64}\" style = \"text-align: left;\">Float64?</th><th title = \"Union{Missing, Float64}\" style = \"text-align: left;\">Float64?</th><th title = \"Union{Missing, Float64}\" style = \"text-align: left;\">Float64?</th><th title = \"Union{Missing, Float64}\" style = \"text-align: left;\">Float64?</th><th title = \"Union{Missing, Float64}\" style = \"text-align: left;\">Float64?</th><th title = \"Union{Missing, Float64}\" style = \"text-align: left;\">Float64?</th><th title = \"Union{Missing, Float64}\" style = \"text-align: left;\">Float64?</th><th title = \"Union{Missing, Float64}\" style = \"text-align: left;\">Float64?</th><th title = \"Union{Missing, Float64}\" style = \"text-align: left;\">Float64?</th><th title = \"Union{Missing, Float64}\" style = \"text-align: left;\">Float64?</th><th title = \"Union{Missing, Float64}\" style = \"text-align: left;\">Float64?</th><th title = \"Union{Missing, Float64}\" style = \"text-align: left;\">Float64?</th><th title = \"Union{Missing, Float64}\" style = \"text-align: left;\">Float64?</th><th title = \"Union{Missing, Float64}\" style = \"text-align: left;\">Float64?</th><th title = \"Union{Missing, Float64}\" style = \"text-align: left;\">Float64?</th><th title = \"Union{Missing, Float64}\" style = \"text-align: left;\">Float64?</th><th title = \"Union{Missing, Float64}\" style = \"text-align: left;\">Float64?</th><th title = \"Union{Missing, Float64}\" style = \"text-align: left;\">Float64?</th><th title = \"Union{Missing, Float64}\" style = \"text-align: left;\">Float64?</th><th title = \"Union{Missing, Float64}\" style = \"text-align: left;\">Float64?</th><th title = \"Union{Missing, Float64}\" style = \"text-align: left;\">Float64?</th><th title = \"Union{Missing, Float64}\" style = \"text-align: left;\">Float64?</th><th title = \"Union{Missing, Float64}\" style = \"text-align: left;\">Float64?</th><th title = \"Union{Missing, Float64}\" style = \"text-align: left;\">Float64?</th><th title = \"Union{Missing, Float64}\" style = \"text-align: left;\">Float64?</th><th title = \"Union{Missing, Float64}\" style = \"text-align: left;\">Float64?</th><th title = \"Union{Missing, Float64}\" style = \"text-align: left;\">Float64?</th><th title = \"Union{Missing, Float64}\" style = \"text-align: left;\">Float64?</th><th title = \"Union{Missing, Float64}\" style = \"text-align: left;\">Float64?</th><th title = \"Union{Missing, Float64}\" style = \"text-align: left;\">Float64?</th><th title = \"Union{Missing, Float64}\" style = \"text-align: left;\">Float64?</th><th title = \"Union{Missing, Float64}\" style = \"text-align: left;\">Float64?</th><th title = \"Union{Missing, Float64}\" style = \"text-align: left;\">Float64?</th><th title = \"Union{Missing, Float64}\" style = \"text-align: left;\">Float64?</th><th title = \"Union{Missing, Float64}\" style = \"text-align: left;\">Float64?</th><th title = \"Union{Missing, Float64}\" style = \"text-align: left;\">Float64?</th><th title = \"Union{Missing, Float64}\" style = \"text-align: left;\">Float64?</th><th title = \"Union{Missing, Float64}\" style = \"text-align: left;\">Float64?</th><th title = \"Union{Missing, Float64}\" style = \"text-align: left;\">Float64?</th><th title = \"Union{Missing, Float64}\" style = \"text-align: left;\">Float64?</th><th title = \"Union{Missing, Float64}\" style = \"text-align: left;\">Float64?</th><th title = \"Union{Missing, Float64}\" style = \"text-align: left;\">Float64?</th><th title = \"Union{Missing, Float64}\" style = \"text-align: left;\">Float64?</th><th title = \"Union{Missing, Float64}\" style = \"text-align: left;\">Float64?</th><th title = \"Union{Missing, Float64}\" style = \"text-align: left;\">Float64?</th><th title = \"Union{Missing, Float64}\" style = \"text-align: left;\">Float64?</th><th title = \"Union{Missing, Float64}\" style = \"text-align: left;\">Float64?</th><th title = \"Union{Missing, Float64}\" style = \"text-align: left;\">Float64?</th><th title = \"Union{Missing, Float64}\" style = \"text-align: left;\">Float64?</th><th title = \"Union{Missing, Float64}\" style = \"text-align: left;\">Float64?</th><th title = \"Union{Missing, Float64}\" style = \"text-align: left;\">Float64?</th><th title = \"Union{Missing, Float64}\" style = \"text-align: left;\">Float64?</th><th title = \"Union{Missing, Float64}\" style = \"text-align: left;\">Float64?</th><th title = \"Union{Missing, Float64}\" style = \"text-align: left;\">Float64?</th><th title = \"Union{Missing, Float64}\" style = \"text-align: left;\">Float64?</th><th title = \"Union{Missing, Float64}\" style = \"text-align: right;\">&ctdot;</th></tr></thead><tbody><tr><td class = \"rowNumber\" style = \"font-weight: bold; text-align: right;\">1</td><td style = \"text-align: left;\">Aruba</td><td style = \"text-align: left;\">ABW</td><td style = \"text-align: right;\">1960</td><td style = \"font-style: italic; text-align: right;\">missing</td><td style = \"font-style: italic; text-align: right;\">missing</td><td style = \"font-style: italic; text-align: right;\">missing</td><td style = \"font-style: italic; text-align: right;\">missing</td><td style = \"font-style: italic; text-align: right;\">missing</td><td style = \"font-style: italic; text-align: right;\">missing</td><td style = \"font-style: italic; text-align: right;\">missing</td><td style = \"font-style: italic; text-align: right;\">missing</td><td style = \"font-style: italic; text-align: right;\">missing</td><td style = \"font-style: italic; text-align: right;\">missing</td><td style = \"font-style: italic; text-align: right;\">missing</td><td style = \"font-style: italic; text-align: right;\">missing</td><td style = \"font-style: italic; text-align: right;\">missing</td><td style = \"font-style: italic; text-align: right;\">missing</td><td style = \"font-style: italic; text-align: right;\">missing</td><td style = \"font-style: italic; text-align: right;\">missing</td><td style = \"font-style: italic; text-align: right;\">missing</td><td style = \"font-style: italic; text-align: right;\">missing</td><td style = \"font-style: italic; text-align: right;\">missing</td><td style = \"font-style: italic; text-align: right;\">missing</td><td style = \"font-style: italic; text-align: right;\">missing</td><td style = \"font-style: italic; text-align: right;\">missing</td><td style = \"font-style: italic; text-align: right;\">missing</td><td style = \"font-style: italic; text-align: right;\">missing</td><td style = \"font-style: italic; text-align: right;\">missing</td><td style = \"font-style: italic; text-align: right;\">missing</td><td style = \"font-style: italic; text-align: right;\">missing</td><td style = \"font-style: italic; text-align: right;\">missing</td><td style = \"font-style: italic; text-align: right;\">missing</td><td style = \"font-style: italic; text-align: right;\">missing</td><td style = \"font-style: italic; text-align: right;\">missing</td><td style = \"font-style: italic; text-align: right;\">missing</td><td style = \"font-style: italic; text-align: right;\">missing</td><td style = \"font-style: italic; text-align: right;\">missing</td><td style = \"font-style: italic; text-align: right;\">missing</td><td style = \"font-style: italic; text-align: right;\">missing</td><td style = \"font-style: italic; text-align: right;\">missing</td><td style = \"font-style: italic; text-align: right;\">missing</td><td style = \"font-style: italic; text-align: right;\">missing</td><td style = \"font-style: italic; text-align: right;\">missing</td><td style = \"font-style: italic; text-align: right;\">missing</td><td style = \"font-style: italic; text-align: right;\">missing</td><td style = \"font-style: italic; text-align: right;\">missing</td><td style = \"font-style: italic; text-align: right;\">missing</td><td style = \"font-style: italic; text-align: right;\">missing</td><td style = \"font-style: italic; text-align: right;\">missing</td><td style = \"font-style: italic; text-align: right;\">missing</td><td style = \"font-style: italic; text-align: right;\">missing</td><td style = \"font-style: italic; text-align: right;\">missing</td><td style = \"font-style: italic; text-align: right;\">missing</td><td style = \"font-style: italic; text-align: right;\">missing</td><td style = \"font-style: italic; text-align: right;\">missing</td><td style = \"font-style: italic; text-align: right;\">missing</td><td style = \"font-style: italic; text-align: right;\">missing</td><td style = \"font-style: italic; text-align: right;\">missing</td><td style = \"font-style: italic; text-align: right;\">missing</td><td style = \"font-style: italic; text-align: right;\">missing</td><td style = \"font-style: italic; text-align: right;\">missing</td><td style = \"font-style: italic; text-align: right;\">missing</td><td style = \"font-style: italic; text-align: right;\">missing</td><td style = \"font-style: italic; text-align: right;\">missing</td><td style = \"font-style: italic; text-align: right;\">missing</td><td style = \"font-style: italic; text-align: right;\">missing</td><td style = \"font-style: italic; text-align: right;\">missing</td><td style = \"font-style: italic; text-align: right;\">missing</td><td style = \"font-style: italic; text-align: right;\">missing</td><td style = \"font-style: italic; text-align: right;\">missing</td><td style = \"font-style: italic; text-align: right;\">missing</td><td style = \"font-style: italic; text-align: right;\">missing</td><td style = \"font-style: italic; text-align: right;\">missing</td><td style = \"font-style: italic; text-align: right;\">missing</td><td style = \"font-style: italic; text-align: right;\">missing</td><td style = \"font-style: italic; text-align: right;\">missing</td><td style = \"font-style: italic; text-align: right;\">missing</td><td style = \"font-style: italic; text-align: right;\">missing</td><td style = \"font-style: italic; text-align: right;\">missing</td><td style = \"font-style: italic; text-align: right;\">missing</td><td style = \"font-style: italic; text-align: right;\">missing</td><td style = \"font-style: italic; text-align: right;\">missing</td><td style = \"font-style: italic; text-align: right;\">missing</td><td style = \"font-style: italic; text-align: right;\">missing</td><td style = \"font-style: italic; text-align: right;\">missing</td><td style = \"font-style: italic; text-align: right;\">missing</td><td style = \"font-style: italic; text-align: right;\">missing</td><td style = \"font-style: italic; text-align: right;\">missing</td><td style = \"font-style: italic; text-align: right;\">missing</td><td style = \"font-style: italic; text-align: right;\">missing</td><td style = \"font-style: italic; text-align: right;\">missing</td><td style = \"font-style: italic; text-align: right;\">missing</td><td style = \"font-style: italic; text-align: right;\">missing</td><td style = \"font-style: italic; text-align: right;\">missing</td><td style = \"font-style: italic; text-align: right;\">missing</td><td style = \"font-style: italic; text-align: right;\">missing</td><td style = \"font-style: italic; text-align: right;\">missing</td><td style = \"font-style: italic; text-align: right;\">missing</td><td style = \"font-style: italic; text-align: right;\">missing</td><td style = \"font-style: italic; text-align: right;\">missing</td><td style = \"text-align: right;\">&ctdot;</td></tr><tr><td class = \"rowNumber\" style = \"font-weight: bold; text-align: right;\">2</td><td style = \"text-align: left;\">Aruba</td><td style = \"text-align: left;\">ABW</td><td style = \"text-align: right;\">1961</td><td style = \"font-style: italic; text-align: right;\">missing</td><td style = \"font-style: italic; text-align: right;\">missing</td><td style = \"font-style: italic; text-align: right;\">missing</td><td style = \"text-align: right;\">20.0</td><td style = \"text-align: right;\">11.1111</td><td style = \"text-align: right;\">2000.0</td><td style = \"text-align: right;\">0.0398057</td><td style = \"text-align: right;\">11.1111</td><td style = \"font-style: italic; text-align: right;\">missing</td><td style = \"font-style: italic; text-align: right;\">missing</td><td style = \"font-style: italic; text-align: right;\">missing</td><td style = \"font-style: italic; text-align: right;\">missing</td><td style = \"font-style: italic; text-align: right;\">missing</td><td style = \"text-align: right;\">180.0</td><td style = \"font-style: italic; text-align: right;\">missing</td><td style = \"font-style: italic; text-align: right;\">missing</td><td style = \"font-style: italic; text-align: right;\">missing</td><td style = \"font-style: italic; text-align: right;\">missing</td><td style = \"text-align: right;\">180.0</td><td style = \"font-style: italic; text-align: right;\">missing</td><td style = \"font-style: italic; text-align: right;\">missing</td><td style = \"font-style: italic; text-align: right;\">missing</td><td style = \"font-style: italic; text-align: right;\">missing</td><td style = \"font-style: italic; text-align: right;\">missing</td><td style = \"font-style: italic; text-align: right;\">missing</td><td style = \"font-style: italic; text-align: right;\">missing</td><td style = \"font-style: italic; text-align: right;\">missing</td><td style = \"font-style: italic; text-align: right;\">missing</td><td style = \"font-style: italic; text-align: right;\">missing</td><td style = \"font-style: italic; text-align: right;\">missing</td><td style = \"font-style: italic; text-align: right;\">missing</td><td style = \"font-style: italic; text-align: right;\">missing</td><td style = \"font-style: italic; text-align: right;\">missing</td><td style = \"font-style: italic; text-align: right;\">missing</td><td style = \"font-style: italic; text-align: right;\">missing</td><td style = \"font-style: italic; text-align: right;\">missing</td><td style = \"font-style: italic; text-align: right;\">missing</td><td style = \"font-style: italic; text-align: right;\">missing</td><td style = \"font-style: italic; text-align: right;\">missing</td><td style = \"font-style: italic; text-align: right;\">missing</td><td style = \"font-style: italic; text-align: right;\">missing</td><td style = \"font-style: italic; text-align: right;\">missing</td><td style = \"font-style: italic; text-align: right;\">missing</td><td style = \"font-style: italic; text-align: right;\">missing</td><td style = \"font-style: italic; text-align: right;\">missing</td><td style = \"font-style: italic; text-align: right;\">missing</td><td style = \"font-style: italic; text-align: right;\">missing</td><td style = \"font-style: italic; text-align: right;\">missing</td><td style = \"font-style: italic; text-align: right;\">missing</td><td style = \"font-style: italic; text-align: right;\">missing</td><td style = \"font-style: italic; text-align: right;\">missing</td><td style = \"font-style: italic; text-align: right;\">missing</td><td style = \"font-style: italic; text-align: right;\">missing</td><td style = \"font-style: italic; text-align: right;\">missing</td><td style = \"font-style: italic; text-align: right;\">missing</td><td style = \"font-style: italic; text-align: right;\">missing</td><td style = \"font-style: italic; text-align: right;\">missing</td><td style = \"font-style: italic; text-align: right;\">missing</td><td style = \"font-style: italic; text-align: right;\">missing</td><td style = \"font-style: italic; text-align: right;\">missing</td><td style = \"font-style: italic; text-align: right;\">missing</td><td style = \"font-style: italic; text-align: right;\">missing</td><td style = \"font-style: italic; text-align: right;\">missing</td><td style = \"font-style: italic; text-align: right;\">missing</td><td style = \"font-style: italic; text-align: right;\">missing</td><td style = \"font-style: italic; text-align: right;\">missing</td><td style = \"font-style: italic; text-align: right;\">missing</td><td style = \"font-style: italic; text-align: right;\">missing</td><td style = \"font-style: italic; text-align: right;\">missing</td><td style = \"font-style: italic; text-align: right;\">missing</td><td style = \"font-style: italic; text-align: right;\">missing</td><td style = \"font-style: italic; text-align: right;\">missing</td><td style = \"font-style: italic; text-align: right;\">missing</td><td style = \"font-style: italic; text-align: right;\">missing</td><td style = \"font-style: italic; text-align: right;\">missing</td><td style = \"font-style: italic; text-align: right;\">missing</td><td style = \"font-style: italic; text-align: right;\">missing</td><td style = \"font-style: italic; text-align: right;\">missing</td><td style = \"font-style: italic; text-align: right;\">missing</td><td style = \"font-style: italic; text-align: right;\">missing</td><td style = \"font-style: italic; text-align: right;\">missing</td><td style = \"font-style: italic; text-align: right;\">missing</td><td style = \"font-style: italic; text-align: right;\">missing</td><td style = \"font-style: italic; text-align: right;\">missing</td><td style = \"font-style: italic; text-align: right;\">missing</td><td style = \"font-style: italic; text-align: right;\">missing</td><td style = \"font-style: italic; text-align: right;\">missing</td><td style = \"font-style: italic; text-align: right;\">missing</td><td style = \"font-style: italic; text-align: right;\">missing</td><td style = \"font-style: italic; text-align: right;\">missing</td><td style = \"font-style: italic; text-align: right;\">missing</td><td style = \"font-style: italic; text-align: right;\">missing</td><td style = \"font-style: italic; text-align: right;\">missing</td><td style = \"font-style: italic; text-align: right;\">missing</td><td style = \"font-style: italic; text-align: right;\">missing</td><td style = \"font-style: italic; text-align: right;\">missing</td><td style = \"font-style: italic; text-align: right;\">missing</td><td style = \"text-align: right;\">&ctdot;</td></tr><tr><td class = \"rowNumber\" style = \"font-weight: bold; text-align: right;\">3</td><td style = \"text-align: left;\">Aruba</td><td style = \"text-align: left;\">ABW</td><td style = \"text-align: right;\">1962</td><td style = \"font-style: italic; text-align: right;\">missing</td><td style = \"font-style: italic; text-align: right;\">missing</td><td style = \"font-style: italic; text-align: right;\">missing</td><td style = \"text-align: right;\">20.0</td><td style = \"text-align: right;\">11.1111</td><td style = \"text-align: right;\">2000.0</td><td style = \"text-align: right;\">0.0390183</td><td style = \"text-align: right;\">11.1111</td><td style = \"font-style: italic; text-align: right;\">missing</td><td style = \"font-style: italic; text-align: right;\">missing</td><td style = \"font-style: italic; text-align: right;\">missing</td><td style = \"font-style: italic; text-align: right;\">missing</td><td style = \"font-style: italic; text-align: right;\">missing</td><td style = \"text-align: right;\">180.0</td><td style = \"font-style: italic; text-align: right;\">missing</td><td style = \"font-style: italic; text-align: right;\">missing</td><td style = \"font-style: italic; text-align: right;\">missing</td><td style = \"font-style: italic; text-align: right;\">missing</td><td style = \"text-align: right;\">180.0</td><td style = \"font-style: italic; text-align: right;\">missing</td><td style = \"font-style: italic; text-align: right;\">missing</td><td style = \"font-style: italic; text-align: right;\">missing</td><td style = \"font-style: italic; text-align: right;\">missing</td><td style = \"font-style: italic; text-align: right;\">missing</td><td style = \"font-style: italic; text-align: right;\">missing</td><td style = \"font-style: italic; text-align: right;\">missing</td><td style = \"font-style: italic; text-align: right;\">missing</td><td style = \"font-style: italic; text-align: right;\">missing</td><td style = \"font-style: italic; text-align: right;\">missing</td><td style = \"font-style: italic; text-align: right;\">missing</td><td style = \"font-style: italic; text-align: right;\">missing</td><td style = \"font-style: italic; text-align: right;\">missing</td><td style = \"font-style: italic; text-align: right;\">missing</td><td style = \"font-style: italic; text-align: right;\">missing</td><td style = \"font-style: italic; text-align: right;\">missing</td><td style = \"font-style: italic; text-align: right;\">missing</td><td style = \"font-style: italic; text-align: right;\">missing</td><td style = \"font-style: italic; text-align: right;\">missing</td><td style = \"font-style: italic; text-align: right;\">missing</td><td style = \"font-style: italic; text-align: right;\">missing</td><td style = \"font-style: italic; text-align: right;\">missing</td><td style = \"font-style: italic; text-align: right;\">missing</td><td style = \"font-style: italic; text-align: right;\">missing</td><td style = \"font-style: italic; text-align: right;\">missing</td><td style = \"font-style: italic; text-align: right;\">missing</td><td style = \"font-style: italic; text-align: right;\">missing</td><td style = \"font-style: italic; text-align: right;\">missing</td><td style = \"font-style: italic; text-align: right;\">missing</td><td style = \"font-style: italic; text-align: right;\">missing</td><td style = \"font-style: italic; text-align: right;\">missing</td><td style = \"font-style: italic; text-align: right;\">missing</td><td style = \"font-style: italic; text-align: right;\">missing</td><td style = \"font-style: italic; text-align: right;\">missing</td><td style = \"font-style: italic; text-align: right;\">missing</td><td style = \"font-style: italic; text-align: right;\">missing</td><td style = \"font-style: italic; text-align: right;\">missing</td><td style = \"font-style: italic; text-align: right;\">missing</td><td style = \"font-style: italic; text-align: right;\">missing</td><td style = \"font-style: italic; text-align: right;\">missing</td><td style = \"font-style: italic; text-align: right;\">missing</td><td style = \"font-style: italic; text-align: right;\">missing</td><td style = \"font-style: italic; text-align: right;\">missing</td><td style = \"font-style: italic; text-align: right;\">missing</td><td style = \"font-style: italic; text-align: right;\">missing</td><td style = \"font-style: italic; text-align: right;\">missing</td><td style = \"font-style: italic; text-align: right;\">missing</td><td style = \"font-style: italic; text-align: right;\">missing</td><td style = \"font-style: italic; text-align: right;\">missing</td><td style = \"font-style: italic; text-align: right;\">missing</td><td style = \"font-style: italic; text-align: right;\">missing</td><td style = \"font-style: italic; text-align: right;\">missing</td><td style = \"font-style: italic; text-align: right;\">missing</td><td style = \"font-style: italic; text-align: right;\">missing</td><td style = \"font-style: italic; text-align: right;\">missing</td><td style = \"font-style: italic; text-align: right;\">missing</td><td style = \"font-style: italic; text-align: right;\">missing</td><td style = \"font-style: italic; text-align: right;\">missing</td><td style = \"font-style: italic; text-align: right;\">missing</td><td style = \"font-style: italic; text-align: right;\">missing</td><td style = \"font-style: italic; text-align: right;\">missing</td><td style = \"font-style: italic; text-align: right;\">missing</td><td style = \"font-style: italic; text-align: right;\">missing</td><td style = \"font-style: italic; text-align: right;\">missing</td><td style = \"font-style: italic; text-align: right;\">missing</td><td style = \"font-style: italic; text-align: right;\">missing</td><td style = \"font-style: italic; text-align: right;\">missing</td><td style = \"font-style: italic; text-align: right;\">missing</td><td style = \"font-style: italic; text-align: right;\">missing</td><td style = \"font-style: italic; text-align: right;\">missing</td><td style = \"font-style: italic; text-align: right;\">missing</td><td style = \"font-style: italic; text-align: right;\">missing</td><td style = \"font-style: italic; text-align: right;\">missing</td><td style = \"font-style: italic; text-align: right;\">missing</td><td style = \"font-style: italic; text-align: right;\">missing</td><td style = \"font-style: italic; text-align: right;\">missing</td><td style = \"font-style: italic; text-align: right;\">missing</td><td style = \"font-style: italic; text-align: right;\">missing</td><td style = \"text-align: right;\">&ctdot;</td></tr><tr><td class = \"rowNumber\" style = \"font-weight: bold; text-align: right;\">4</td><td style = \"text-align: left;\">Aruba</td><td style = \"text-align: left;\">ABW</td><td style = \"text-align: right;\">1963</td><td style = \"font-style: italic; text-align: right;\">missing</td><td style = \"font-style: italic; text-align: right;\">missing</td><td style = \"font-style: italic; text-align: right;\">missing</td><td style = \"text-align: right;\">20.0</td><td style = \"text-align: right;\">11.1111</td><td style = \"text-align: right;\">2000.0</td><td style = \"text-align: right;\">0.0382966</td><td style = \"text-align: right;\">11.1111</td><td style = \"font-style: italic; text-align: right;\">missing</td><td style = \"font-style: italic; text-align: right;\">missing</td><td style = \"font-style: italic; text-align: right;\">missing</td><td style = \"font-style: italic; text-align: right;\">missing</td><td style = \"font-style: italic; text-align: right;\">missing</td><td style = \"text-align: right;\">180.0</td><td style = \"font-style: italic; text-align: right;\">missing</td><td style = \"font-style: italic; text-align: right;\">missing</td><td style = \"font-style: italic; text-align: right;\">missing</td><td style = \"font-style: italic; text-align: right;\">missing</td><td style = \"text-align: right;\">180.0</td><td style = \"font-style: italic; text-align: right;\">missing</td><td style = \"font-style: italic; text-align: right;\">missing</td><td style = \"font-style: italic; text-align: right;\">missing</td><td style = \"font-style: italic; text-align: right;\">missing</td><td style = \"font-style: italic; text-align: right;\">missing</td><td style = \"font-style: italic; text-align: right;\">missing</td><td style = \"font-style: italic; text-align: right;\">missing</td><td style = \"font-style: italic; text-align: right;\">missing</td><td style = \"font-style: italic; text-align: right;\">missing</td><td style = \"font-style: italic; text-align: right;\">missing</td><td style = \"font-style: italic; text-align: right;\">missing</td><td style = \"font-style: italic; text-align: right;\">missing</td><td style = \"font-style: italic; text-align: right;\">missing</td><td style = \"font-style: italic; text-align: right;\">missing</td><td style = \"font-style: italic; text-align: right;\">missing</td><td style = \"font-style: italic; text-align: right;\">missing</td><td style = \"font-style: italic; text-align: right;\">missing</td><td style = \"font-style: italic; text-align: right;\">missing</td><td style = \"font-style: italic; text-align: right;\">missing</td><td style = \"font-style: italic; text-align: right;\">missing</td><td style = \"font-style: italic; text-align: right;\">missing</td><td style = \"font-style: italic; text-align: right;\">missing</td><td style = \"font-style: italic; text-align: right;\">missing</td><td style = \"font-style: italic; text-align: right;\">missing</td><td style = \"font-style: italic; text-align: right;\">missing</td><td style = \"font-style: italic; text-align: right;\">missing</td><td style = \"font-style: italic; text-align: right;\">missing</td><td style = \"font-style: italic; text-align: right;\">missing</td><td style = \"font-style: italic; text-align: right;\">missing</td><td style = \"font-style: italic; text-align: right;\">missing</td><td style = \"font-style: italic; text-align: right;\">missing</td><td style = \"font-style: italic; text-align: right;\">missing</td><td style = \"font-style: italic; text-align: right;\">missing</td><td style = \"font-style: italic; text-align: right;\">missing</td><td style = \"font-style: italic; text-align: right;\">missing</td><td style = \"font-style: italic; text-align: right;\">missing</td><td style = \"font-style: italic; text-align: right;\">missing</td><td style = \"font-style: italic; text-align: right;\">missing</td><td style = \"font-style: italic; text-align: right;\">missing</td><td style = \"font-style: italic; text-align: right;\">missing</td><td style = \"font-style: italic; text-align: right;\">missing</td><td style = \"font-style: italic; text-align: right;\">missing</td><td style = \"font-style: italic; text-align: right;\">missing</td><td style = \"font-style: italic; text-align: right;\">missing</td><td style = \"font-style: italic; text-align: right;\">missing</td><td style = \"font-style: italic; text-align: right;\">missing</td><td style = \"font-style: italic; text-align: right;\">missing</td><td style = \"font-style: italic; text-align: right;\">missing</td><td style = \"font-style: italic; text-align: right;\">missing</td><td style = \"font-style: italic; text-align: right;\">missing</td><td style = \"font-style: italic; text-align: right;\">missing</td><td style = \"font-style: italic; text-align: right;\">missing</td><td style = \"font-style: italic; text-align: right;\">missing</td><td style = \"font-style: italic; text-align: right;\">missing</td><td style = \"font-style: italic; text-align: right;\">missing</td><td style = \"font-style: italic; text-align: right;\">missing</td><td style = \"font-style: italic; text-align: right;\">missing</td><td style = \"font-style: italic; text-align: right;\">missing</td><td style = \"font-style: italic; text-align: right;\">missing</td><td style = \"font-style: italic; text-align: right;\">missing</td><td style = \"font-style: italic; text-align: right;\">missing</td><td style = \"font-style: italic; text-align: right;\">missing</td><td style = \"font-style: italic; text-align: right;\">missing</td><td style = \"font-style: italic; text-align: right;\">missing</td><td style = \"font-style: italic; text-align: right;\">missing</td><td style = \"font-style: italic; text-align: right;\">missing</td><td style = \"font-style: italic; text-align: right;\">missing</td><td style = \"font-style: italic; text-align: right;\">missing</td><td style = \"font-style: italic; text-align: right;\">missing</td><td style = \"font-style: italic; text-align: right;\">missing</td><td style = \"font-style: italic; text-align: right;\">missing</td><td style = \"font-style: italic; text-align: right;\">missing</td><td style = \"font-style: italic; text-align: right;\">missing</td><td style = \"font-style: italic; text-align: right;\">missing</td><td style = \"font-style: italic; text-align: right;\">missing</td><td style = \"font-style: italic; text-align: right;\">missing</td><td style = \"font-style: italic; text-align: right;\">missing</td><td style = \"font-style: italic; text-align: right;\">missing</td><td style = \"text-align: right;\">&ctdot;</td></tr><tr><td class = \"rowNumber\" style = \"font-weight: bold; text-align: right;\">5</td><td style = \"text-align: left;\">Aruba</td><td style = \"text-align: left;\">ABW</td><td style = \"text-align: right;\">1964</td><td style = \"font-style: italic; text-align: right;\">missing</td><td style = \"font-style: italic; text-align: right;\">missing</td><td style = \"font-style: italic; text-align: right;\">missing</td><td style = \"text-align: right;\">20.0</td><td style = \"text-align: right;\">11.1111</td><td style = \"text-align: right;\">2000.0</td><td style = \"text-align: right;\">0.0376527</td><td style = \"text-align: right;\">11.1111</td><td style = \"font-style: italic; text-align: right;\">missing</td><td style = \"font-style: italic; text-align: right;\">missing</td><td style = \"font-style: italic; text-align: right;\">missing</td><td style = \"font-style: italic; text-align: right;\">missing</td><td style = \"font-style: italic; text-align: right;\">missing</td><td style = \"text-align: right;\">180.0</td><td style = \"font-style: italic; text-align: right;\">missing</td><td style = \"font-style: italic; text-align: right;\">missing</td><td style = \"font-style: italic; text-align: right;\">missing</td><td style = \"font-style: italic; text-align: right;\">missing</td><td style = \"text-align: right;\">180.0</td><td style = \"font-style: italic; text-align: right;\">missing</td><td style = \"font-style: italic; text-align: right;\">missing</td><td style = \"font-style: italic; text-align: right;\">missing</td><td style = \"font-style: italic; text-align: right;\">missing</td><td style = \"font-style: italic; text-align: right;\">missing</td><td style = \"font-style: italic; text-align: right;\">missing</td><td style = \"font-style: italic; text-align: right;\">missing</td><td style = \"font-style: italic; text-align: right;\">missing</td><td style = \"font-style: italic; text-align: right;\">missing</td><td style = \"font-style: italic; text-align: right;\">missing</td><td style = \"font-style: italic; text-align: right;\">missing</td><td style = \"font-style: italic; text-align: right;\">missing</td><td style = \"font-style: italic; text-align: right;\">missing</td><td style = \"font-style: italic; text-align: right;\">missing</td><td style = \"font-style: italic; text-align: right;\">missing</td><td style = \"font-style: italic; text-align: right;\">missing</td><td style = \"font-style: italic; text-align: right;\">missing</td><td style = \"font-style: italic; text-align: right;\">missing</td><td style = \"font-style: italic; text-align: right;\">missing</td><td style = \"font-style: italic; text-align: right;\">missing</td><td style = \"font-style: italic; text-align: right;\">missing</td><td style = \"font-style: italic; text-align: right;\">missing</td><td style = \"font-style: italic; text-align: right;\">missing</td><td style = \"font-style: italic; text-align: right;\">missing</td><td style = \"font-style: italic; text-align: right;\">missing</td><td style = \"font-style: italic; text-align: right;\">missing</td><td style = \"font-style: italic; text-align: right;\">missing</td><td style = \"font-style: italic; text-align: right;\">missing</td><td style = \"font-style: italic; text-align: right;\">missing</td><td style = \"font-style: italic; text-align: right;\">missing</td><td style = \"font-style: italic; text-align: right;\">missing</td><td style = \"font-style: italic; text-align: right;\">missing</td><td style = \"font-style: italic; text-align: right;\">missing</td><td style = \"font-style: italic; text-align: right;\">missing</td><td style = \"font-style: italic; text-align: right;\">missing</td><td style = \"font-style: italic; text-align: right;\">missing</td><td style = \"font-style: italic; text-align: right;\">missing</td><td style = \"font-style: italic; text-align: right;\">missing</td><td style = \"font-style: italic; text-align: right;\">missing</td><td style = \"font-style: italic; text-align: right;\">missing</td><td style = \"font-style: italic; text-align: right;\">missing</td><td style = \"font-style: italic; text-align: right;\">missing</td><td style = \"font-style: italic; text-align: right;\">missing</td><td style = \"font-style: italic; text-align: right;\">missing</td><td style = \"font-style: italic; text-align: right;\">missing</td><td style = \"font-style: italic; text-align: right;\">missing</td><td style = \"font-style: italic; text-align: right;\">missing</td><td style = \"font-style: italic; text-align: right;\">missing</td><td style = \"font-style: italic; text-align: right;\">missing</td><td style = \"font-style: italic; text-align: right;\">missing</td><td style = \"font-style: italic; text-align: right;\">missing</td><td style = \"font-style: italic; text-align: right;\">missing</td><td style = \"font-style: italic; text-align: right;\">missing</td><td style = \"font-style: italic; text-align: right;\">missing</td><td style = \"font-style: italic; text-align: right;\">missing</td><td style = \"font-style: italic; text-align: right;\">missing</td><td style = \"font-style: italic; text-align: right;\">missing</td><td style = \"font-style: italic; text-align: right;\">missing</td><td style = \"font-style: italic; text-align: right;\">missing</td><td style = \"font-style: italic; text-align: right;\">missing</td><td style = \"font-style: italic; text-align: right;\">missing</td><td style = \"font-style: italic; text-align: right;\">missing</td><td style = \"font-style: italic; text-align: right;\">missing</td><td style = \"font-style: italic; text-align: right;\">missing</td><td style = \"font-style: italic; text-align: right;\">missing</td><td style = \"font-style: italic; text-align: right;\">missing</td><td style = \"font-style: italic; text-align: right;\">missing</td><td style = \"font-style: italic; text-align: right;\">missing</td><td style = \"font-style: italic; text-align: right;\">missing</td><td style = \"font-style: italic; text-align: right;\">missing</td><td style = \"font-style: italic; text-align: right;\">missing</td><td style = \"font-style: italic; text-align: right;\">missing</td><td style = \"font-style: italic; text-align: right;\">missing</td><td style = \"font-style: italic; text-align: right;\">missing</td><td style = \"font-style: italic; text-align: right;\">missing</td><td style = \"font-style: italic; text-align: right;\">missing</td><td style = \"font-style: italic; text-align: right;\">missing</td><td style = \"font-style: italic; text-align: right;\">missing</td><td style = \"text-align: right;\">&ctdot;</td></tr><tr><td class = \"rowNumber\" style = \"font-weight: bold; text-align: right;\">6</td><td style = \"text-align: left;\">Aruba</td><td style = \"text-align: left;\">ABW</td><td style = \"text-align: right;\">1965</td><td style = \"font-style: italic; text-align: right;\">missing</td><td style = \"font-style: italic; text-align: right;\">missing</td><td style = \"font-style: italic; text-align: right;\">missing</td><td style = \"text-align: right;\">20.0</td><td style = \"text-align: right;\">11.1111</td><td style = \"text-align: right;\">2000.0</td><td style = \"text-align: right;\">0.037092</td><td style = \"text-align: right;\">11.1111</td><td style = \"font-style: italic; text-align: right;\">missing</td><td style = \"font-style: italic; text-align: right;\">missing</td><td style = \"font-style: italic; text-align: right;\">missing</td><td style = \"font-style: italic; text-align: right;\">missing</td><td style = \"font-style: italic; text-align: right;\">missing</td><td style = \"text-align: right;\">180.0</td><td style = \"font-style: italic; text-align: right;\">missing</td><td style = \"font-style: italic; text-align: right;\">missing</td><td style = \"font-style: italic; text-align: right;\">missing</td><td style = \"font-style: italic; text-align: right;\">missing</td><td style = \"text-align: right;\">180.0</td><td style = \"font-style: italic; text-align: right;\">missing</td><td style = \"font-style: italic; text-align: right;\">missing</td><td style = \"font-style: italic; text-align: right;\">missing</td><td style = \"font-style: italic; text-align: right;\">missing</td><td style = \"font-style: italic; text-align: right;\">missing</td><td style = \"font-style: italic; text-align: right;\">missing</td><td style = \"font-style: italic; text-align: right;\">missing</td><td style = \"font-style: italic; text-align: right;\">missing</td><td style = \"font-style: italic; text-align: right;\">missing</td><td style = \"font-style: italic; text-align: right;\">missing</td><td style = \"font-style: italic; text-align: right;\">missing</td><td style = \"font-style: italic; text-align: right;\">missing</td><td style = \"font-style: italic; text-align: right;\">missing</td><td style = \"font-style: italic; text-align: right;\">missing</td><td style = \"font-style: italic; text-align: right;\">missing</td><td style = \"font-style: italic; text-align: right;\">missing</td><td style = \"font-style: italic; text-align: right;\">missing</td><td style = \"font-style: italic; text-align: right;\">missing</td><td style = \"font-style: italic; text-align: right;\">missing</td><td style = \"font-style: italic; text-align: right;\">missing</td><td style = \"font-style: italic; text-align: right;\">missing</td><td style = \"font-style: italic; text-align: right;\">missing</td><td style = \"font-style: italic; text-align: right;\">missing</td><td style = \"font-style: italic; text-align: right;\">missing</td><td style = \"font-style: italic; text-align: right;\">missing</td><td style = \"font-style: italic; text-align: right;\">missing</td><td style = \"font-style: italic; text-align: right;\">missing</td><td style = \"font-style: italic; text-align: right;\">missing</td><td style = \"font-style: italic; text-align: right;\">missing</td><td style = \"font-style: italic; text-align: right;\">missing</td><td style = \"font-style: italic; text-align: right;\">missing</td><td style = \"font-style: italic; text-align: right;\">missing</td><td style = \"font-style: italic; text-align: right;\">missing</td><td style = \"font-style: italic; text-align: right;\">missing</td><td style = \"font-style: italic; text-align: right;\">missing</td><td style = \"font-style: italic; text-align: right;\">missing</td><td style = \"font-style: italic; text-align: right;\">missing</td><td style = \"font-style: italic; text-align: right;\">missing</td><td style = \"font-style: italic; text-align: right;\">missing</td><td style = \"font-style: italic; text-align: right;\">missing</td><td style = \"font-style: italic; text-align: right;\">missing</td><td style = \"font-style: italic; text-align: right;\">missing</td><td style = \"font-style: italic; text-align: right;\">missing</td><td style = \"font-style: italic; text-align: right;\">missing</td><td style = \"font-style: italic; text-align: right;\">missing</td><td style = \"font-style: italic; text-align: right;\">missing</td><td style = \"font-style: italic; text-align: right;\">missing</td><td style = \"font-style: italic; text-align: right;\">missing</td><td style = \"font-style: italic; text-align: right;\">missing</td><td style = \"font-style: italic; text-align: right;\">missing</td><td style = \"font-style: italic; text-align: right;\">missing</td><td style = \"font-style: italic; text-align: right;\">missing</td><td style = \"font-style: italic; text-align: right;\">missing</td><td style = \"font-style: italic; text-align: right;\">missing</td><td style = \"font-style: italic; text-align: right;\">missing</td><td style = \"font-style: italic; text-align: right;\">missing</td><td style = \"font-style: italic; text-align: right;\">missing</td><td style = \"font-style: italic; text-align: right;\">missing</td><td style = \"font-style: italic; text-align: right;\">missing</td><td style = \"font-style: italic; text-align: right;\">missing</td><td style = \"font-style: italic; text-align: right;\">missing</td><td style = \"font-style: italic; text-align: right;\">missing</td><td style = \"font-style: italic; text-align: right;\">missing</td><td style = \"font-style: italic; text-align: right;\">missing</td><td style = \"font-style: italic; text-align: right;\">missing</td><td style = \"font-style: italic; text-align: right;\">missing</td><td style = \"font-style: italic; text-align: right;\">missing</td><td style = \"font-style: italic; text-align: right;\">missing</td><td style = \"font-style: italic; text-align: right;\">missing</td><td style = \"font-style: italic; text-align: right;\">missing</td><td style = \"font-style: italic; text-align: right;\">missing</td><td style = \"font-style: italic; text-align: right;\">missing</td><td style = \"font-style: italic; text-align: right;\">missing</td><td style = \"font-style: italic; text-align: right;\">missing</td><td style = \"font-style: italic; text-align: right;\">missing</td><td style = \"font-style: italic; text-align: right;\">missing</td><td style = \"font-style: italic; text-align: right;\">missing</td><td style = \"font-style: italic; text-align: right;\">missing</td><td style = \"text-align: right;\">&ctdot;</td></tr><tr><td class = \"rowNumber\" style = \"font-weight: bold; text-align: right;\">7</td><td style = \"text-align: left;\">Aruba</td><td style = \"text-align: left;\">ABW</td><td style = \"text-align: right;\">1966</td><td style = \"font-style: italic; text-align: right;\">missing</td><td style = \"font-style: italic; text-align: right;\">missing</td><td style = \"font-style: italic; text-align: right;\">missing</td><td style = \"text-align: right;\">20.0</td><td style = \"text-align: right;\">11.1111</td><td style = \"text-align: right;\">2000.0</td><td style = \"text-align: right;\">0.0366139</td><td style = \"text-align: right;\">11.1111</td><td style = \"font-style: italic; text-align: right;\">missing</td><td style = \"font-style: italic; text-align: right;\">missing</td><td style = \"font-style: italic; text-align: right;\">missing</td><td style = \"font-style: italic; text-align: right;\">missing</td><td style = \"font-style: italic; text-align: right;\">missing</td><td style = \"text-align: right;\">180.0</td><td style = \"font-style: italic; text-align: right;\">missing</td><td style = \"font-style: italic; text-align: right;\">missing</td><td style = \"font-style: italic; text-align: right;\">missing</td><td style = \"font-style: italic; text-align: right;\">missing</td><td style = \"text-align: right;\">180.0</td><td style = \"font-style: italic; text-align: right;\">missing</td><td style = \"font-style: italic; text-align: right;\">missing</td><td style = \"font-style: italic; text-align: right;\">missing</td><td style = \"font-style: italic; text-align: right;\">missing</td><td style = \"font-style: italic; text-align: right;\">missing</td><td style = \"font-style: italic; text-align: right;\">missing</td><td style = \"font-style: italic; text-align: right;\">missing</td><td style = \"font-style: italic; text-align: right;\">missing</td><td style = \"font-style: italic; text-align: right;\">missing</td><td style = \"font-style: italic; text-align: right;\">missing</td><td style = \"font-style: italic; text-align: right;\">missing</td><td style = \"font-style: italic; text-align: right;\">missing</td><td style = \"font-style: italic; text-align: right;\">missing</td><td style = \"font-style: italic; text-align: right;\">missing</td><td style = \"font-style: italic; text-align: right;\">missing</td><td style = \"font-style: italic; text-align: right;\">missing</td><td style = \"font-style: italic; text-align: right;\">missing</td><td style = \"font-style: italic; text-align: right;\">missing</td><td style = \"font-style: italic; text-align: right;\">missing</td><td style = \"font-style: italic; text-align: right;\">missing</td><td style = \"font-style: italic; text-align: right;\">missing</td><td style = \"font-style: italic; text-align: right;\">missing</td><td style = \"font-style: italic; text-align: right;\">missing</td><td style = \"font-style: italic; text-align: right;\">missing</td><td style = \"font-style: italic; text-align: right;\">missing</td><td style = \"font-style: italic; text-align: right;\">missing</td><td style = \"font-style: italic; text-align: right;\">missing</td><td style = \"font-style: italic; text-align: right;\">missing</td><td style = \"font-style: italic; text-align: right;\">missing</td><td style = \"font-style: italic; text-align: right;\">missing</td><td style = \"font-style: italic; text-align: right;\">missing</td><td style = \"font-style: italic; text-align: right;\">missing</td><td style = \"font-style: italic; text-align: right;\">missing</td><td style = \"font-style: italic; text-align: right;\">missing</td><td style = \"font-style: italic; text-align: right;\">missing</td><td style = \"font-style: italic; text-align: right;\">missing</td><td style = \"font-style: italic; text-align: right;\">missing</td><td style = \"font-style: italic; text-align: right;\">missing</td><td style = \"font-style: italic; text-align: right;\">missing</td><td style = \"font-style: italic; text-align: right;\">missing</td><td style = \"font-style: italic; text-align: right;\">missing</td><td style = \"font-style: italic; text-align: right;\">missing</td><td style = \"font-style: italic; text-align: right;\">missing</td><td style = \"font-style: italic; text-align: right;\">missing</td><td style = \"font-style: italic; text-align: right;\">missing</td><td style = \"font-style: italic; text-align: right;\">missing</td><td style = \"font-style: italic; text-align: right;\">missing</td><td style = \"font-style: italic; text-align: right;\">missing</td><td style = \"font-style: italic; text-align: right;\">missing</td><td style = \"font-style: italic; text-align: right;\">missing</td><td style = \"font-style: italic; text-align: right;\">missing</td><td style = \"font-style: italic; text-align: right;\">missing</td><td style = \"font-style: italic; text-align: right;\">missing</td><td style = \"font-style: italic; text-align: right;\">missing</td><td style = \"font-style: italic; text-align: right;\">missing</td><td style = \"font-style: italic; text-align: right;\">missing</td><td style = \"font-style: italic; text-align: right;\">missing</td><td style = \"font-style: italic; text-align: right;\">missing</td><td style = \"font-style: italic; text-align: right;\">missing</td><td style = \"font-style: italic; text-align: right;\">missing</td><td style = \"font-style: italic; text-align: right;\">missing</td><td style = \"font-style: italic; text-align: right;\">missing</td><td style = \"font-style: italic; text-align: right;\">missing</td><td style = \"font-style: italic; text-align: right;\">missing</td><td style = \"font-style: italic; text-align: right;\">missing</td><td style = \"font-style: italic; text-align: right;\">missing</td><td style = \"font-style: italic; text-align: right;\">missing</td><td style = \"font-style: italic; text-align: right;\">missing</td><td style = \"font-style: italic; text-align: right;\">missing</td><td style = \"font-style: italic; text-align: right;\">missing</td><td style = \"font-style: italic; text-align: right;\">missing</td><td style = \"font-style: italic; text-align: right;\">missing</td><td style = \"font-style: italic; text-align: right;\">missing</td><td style = \"font-style: italic; text-align: right;\">missing</td><td style = \"font-style: italic; text-align: right;\">missing</td><td style = \"font-style: italic; text-align: right;\">missing</td><td style = \"font-style: italic; text-align: right;\">missing</td><td style = \"font-style: italic; text-align: right;\">missing</td><td style = \"text-align: right;\">&ctdot;</td></tr><tr><td class = \"rowNumber\" style = \"font-weight: bold; text-align: right;\">8</td><td style = \"text-align: left;\">Aruba</td><td style = \"text-align: left;\">ABW</td><td style = \"text-align: right;\">1967</td><td style = \"font-style: italic; text-align: right;\">missing</td><td style = \"font-style: italic; text-align: right;\">missing</td><td style = \"font-style: italic; text-align: right;\">missing</td><td style = \"text-align: right;\">20.0</td><td style = \"text-align: right;\">11.1111</td><td style = \"text-align: right;\">2000.0</td><td style = \"text-align: right;\">0.036207</td><td style = \"text-align: right;\">11.1111</td><td style = \"font-style: italic; text-align: right;\">missing</td><td style = \"font-style: italic; text-align: right;\">missing</td><td style = \"font-style: italic; text-align: right;\">missing</td><td style = \"font-style: italic; text-align: right;\">missing</td><td style = \"font-style: italic; text-align: right;\">missing</td><td style = \"text-align: right;\">180.0</td><td style = \"font-style: italic; text-align: right;\">missing</td><td style = \"font-style: italic; text-align: right;\">missing</td><td style = \"font-style: italic; text-align: right;\">missing</td><td style = \"font-style: italic; text-align: right;\">missing</td><td style = \"text-align: right;\">180.0</td><td style = \"font-style: italic; text-align: right;\">missing</td><td style = \"font-style: italic; text-align: right;\">missing</td><td style = \"font-style: italic; text-align: right;\">missing</td><td style = \"font-style: italic; text-align: right;\">missing</td><td style = \"font-style: italic; text-align: right;\">missing</td><td style = \"font-style: italic; text-align: right;\">missing</td><td style = \"font-style: italic; text-align: right;\">missing</td><td style = \"font-style: italic; text-align: right;\">missing</td><td style = \"font-style: italic; text-align: right;\">missing</td><td style = \"font-style: italic; text-align: right;\">missing</td><td style = \"font-style: italic; text-align: right;\">missing</td><td style = \"font-style: italic; text-align: right;\">missing</td><td style = \"font-style: italic; text-align: right;\">missing</td><td style = \"font-style: italic; text-align: right;\">missing</td><td style = \"font-style: italic; text-align: right;\">missing</td><td style = \"font-style: italic; text-align: right;\">missing</td><td style = \"font-style: italic; text-align: right;\">missing</td><td style = \"font-style: italic; text-align: right;\">missing</td><td style = \"font-style: italic; text-align: right;\">missing</td><td style = \"font-style: italic; text-align: right;\">missing</td><td style = \"font-style: italic; text-align: right;\">missing</td><td style = \"font-style: italic; text-align: right;\">missing</td><td style = \"font-style: italic; text-align: right;\">missing</td><td style = \"font-style: italic; text-align: right;\">missing</td><td style = \"font-style: italic; text-align: right;\">missing</td><td style = \"font-style: italic; text-align: right;\">missing</td><td style = \"font-style: italic; text-align: right;\">missing</td><td style = \"font-style: italic; text-align: right;\">missing</td><td style = \"font-style: italic; text-align: right;\">missing</td><td style = \"font-style: italic; text-align: right;\">missing</td><td style = \"font-style: italic; text-align: right;\">missing</td><td style = \"font-style: italic; text-align: right;\">missing</td><td style = \"font-style: italic; text-align: right;\">missing</td><td style = \"font-style: italic; text-align: right;\">missing</td><td style = \"font-style: italic; text-align: right;\">missing</td><td style = \"font-style: italic; text-align: right;\">missing</td><td style = \"font-style: italic; text-align: right;\">missing</td><td style = \"font-style: italic; text-align: right;\">missing</td><td style = \"font-style: italic; text-align: right;\">missing</td><td style = \"font-style: italic; text-align: right;\">missing</td><td style = \"font-style: italic; text-align: right;\">missing</td><td style = \"font-style: italic; text-align: right;\">missing</td><td style = \"font-style: italic; text-align: right;\">missing</td><td style = \"font-style: italic; text-align: right;\">missing</td><td style = \"font-style: italic; text-align: right;\">missing</td><td style = \"font-style: italic; text-align: right;\">missing</td><td style = \"font-style: italic; text-align: right;\">missing</td><td style = \"font-style: italic; text-align: right;\">missing</td><td style = \"font-style: italic; text-align: right;\">missing</td><td style = \"font-style: italic; text-align: right;\">missing</td><td style = \"font-style: italic; text-align: right;\">missing</td><td style = \"font-style: italic; text-align: right;\">missing</td><td style = \"font-style: italic; text-align: right;\">missing</td><td style = \"font-style: italic; text-align: right;\">missing</td><td style = \"font-style: italic; text-align: right;\">missing</td><td style = \"font-style: italic; text-align: right;\">missing</td><td style = \"font-style: italic; text-align: right;\">missing</td><td style = \"font-style: italic; text-align: right;\">missing</td><td style = \"font-style: italic; text-align: right;\">missing</td><td style = \"font-style: italic; text-align: right;\">missing</td><td style = \"font-style: italic; text-align: right;\">missing</td><td style = \"font-style: italic; text-align: right;\">missing</td><td style = \"font-style: italic; text-align: right;\">missing</td><td style = \"font-style: italic; text-align: right;\">missing</td><td style = \"font-style: italic; text-align: right;\">missing</td><td style = \"font-style: italic; text-align: right;\">missing</td><td style = \"font-style: italic; text-align: right;\">missing</td><td style = \"font-style: italic; text-align: right;\">missing</td><td style = \"font-style: italic; text-align: right;\">missing</td><td style = \"font-style: italic; text-align: right;\">missing</td><td style = \"font-style: italic; text-align: right;\">missing</td><td style = \"font-style: italic; text-align: right;\">missing</td><td style = \"font-style: italic; text-align: right;\">missing</td><td style = \"font-style: italic; text-align: right;\">missing</td><td style = \"font-style: italic; text-align: right;\">missing</td><td style = \"font-style: italic; text-align: right;\">missing</td><td style = \"font-style: italic; text-align: right;\">missing</td><td style = \"font-style: italic; text-align: right;\">missing</td><td style = \"text-align: right;\">&ctdot;</td></tr><tr><td class = \"rowNumber\" style = \"font-weight: bold; text-align: right;\">9</td><td style = \"text-align: left;\">Aruba</td><td style = \"text-align: left;\">ABW</td><td style = \"text-align: right;\">1968</td><td style = \"font-style: italic; text-align: right;\">missing</td><td style = \"font-style: italic; text-align: right;\">missing</td><td style = \"font-style: italic; text-align: right;\">missing</td><td style = \"text-align: right;\">20.0</td><td style = \"text-align: right;\">11.1111</td><td style = \"text-align: right;\">2000.0</td><td style = \"text-align: right;\">0.0358545</td><td style = \"text-align: right;\">11.1111</td><td style = \"font-style: italic; text-align: right;\">missing</td><td style = \"font-style: italic; text-align: right;\">missing</td><td style = \"font-style: italic; text-align: right;\">missing</td><td style = \"font-style: italic; text-align: right;\">missing</td><td style = \"font-style: italic; text-align: right;\">missing</td><td style = \"text-align: right;\">180.0</td><td style = \"font-style: italic; text-align: right;\">missing</td><td style = \"font-style: italic; text-align: right;\">missing</td><td style = \"font-style: italic; text-align: right;\">missing</td><td style = \"font-style: italic; text-align: right;\">missing</td><td style = \"text-align: right;\">180.0</td><td style = \"font-style: italic; text-align: right;\">missing</td><td style = \"font-style: italic; text-align: right;\">missing</td><td style = \"font-style: italic; text-align: right;\">missing</td><td style = \"font-style: italic; text-align: right;\">missing</td><td style = \"font-style: italic; text-align: right;\">missing</td><td style = \"font-style: italic; text-align: right;\">missing</td><td style = \"font-style: italic; text-align: right;\">missing</td><td style = \"font-style: italic; text-align: right;\">missing</td><td style = \"font-style: italic; text-align: right;\">missing</td><td style = \"font-style: italic; text-align: right;\">missing</td><td style = \"font-style: italic; text-align: right;\">missing</td><td style = \"font-style: italic; text-align: right;\">missing</td><td style = \"font-style: italic; text-align: right;\">missing</td><td style = \"font-style: italic; text-align: right;\">missing</td><td style = \"font-style: italic; text-align: right;\">missing</td><td style = \"font-style: italic; text-align: right;\">missing</td><td style = \"font-style: italic; text-align: right;\">missing</td><td style = \"font-style: italic; text-align: right;\">missing</td><td style = \"font-style: italic; text-align: right;\">missing</td><td style = \"font-style: italic; text-align: right;\">missing</td><td style = \"font-style: italic; text-align: right;\">missing</td><td style = \"font-style: italic; text-align: right;\">missing</td><td style = \"font-style: italic; text-align: right;\">missing</td><td style = \"font-style: italic; text-align: right;\">missing</td><td style = \"font-style: italic; text-align: right;\">missing</td><td style = \"font-style: italic; text-align: right;\">missing</td><td style = \"font-style: italic; text-align: right;\">missing</td><td style = \"font-style: italic; text-align: right;\">missing</td><td style = \"font-style: italic; text-align: right;\">missing</td><td style = \"font-style: italic; text-align: right;\">missing</td><td style = \"font-style: italic; text-align: right;\">missing</td><td style = \"font-style: italic; text-align: right;\">missing</td><td style = \"font-style: italic; text-align: right;\">missing</td><td style = \"font-style: italic; text-align: right;\">missing</td><td style = \"font-style: italic; text-align: right;\">missing</td><td style = \"font-style: italic; text-align: right;\">missing</td><td style = \"font-style: italic; text-align: right;\">missing</td><td style = \"font-style: italic; text-align: right;\">missing</td><td style = \"font-style: italic; text-align: right;\">missing</td><td style = \"font-style: italic; text-align: right;\">missing</td><td style = \"font-style: italic; text-align: right;\">missing</td><td style = \"font-style: italic; text-align: right;\">missing</td><td style = \"font-style: italic; text-align: right;\">missing</td><td style = \"font-style: italic; text-align: right;\">missing</td><td style = \"font-style: italic; text-align: right;\">missing</td><td style = \"font-style: italic; text-align: right;\">missing</td><td style = \"font-style: italic; text-align: right;\">missing</td><td style = \"font-style: italic; text-align: right;\">missing</td><td style = \"font-style: italic; text-align: right;\">missing</td><td style = \"font-style: italic; text-align: right;\">missing</td><td style = \"font-style: italic; text-align: right;\">missing</td><td style = \"font-style: italic; text-align: right;\">missing</td><td style = \"font-style: italic; text-align: right;\">missing</td><td style = \"font-style: italic; text-align: right;\">missing</td><td style = \"font-style: italic; text-align: right;\">missing</td><td style = \"font-style: italic; text-align: right;\">missing</td><td style = \"font-style: italic; text-align: right;\">missing</td><td style = \"font-style: italic; text-align: right;\">missing</td><td style = \"font-style: italic; text-align: right;\">missing</td><td style = \"font-style: italic; text-align: right;\">missing</td><td style = \"font-style: italic; text-align: right;\">missing</td><td style = \"font-style: italic; text-align: right;\">missing</td><td style = \"font-style: italic; text-align: right;\">missing</td><td style = \"font-style: italic; text-align: right;\">missing</td><td style = \"font-style: italic; text-align: right;\">missing</td><td style = \"font-style: italic; text-align: right;\">missing</td><td style = \"font-style: italic; text-align: right;\">missing</td><td style = \"font-style: italic; text-align: right;\">missing</td><td style = \"font-style: italic; text-align: right;\">missing</td><td style = \"font-style: italic; text-align: right;\">missing</td><td style = \"font-style: italic; text-align: right;\">missing</td><td style = \"font-style: italic; text-align: right;\">missing</td><td style = \"font-style: italic; text-align: right;\">missing</td><td style = \"font-style: italic; text-align: right;\">missing</td><td style = \"font-style: italic; text-align: right;\">missing</td><td style = \"font-style: italic; text-align: right;\">missing</td><td style = \"font-style: italic; text-align: right;\">missing</td><td style = \"font-style: italic; text-align: right;\">missing</td><td style = \"text-align: right;\">&ctdot;</td></tr><tr><td class = \"rowNumber\" style = \"font-weight: bold; text-align: right;\">10</td><td style = \"text-align: left;\">Aruba</td><td style = \"text-align: left;\">ABW</td><td style = \"text-align: right;\">1969</td><td style = \"font-style: italic; text-align: right;\">missing</td><td style = \"font-style: italic; text-align: right;\">missing</td><td style = \"font-style: italic; text-align: right;\">missing</td><td style = \"text-align: right;\">20.0</td><td style = \"text-align: right;\">11.1111</td><td style = \"text-align: right;\">2000.0</td><td style = \"text-align: right;\">0.0355334</td><td style = \"text-align: right;\">11.1111</td><td style = \"font-style: italic; text-align: right;\">missing</td><td style = \"font-style: italic; text-align: right;\">missing</td><td style = \"font-style: italic; text-align: right;\">missing</td><td style = \"font-style: italic; text-align: right;\">missing</td><td style = \"font-style: italic; text-align: right;\">missing</td><td style = \"text-align: right;\">180.0</td><td style = \"font-style: italic; text-align: right;\">missing</td><td style = \"font-style: italic; text-align: right;\">missing</td><td style = \"font-style: italic; text-align: right;\">missing</td><td style = \"font-style: italic; text-align: right;\">missing</td><td style = \"text-align: right;\">180.0</td><td style = \"font-style: italic; text-align: right;\">missing</td><td style = \"font-style: italic; text-align: right;\">missing</td><td style = \"font-style: italic; text-align: right;\">missing</td><td style = \"font-style: italic; text-align: right;\">missing</td><td style = \"font-style: italic; text-align: right;\">missing</td><td style = \"font-style: italic; text-align: right;\">missing</td><td style = \"font-style: italic; text-align: right;\">missing</td><td style = \"font-style: italic; text-align: right;\">missing</td><td style = \"font-style: italic; text-align: right;\">missing</td><td style = \"font-style: italic; text-align: right;\">missing</td><td style = \"font-style: italic; text-align: right;\">missing</td><td style = \"font-style: italic; text-align: right;\">missing</td><td style = \"font-style: italic; text-align: right;\">missing</td><td style = \"font-style: italic; text-align: right;\">missing</td><td style = \"font-style: italic; text-align: right;\">missing</td><td style = \"font-style: italic; text-align: right;\">missing</td><td style = \"font-style: italic; text-align: right;\">missing</td><td style = \"font-style: italic; text-align: right;\">missing</td><td style = \"font-style: italic; text-align: right;\">missing</td><td style = \"font-style: italic; text-align: right;\">missing</td><td style = \"font-style: italic; text-align: right;\">missing</td><td style = \"font-style: italic; text-align: right;\">missing</td><td style = \"font-style: italic; text-align: right;\">missing</td><td style = \"font-style: italic; text-align: right;\">missing</td><td style = \"font-style: italic; text-align: right;\">missing</td><td style = \"font-style: italic; text-align: right;\">missing</td><td style = \"font-style: italic; text-align: right;\">missing</td><td style = \"font-style: italic; text-align: right;\">missing</td><td style = \"font-style: italic; text-align: right;\">missing</td><td style = \"font-style: italic; text-align: right;\">missing</td><td style = \"font-style: italic; text-align: right;\">missing</td><td style = \"font-style: italic; text-align: right;\">missing</td><td style = \"font-style: italic; text-align: right;\">missing</td><td style = \"font-style: italic; text-align: right;\">missing</td><td style = \"font-style: italic; text-align: right;\">missing</td><td style = \"font-style: italic; text-align: right;\">missing</td><td style = \"font-style: italic; text-align: right;\">missing</td><td style = \"font-style: italic; text-align: right;\">missing</td><td style = \"font-style: italic; text-align: right;\">missing</td><td style = \"font-style: italic; text-align: right;\">missing</td><td style = \"font-style: italic; text-align: right;\">missing</td><td style = \"font-style: italic; text-align: right;\">missing</td><td style = \"font-style: italic; text-align: right;\">missing</td><td style = \"font-style: italic; text-align: right;\">missing</td><td style = \"font-style: italic; text-align: right;\">missing</td><td style = \"font-style: italic; text-align: right;\">missing</td><td style = \"font-style: italic; text-align: right;\">missing</td><td style = \"font-style: italic; text-align: right;\">missing</td><td style = \"font-style: italic; text-align: right;\">missing</td><td style = \"font-style: italic; text-align: right;\">missing</td><td style = \"font-style: italic; text-align: right;\">missing</td><td style = \"font-style: italic; text-align: right;\">missing</td><td style = \"font-style: italic; text-align: right;\">missing</td><td style = \"font-style: italic; text-align: right;\">missing</td><td style = \"font-style: italic; text-align: right;\">missing</td><td style = \"font-style: italic; text-align: right;\">missing</td><td style = \"font-style: italic; text-align: right;\">missing</td><td style = \"font-style: italic; text-align: right;\">missing</td><td style = \"font-style: italic; text-align: right;\">missing</td><td style = \"font-style: italic; text-align: right;\">missing</td><td style = \"font-style: italic; text-align: right;\">missing</td><td style = \"font-style: italic; text-align: right;\">missing</td><td style = \"font-style: italic; text-align: right;\">missing</td><td style = \"font-style: italic; text-align: right;\">missing</td><td style = \"font-style: italic; text-align: right;\">missing</td><td style = \"font-style: italic; text-align: right;\">missing</td><td style = \"font-style: italic; text-align: right;\">missing</td><td style = \"font-style: italic; text-align: right;\">missing</td><td style = \"font-style: italic; text-align: right;\">missing</td><td style = \"font-style: italic; text-align: right;\">missing</td><td style = \"font-style: italic; text-align: right;\">missing</td><td style = \"font-style: italic; text-align: right;\">missing</td><td style = \"font-style: italic; text-align: right;\">missing</td><td style = \"font-style: italic; text-align: right;\">missing</td><td style = \"font-style: italic; text-align: right;\">missing</td><td style = \"font-style: italic; text-align: right;\">missing</td><td style = \"font-style: italic; text-align: right;\">missing</td><td style = \"font-style: italic; text-align: right;\">missing</td><td style = \"text-align: right;\">&ctdot;</td></tr><tr><td class = \"rowNumber\" style = \"font-weight: bold; text-align: right;\">11</td><td style = \"text-align: left;\">Aruba</td><td style = \"text-align: left;\">ABW</td><td style = \"text-align: right;\">1970</td><td style = \"font-style: italic; text-align: right;\">missing</td><td style = \"font-style: italic; text-align: right;\">missing</td><td style = \"font-style: italic; text-align: right;\">missing</td><td style = \"text-align: right;\">20.0</td><td style = \"text-align: right;\">11.1111</td><td style = \"text-align: right;\">2000.0</td><td style = \"text-align: right;\">0.0352293</td><td style = \"text-align: right;\">11.1111</td><td style = \"font-style: italic; text-align: right;\">missing</td><td style = \"font-style: italic; text-align: right;\">missing</td><td style = \"font-style: italic; text-align: right;\">missing</td><td style = \"font-style: italic; text-align: right;\">missing</td><td style = \"font-style: italic; text-align: right;\">missing</td><td style = \"text-align: right;\">180.0</td><td style = \"font-style: italic; text-align: right;\">missing</td><td style = \"font-style: italic; text-align: right;\">missing</td><td style = \"font-style: italic; text-align: right;\">missing</td><td style = \"font-style: italic; text-align: right;\">missing</td><td style = \"text-align: right;\">180.0</td><td style = \"font-style: italic; text-align: right;\">missing</td><td style = \"font-style: italic; text-align: right;\">missing</td><td style = \"font-style: italic; text-align: right;\">missing</td><td style = \"font-style: italic; text-align: right;\">missing</td><td style = \"font-style: italic; text-align: right;\">missing</td><td style = \"font-style: italic; text-align: right;\">missing</td><td style = \"font-style: italic; text-align: right;\">missing</td><td style = \"font-style: italic; text-align: right;\">missing</td><td style = \"font-style: italic; text-align: right;\">missing</td><td style = \"font-style: italic; text-align: right;\">missing</td><td style = \"font-style: italic; text-align: right;\">missing</td><td style = \"font-style: italic; text-align: right;\">missing</td><td style = \"font-style: italic; text-align: right;\">missing</td><td style = \"font-style: italic; text-align: right;\">missing</td><td style = \"font-style: italic; text-align: right;\">missing</td><td style = \"font-style: italic; text-align: right;\">missing</td><td style = \"font-style: italic; text-align: right;\">missing</td><td style = \"font-style: italic; text-align: right;\">missing</td><td style = \"font-style: italic; text-align: right;\">missing</td><td style = \"font-style: italic; text-align: right;\">missing</td><td style = \"font-style: italic; text-align: right;\">missing</td><td style = \"font-style: italic; text-align: right;\">missing</td><td style = \"font-style: italic; text-align: right;\">missing</td><td style = \"font-style: italic; text-align: right;\">missing</td><td style = \"font-style: italic; text-align: right;\">missing</td><td style = \"font-style: italic; text-align: right;\">missing</td><td style = \"font-style: italic; text-align: right;\">missing</td><td style = \"font-style: italic; text-align: right;\">missing</td><td style = \"font-style: italic; text-align: right;\">missing</td><td style = \"font-style: italic; text-align: right;\">missing</td><td style = \"font-style: italic; text-align: right;\">missing</td><td style = \"font-style: italic; text-align: right;\">missing</td><td style = \"font-style: italic; text-align: right;\">missing</td><td style = \"font-style: italic; text-align: right;\">missing</td><td style = \"font-style: italic; text-align: right;\">missing</td><td style = \"font-style: italic; text-align: right;\">missing</td><td style = \"font-style: italic; text-align: right;\">missing</td><td style = \"font-style: italic; text-align: right;\">missing</td><td style = \"font-style: italic; text-align: right;\">missing</td><td style = \"font-style: italic; text-align: right;\">missing</td><td style = \"font-style: italic; text-align: right;\">missing</td><td style = \"font-style: italic; text-align: right;\">missing</td><td style = \"font-style: italic; text-align: right;\">missing</td><td style = \"font-style: italic; text-align: right;\">missing</td><td style = \"font-style: italic; text-align: right;\">missing</td><td style = \"font-style: italic; text-align: right;\">missing</td><td style = \"font-style: italic; text-align: right;\">missing</td><td style = \"font-style: italic; text-align: right;\">missing</td><td style = \"font-style: italic; text-align: right;\">missing</td><td style = \"font-style: italic; text-align: right;\">missing</td><td style = \"font-style: italic; text-align: right;\">missing</td><td style = \"font-style: italic; text-align: right;\">missing</td><td style = \"font-style: italic; text-align: right;\">missing</td><td style = \"font-style: italic; text-align: right;\">missing</td><td style = \"font-style: italic; text-align: right;\">missing</td><td style = \"font-style: italic; text-align: right;\">missing</td><td style = \"font-style: italic; text-align: right;\">missing</td><td style = \"font-style: italic; text-align: right;\">missing</td><td style = \"font-style: italic; text-align: right;\">missing</td><td style = \"font-style: italic; text-align: right;\">missing</td><td style = \"font-style: italic; text-align: right;\">missing</td><td style = \"font-style: italic; text-align: right;\">missing</td><td style = \"font-style: italic; text-align: right;\">missing</td><td style = \"font-style: italic; text-align: right;\">missing</td><td style = \"font-style: italic; text-align: right;\">missing</td><td style = \"font-style: italic; text-align: right;\">missing</td><td style = \"font-style: italic; text-align: right;\">missing</td><td style = \"font-style: italic; text-align: right;\">missing</td><td style = \"font-style: italic; text-align: right;\">missing</td><td style = \"font-style: italic; text-align: right;\">missing</td><td style = \"font-style: italic; text-align: right;\">missing</td><td style = \"font-style: italic; text-align: right;\">missing</td><td style = \"font-style: italic; text-align: right;\">missing</td><td style = \"font-style: italic; text-align: right;\">missing</td><td style = \"font-style: italic; text-align: right;\">missing</td><td style = \"font-style: italic; text-align: right;\">missing</td><td style = \"font-style: italic; text-align: right;\">missing</td><td style = \"font-style: italic; text-align: right;\">missing</td><td style = \"text-align: right;\">&ctdot;</td></tr><tr><td class = \"rowNumber\" style = \"font-weight: bold; text-align: right;\">12</td><td style = \"text-align: left;\">Aruba</td><td style = \"text-align: left;\">ABW</td><td style = \"text-align: right;\">1971</td><td style = \"font-style: italic; text-align: right;\">missing</td><td style = \"font-style: italic; text-align: right;\">missing</td><td style = \"font-style: italic; text-align: right;\">missing</td><td style = \"text-align: right;\">20.0</td><td style = \"text-align: right;\">11.1111</td><td style = \"text-align: right;\">2000.0</td><td style = \"text-align: right;\">0.0349327</td><td style = \"text-align: right;\">11.1111</td><td style = \"font-style: italic; text-align: right;\">missing</td><td style = \"font-style: italic; text-align: right;\">missing</td><td style = \"font-style: italic; text-align: right;\">missing</td><td style = \"font-style: italic; text-align: right;\">missing</td><td style = \"font-style: italic; text-align: right;\">missing</td><td style = \"text-align: right;\">180.0</td><td style = \"font-style: italic; text-align: right;\">missing</td><td style = \"font-style: italic; text-align: right;\">missing</td><td style = \"font-style: italic; text-align: right;\">missing</td><td style = \"font-style: italic; text-align: right;\">missing</td><td style = \"text-align: right;\">180.0</td><td style = \"font-style: italic; text-align: right;\">missing</td><td style = \"font-style: italic; text-align: right;\">missing</td><td style = \"font-style: italic; text-align: right;\">missing</td><td style = \"font-style: italic; text-align: right;\">missing</td><td style = \"font-style: italic; text-align: right;\">missing</td><td style = \"font-style: italic; text-align: right;\">missing</td><td style = \"font-style: italic; text-align: right;\">missing</td><td style = \"font-style: italic; text-align: right;\">missing</td><td style = \"font-style: italic; text-align: right;\">missing</td><td style = \"font-style: italic; text-align: right;\">missing</td><td style = \"font-style: italic; text-align: right;\">missing</td><td style = \"font-style: italic; text-align: right;\">missing</td><td style = \"font-style: italic; text-align: right;\">missing</td><td style = \"font-style: italic; text-align: right;\">missing</td><td style = \"font-style: italic; text-align: right;\">missing</td><td style = \"font-style: italic; text-align: right;\">missing</td><td style = \"font-style: italic; text-align: right;\">missing</td><td style = \"font-style: italic; text-align: right;\">missing</td><td style = \"font-style: italic; text-align: right;\">missing</td><td style = \"font-style: italic; text-align: right;\">missing</td><td style = \"font-style: italic; text-align: right;\">missing</td><td style = \"font-style: italic; text-align: right;\">missing</td><td style = \"font-style: italic; text-align: right;\">missing</td><td style = \"font-style: italic; text-align: right;\">missing</td><td style = \"font-style: italic; text-align: right;\">missing</td><td style = \"font-style: italic; text-align: right;\">missing</td><td style = \"font-style: italic; text-align: right;\">missing</td><td style = \"font-style: italic; text-align: right;\">missing</td><td style = \"font-style: italic; text-align: right;\">missing</td><td style = \"font-style: italic; text-align: right;\">missing</td><td style = \"font-style: italic; text-align: right;\">missing</td><td style = \"font-style: italic; text-align: right;\">missing</td><td style = \"font-style: italic; text-align: right;\">missing</td><td style = \"font-style: italic; text-align: right;\">missing</td><td style = \"font-style: italic; text-align: right;\">missing</td><td style = \"font-style: italic; text-align: right;\">missing</td><td style = \"font-style: italic; text-align: right;\">missing</td><td style = \"font-style: italic; text-align: right;\">missing</td><td style = \"font-style: italic; text-align: right;\">missing</td><td style = \"font-style: italic; text-align: right;\">missing</td><td style = \"font-style: italic; text-align: right;\">missing</td><td style = \"font-style: italic; text-align: right;\">missing</td><td style = \"font-style: italic; text-align: right;\">missing</td><td style = \"font-style: italic; text-align: right;\">missing</td><td style = \"font-style: italic; text-align: right;\">missing</td><td style = \"font-style: italic; text-align: right;\">missing</td><td style = \"font-style: italic; text-align: right;\">missing</td><td style = \"font-style: italic; text-align: right;\">missing</td><td style = \"font-style: italic; text-align: right;\">missing</td><td style = \"font-style: italic; text-align: right;\">missing</td><td style = \"font-style: italic; text-align: right;\">missing</td><td style = \"font-style: italic; text-align: right;\">missing</td><td style = \"font-style: italic; text-align: right;\">missing</td><td style = \"font-style: italic; text-align: right;\">missing</td><td style = \"font-style: italic; text-align: right;\">missing</td><td style = \"font-style: italic; text-align: right;\">missing</td><td style = \"font-style: italic; text-align: right;\">missing</td><td style = \"font-style: italic; text-align: right;\">missing</td><td style = \"font-style: italic; text-align: right;\">missing</td><td style = \"font-style: italic; text-align: right;\">missing</td><td style = \"font-style: italic; text-align: right;\">missing</td><td style = \"font-style: italic; text-align: right;\">missing</td><td style = \"font-style: italic; text-align: right;\">missing</td><td style = \"font-style: italic; text-align: right;\">missing</td><td style = \"font-style: italic; text-align: right;\">missing</td><td style = \"font-style: italic; text-align: right;\">missing</td><td style = \"font-style: italic; text-align: right;\">missing</td><td style = \"font-style: italic; text-align: right;\">missing</td><td style = \"font-style: italic; text-align: right;\">missing</td><td style = \"font-style: italic; text-align: right;\">missing</td><td style = \"font-style: italic; text-align: right;\">missing</td><td style = \"font-style: italic; text-align: right;\">missing</td><td style = \"font-style: italic; text-align: right;\">missing</td><td style = \"font-style: italic; text-align: right;\">missing</td><td style = \"font-style: italic; text-align: right;\">missing</td><td style = \"font-style: italic; text-align: right;\">missing</td><td style = \"font-style: italic; text-align: right;\">missing</td><td style = \"font-style: italic; text-align: right;\">missing</td><td style = \"text-align: right;\">&ctdot;</td></tr><tr><td class = \"rowNumber\" style = \"font-weight: bold; text-align: right;\">13</td><td style = \"text-align: left;\">Aruba</td><td style = \"text-align: left;\">ABW</td><td style = \"text-align: right;\">1972</td><td style = \"font-style: italic; text-align: right;\">missing</td><td style = \"font-style: italic; text-align: right;\">missing</td><td style = \"font-style: italic; text-align: right;\">missing</td><td style = \"text-align: right;\">20.0</td><td style = \"text-align: right;\">11.1111</td><td style = \"text-align: right;\">2000.0</td><td style = \"text-align: right;\">0.034644</td><td style = \"text-align: right;\">11.1111</td><td style = \"font-style: italic; text-align: right;\">missing</td><td style = \"font-style: italic; text-align: right;\">missing</td><td style = \"font-style: italic; text-align: right;\">missing</td><td style = \"font-style: italic; text-align: right;\">missing</td><td style = \"font-style: italic; text-align: right;\">missing</td><td style = \"text-align: right;\">180.0</td><td style = \"font-style: italic; text-align: right;\">missing</td><td style = \"font-style: italic; text-align: right;\">missing</td><td style = \"font-style: italic; text-align: right;\">missing</td><td style = \"font-style: italic; text-align: right;\">missing</td><td style = \"text-align: right;\">180.0</td><td style = \"font-style: italic; text-align: right;\">missing</td><td style = \"font-style: italic; text-align: right;\">missing</td><td style = \"font-style: italic; text-align: right;\">missing</td><td style = \"font-style: italic; text-align: right;\">missing</td><td style = \"font-style: italic; text-align: right;\">missing</td><td style = \"font-style: italic; text-align: right;\">missing</td><td style = \"font-style: italic; text-align: right;\">missing</td><td style = \"font-style: italic; text-align: right;\">missing</td><td style = \"font-style: italic; text-align: right;\">missing</td><td style = \"font-style: italic; text-align: right;\">missing</td><td style = \"font-style: italic; text-align: right;\">missing</td><td style = \"font-style: italic; text-align: right;\">missing</td><td style = \"font-style: italic; text-align: right;\">missing</td><td style = \"font-style: italic; text-align: right;\">missing</td><td style = \"font-style: italic; text-align: right;\">missing</td><td style = \"font-style: italic; text-align: right;\">missing</td><td style = \"font-style: italic; text-align: right;\">missing</td><td style = \"font-style: italic; text-align: right;\">missing</td><td style = \"font-style: italic; text-align: right;\">missing</td><td style = \"font-style: italic; text-align: right;\">missing</td><td style = \"font-style: italic; text-align: right;\">missing</td><td style = \"font-style: italic; text-align: right;\">missing</td><td style = \"font-style: italic; text-align: right;\">missing</td><td style = \"font-style: italic; text-align: right;\">missing</td><td style = \"font-style: italic; text-align: right;\">missing</td><td style = \"font-style: italic; text-align: right;\">missing</td><td style = \"font-style: italic; text-align: right;\">missing</td><td style = \"font-style: italic; text-align: right;\">missing</td><td style = \"font-style: italic; text-align: right;\">missing</td><td style = \"font-style: italic; text-align: right;\">missing</td><td style = \"font-style: italic; text-align: right;\">missing</td><td style = \"font-style: italic; text-align: right;\">missing</td><td style = \"font-style: italic; text-align: right;\">missing</td><td style = \"font-style: italic; text-align: right;\">missing</td><td style = \"font-style: italic; text-align: right;\">missing</td><td style = \"font-style: italic; text-align: right;\">missing</td><td style = \"font-style: italic; text-align: right;\">missing</td><td style = \"font-style: italic; text-align: right;\">missing</td><td style = \"font-style: italic; text-align: right;\">missing</td><td style = \"font-style: italic; text-align: right;\">missing</td><td style = \"font-style: italic; text-align: right;\">missing</td><td style = \"font-style: italic; text-align: right;\">missing</td><td style = \"font-style: italic; text-align: right;\">missing</td><td style = \"font-style: italic; text-align: right;\">missing</td><td style = \"font-style: italic; text-align: right;\">missing</td><td style = \"font-style: italic; text-align: right;\">missing</td><td style = \"font-style: italic; text-align: right;\">missing</td><td style = \"font-style: italic; text-align: right;\">missing</td><td style = \"font-style: italic; text-align: right;\">missing</td><td style = \"font-style: italic; text-align: right;\">missing</td><td style = \"font-style: italic; text-align: right;\">missing</td><td style = \"font-style: italic; text-align: right;\">missing</td><td style = \"font-style: italic; text-align: right;\">missing</td><td style = \"font-style: italic; text-align: right;\">missing</td><td style = \"font-style: italic; text-align: right;\">missing</td><td style = \"font-style: italic; text-align: right;\">missing</td><td style = \"font-style: italic; text-align: right;\">missing</td><td style = \"font-style: italic; text-align: right;\">missing</td><td style = \"font-style: italic; text-align: right;\">missing</td><td style = \"font-style: italic; text-align: right;\">missing</td><td style = \"font-style: italic; text-align: right;\">missing</td><td style = \"font-style: italic; text-align: right;\">missing</td><td style = \"font-style: italic; text-align: right;\">missing</td><td style = \"font-style: italic; text-align: right;\">missing</td><td style = \"font-style: italic; text-align: right;\">missing</td><td style = \"font-style: italic; text-align: right;\">missing</td><td style = \"font-style: italic; text-align: right;\">missing</td><td style = \"font-style: italic; text-align: right;\">missing</td><td style = \"font-style: italic; text-align: right;\">missing</td><td style = \"font-style: italic; text-align: right;\">missing</td><td style = \"font-style: italic; text-align: right;\">missing</td><td style = \"font-style: italic; text-align: right;\">missing</td><td style = \"font-style: italic; text-align: right;\">missing</td><td style = \"font-style: italic; text-align: right;\">missing</td><td style = \"font-style: italic; text-align: right;\">missing</td><td style = \"font-style: italic; text-align: right;\">missing</td><td style = \"font-style: italic; text-align: right;\">missing</td><td style = \"font-style: italic; text-align: right;\">missing</td><td style = \"text-align: right;\">&ctdot;</td></tr><tr><td style = \"text-align: right;\">&vellip;</td><td style = \"text-align: right;\">&vellip;</td><td style = \"text-align: right;\">&vellip;</td><td style = \"text-align: right;\">&vellip;</td><td style = \"text-align: right;\">&vellip;</td><td style = \"text-align: right;\">&vellip;</td><td style = \"text-align: right;\">&vellip;</td><td style = \"text-align: right;\">&vellip;</td><td style = \"text-align: right;\">&vellip;</td><td style = \"text-align: right;\">&vellip;</td><td style = \"text-align: right;\">&vellip;</td><td style = \"text-align: right;\">&vellip;</td><td style = \"text-align: right;\">&vellip;</td><td style = \"text-align: right;\">&vellip;</td><td style = \"text-align: right;\">&vellip;</td><td style = \"text-align: right;\">&vellip;</td><td style = \"text-align: right;\">&vellip;</td><td style = \"text-align: right;\">&vellip;</td><td style = \"text-align: right;\">&vellip;</td><td style = \"text-align: right;\">&vellip;</td><td style = \"text-align: right;\">&vellip;</td><td style = \"text-align: right;\">&vellip;</td><td style = \"text-align: right;\">&vellip;</td><td style = \"text-align: right;\">&vellip;</td><td style = \"text-align: right;\">&vellip;</td><td style = \"text-align: right;\">&vellip;</td><td style = \"text-align: right;\">&vellip;</td><td style = \"text-align: right;\">&vellip;</td><td style = \"text-align: right;\">&vellip;</td><td style = \"text-align: right;\">&vellip;</td><td style = \"text-align: right;\">&vellip;</td><td style = \"text-align: right;\">&vellip;</td><td style = \"text-align: right;\">&vellip;</td><td style = \"text-align: right;\">&vellip;</td><td style = \"text-align: right;\">&vellip;</td><td style = \"text-align: right;\">&vellip;</td><td style = \"text-align: right;\">&vellip;</td><td style = \"text-align: right;\">&vellip;</td><td style = \"text-align: right;\">&vellip;</td><td style = \"text-align: right;\">&vellip;</td><td style = \"text-align: right;\">&vellip;</td><td style = \"text-align: right;\">&vellip;</td><td style = \"text-align: right;\">&vellip;</td><td style = \"text-align: right;\">&vellip;</td><td style = \"text-align: right;\">&vellip;</td><td style = \"text-align: right;\">&vellip;</td><td style = \"text-align: right;\">&vellip;</td><td style = \"text-align: right;\">&vellip;</td><td style = \"text-align: right;\">&vellip;</td><td style = \"text-align: right;\">&vellip;</td><td style = \"text-align: right;\">&vellip;</td><td style = \"text-align: right;\">&vellip;</td><td style = \"text-align: right;\">&vellip;</td><td style = \"text-align: right;\">&vellip;</td><td style = \"text-align: right;\">&vellip;</td><td style = \"text-align: right;\">&vellip;</td><td style = \"text-align: right;\">&vellip;</td><td style = \"text-align: right;\">&vellip;</td><td style = \"text-align: right;\">&vellip;</td><td style = \"text-align: right;\">&vellip;</td><td style = \"text-align: right;\">&vellip;</td><td style = \"text-align: right;\">&vellip;</td><td style = \"text-align: right;\">&vellip;</td><td style = \"text-align: right;\">&vellip;</td><td style = \"text-align: right;\">&vellip;</td><td style = \"text-align: right;\">&vellip;</td><td style = \"text-align: right;\">&vellip;</td><td style = \"text-align: right;\">&vellip;</td><td style = \"text-align: right;\">&vellip;</td><td style = \"text-align: right;\">&vellip;</td><td style = \"text-align: right;\">&vellip;</td><td style = \"text-align: right;\">&vellip;</td><td style = \"text-align: right;\">&vellip;</td><td style = \"text-align: right;\">&vellip;</td><td style = \"text-align: right;\">&vellip;</td><td style = \"text-align: right;\">&vellip;</td><td style = \"text-align: right;\">&vellip;</td><td style = \"text-align: right;\">&vellip;</td><td style = \"text-align: right;\">&vellip;</td><td style = \"text-align: right;\">&vellip;</td><td style = \"text-align: right;\">&vellip;</td><td style = \"text-align: right;\">&vellip;</td><td style = \"text-align: right;\">&vellip;</td><td style = \"text-align: right;\">&vellip;</td><td style = \"text-align: right;\">&vellip;</td><td style = \"text-align: right;\">&vellip;</td><td style = \"text-align: right;\">&vellip;</td><td style = \"text-align: right;\">&vellip;</td><td style = \"text-align: right;\">&vellip;</td><td style = \"text-align: right;\">&vellip;</td><td style = \"text-align: right;\">&vellip;</td><td style = \"text-align: right;\">&vellip;</td><td style = \"text-align: right;\">&vellip;</td><td style = \"text-align: right;\">&vellip;</td><td style = \"text-align: right;\">&vellip;</td><td style = \"text-align: right;\">&vellip;</td><td style = \"text-align: right;\">&vellip;</td><td style = \"text-align: right;\">&vellip;</td><td style = \"text-align: right;\">&vellip;</td><td style = \"text-align: right;\">&vellip;</td><td style = \"text-align: right;\">&vellip;</td><td style = \"text-align: right;\">&dtdot;</td></tr><tr><td class = \"rowNumber\" style = \"font-weight: bold; text-align: right;\">11112</td><td style = \"text-align: left;\">Zimbabwe</td><td style = \"text-align: left;\">ZWE</td><td style = \"text-align: right;\">1997</td><td style = \"font-style: italic; text-align: right;\">22496.0</td><td style = \"font-style: italic; text-align: right;\">175000.0</td><td style = \"font-style: italic; text-align: right;\">538.296</td><td style = \"text-align: right;\">142000.0</td><td style = \"text-align: right;\">36.7067</td><td style = \"text-align: right;\">3.251e6</td><td style = \"text-align: right;\">0.26886</td><td style = \"text-align: right;\">8.40377</td><td style = \"font-style: italic; text-align: right;\">2.1709e6</td><td style = \"font-style: italic; text-align: right;\">0.336048</td><td style = \"font-style: italic; text-align: right;\">200437.0</td><td style = \"font-style: italic; text-align: right;\">51.8126</td><td style = \"font-style: italic; text-align: right;\">4.43656</td><td style = \"text-align: right;\">386850.0</td><td style = \"font-style: italic; text-align: right;\">69.1972</td><td style = \"font-style: italic; text-align: right;\">102.4</td><td style = \"font-style: italic; text-align: right;\">95.68</td><td style = \"font-style: italic; text-align: right;\">78.82</td><td style = \"text-align: right;\">390760.0</td><td style = \"font-style: italic; text-align: right;\">1260.0</td><td style = \"font-style: italic; text-align: right;\">missing</td><td style = \"font-style: italic; text-align: right;\">missing</td><td style = \"font-style: italic; text-align: right;\">missing</td><td style = \"font-style: italic; text-align: right;\">missing</td><td style = \"font-style: italic; text-align: right;\">missing</td><td style = \"font-style: italic; text-align: right;\">missing</td><td style = \"font-style: italic; text-align: right;\">missing</td><td style = \"font-style: italic; text-align: right;\">missing</td><td style = \"font-style: italic; text-align: right;\">missing</td><td style = \"font-style: italic; text-align: right;\">missing</td><td style = \"font-style: italic; text-align: right;\">missing</td><td style = \"font-style: italic; text-align: right;\">missing</td><td style = \"font-style: italic; text-align: right;\">missing</td><td style = \"font-style: italic; text-align: right;\">missing</td><td style = \"font-style: italic; text-align: right;\">missing</td><td style = \"font-style: italic; text-align: right;\">missing</td><td style = \"font-style: italic; text-align: right;\">missing</td><td style = \"font-style: italic; text-align: right;\">missing</td><td style = \"font-style: italic; text-align: right;\">missing</td><td style = \"font-style: italic; text-align: right;\">missing</td><td style = \"font-style: italic; text-align: right;\">missing</td><td style = \"font-style: italic; text-align: right;\">missing</td><td style = \"font-style: italic; text-align: right;\">missing</td><td style = \"font-style: italic; text-align: right;\">missing</td><td style = \"font-style: italic; text-align: right;\">missing</td><td style = \"font-style: italic; text-align: right;\">missing</td><td style = \"font-style: italic; text-align: right;\">missing</td><td style = \"font-style: italic; text-align: right;\">missing</td><td style = \"font-style: italic; text-align: right;\">1.351e8</td><td style = \"font-style: italic; text-align: right;\">1.60297</td><td style = \"font-style: italic; text-align: right;\">0.0</td><td style = \"font-style: italic; text-align: right;\">missing</td><td style = \"font-style: italic; text-align: right;\">missing</td><td style = \"font-style: italic; text-align: right;\">missing</td><td style = \"font-style: italic; text-align: right;\">missing</td><td style = \"font-style: italic; text-align: right;\">missing</td><td style = \"font-style: italic; text-align: right;\">-46.8392</td><td style = \"font-style: italic; text-align: right;\">1.969e9</td><td style = \"font-style: italic; text-align: right;\">23.3623</td><td style = \"font-style: italic; text-align: right;\">64.0</td><td style = \"font-style: italic; text-align: right;\">5.39e8</td><td style = \"font-style: italic; text-align: right;\">6.39526</td><td style = \"font-style: italic; text-align: right;\">17.1</td><td style = \"font-style: italic; text-align: right;\">3.41e6</td><td style = \"font-style: italic; text-align: right;\">1.86e6</td><td style = \"font-style: italic; text-align: right;\">2.75e6</td><td style = \"font-style: italic; text-align: right;\">4.28e6</td><td style = \"font-style: italic; text-align: right;\">1.731e7</td><td style = \"font-style: italic; text-align: right;\">730000.0</td><td style = \"font-style: italic; text-align: right;\">3.84e7</td><td style = \"font-style: italic; text-align: right;\">1.98e7</td><td style = \"font-style: italic; text-align: right;\">190000.0</td><td style = \"font-style: italic; text-align: right;\">880000.0</td><td style = \"font-style: italic; text-align: right;\">-770000.0</td><td style = \"font-style: italic; text-align: right;\">2.221e7</td><td style = \"font-style: italic; text-align: right;\">0.0</td><td style = \"font-style: italic; text-align: right;\">2.63e6</td><td style = \"font-style: italic; text-align: right;\">5.02e6</td><td style = \"font-style: italic; text-align: right;\">3.867e7</td><td style = \"font-style: italic; text-align: right;\">0.0</td><td style = \"font-style: italic; text-align: right;\">2.414e7</td><td style = \"font-style: italic; text-align: right;\">1.587e7</td><td style = \"font-style: italic; text-align: right;\">370000.0</td><td style = \"font-style: italic; text-align: right;\">130000.0</td><td style = \"font-style: italic; text-align: right;\">2.29e7</td><td style = \"font-style: italic; text-align: right;\">2.3978e8</td><td style = \"font-style: italic; text-align: right;\">1.9e7</td><td style = \"font-style: italic; text-align: right;\">4.88117e9</td><td style = \"font-style: italic; text-align: right;\">60.8802</td><td style = \"font-style: italic; text-align: right;\">3.85255e8</td><td style = \"font-style: italic; text-align: right;\">3.51863e9</td><td style = \"font-style: italic; text-align: right;\">4.53e8</td><td style = \"font-style: italic; text-align: right;\">3.06563e9</td><td style = \"font-style: italic; text-align: right;\">9.77293e8</td><td style = \"font-style: italic; text-align: right;\">254.802</td><td style = \"font-style: italic; text-align: right;\">missing</td><td style = \"font-style: italic; text-align: right;\">20.0217</td><td style = \"text-align: right;\">&ctdot;</td></tr><tr><td class = \"rowNumber\" style = \"font-weight: bold; text-align: right;\">11113</td><td style = \"text-align: left;\">Zimbabwe</td><td style = \"text-align: left;\">ZWE</td><td style = \"text-align: right;\">1998</td><td style = \"font-style: italic; text-align: right;\">23000.0</td><td style = \"font-style: italic; text-align: right;\">175000.0</td><td style = \"font-style: italic; text-align: right;\">543.478</td><td style = \"text-align: right;\">143700.0</td><td style = \"text-align: right;\">37.1462</td><td style = \"text-align: right;\">3.22e6</td><td style = \"text-align: right;\">0.262908</td><td style = \"text-align: right;\">8.32364</td><td style = \"font-style: italic; text-align: right;\">1.66456e6</td><td style = \"font-style: italic; text-align: right;\">0.336048</td><td style = \"font-style: italic; text-align: right;\">197308.0</td><td style = \"font-style: italic; text-align: right;\">51.0037</td><td style = \"font-style: italic; text-align: right;\">4.47761</td><td style = \"text-align: right;\">386850.0</td><td style = \"font-style: italic; text-align: right;\">71.4286</td><td style = \"font-style: italic; text-align: right;\">98.54</td><td style = \"font-style: italic; text-align: right;\">86.05</td><td style = \"font-style: italic; text-align: right;\">82.33</td><td style = \"text-align: right;\">390760.0</td><td style = \"font-style: italic; text-align: right;\">1141.0</td><td style = \"font-style: italic; text-align: right;\">missing</td><td style = \"font-style: italic; text-align: right;\">missing</td><td style = \"font-style: italic; text-align: right;\">missing</td><td style = \"font-style: italic; text-align: right;\">missing</td><td style = \"font-style: italic; text-align: right;\">missing</td><td style = \"font-style: italic; text-align: right;\">missing</td><td style = \"font-style: italic; text-align: right;\">missing</td><td style = \"font-style: italic; text-align: right;\">missing</td><td style = \"font-style: italic; text-align: right;\">missing</td><td style = \"font-style: italic; text-align: right;\">missing</td><td style = \"font-style: italic; text-align: right;\">missing</td><td style = \"font-style: italic; text-align: right;\">missing</td><td style = \"font-style: italic; text-align: right;\">missing</td><td style = \"font-style: italic; text-align: right;\">missing</td><td style = \"font-style: italic; text-align: right;\">missing</td><td style = \"font-style: italic; text-align: right;\">missing</td><td style = \"font-style: italic; text-align: right;\">missing</td><td style = \"font-style: italic; text-align: right;\">missing</td><td style = \"font-style: italic; text-align: right;\">missing</td><td style = \"font-style: italic; text-align: right;\">missing</td><td style = \"font-style: italic; text-align: right;\">missing</td><td style = \"font-style: italic; text-align: right;\">missing</td><td style = \"font-style: italic; text-align: right;\">missing</td><td style = \"font-style: italic; text-align: right;\">missing</td><td style = \"font-style: italic; text-align: right;\">missing</td><td style = \"font-style: italic; text-align: right;\">missing</td><td style = \"font-style: italic; text-align: right;\">missing</td><td style = \"font-style: italic; text-align: right;\">missing</td><td style = \"font-style: italic; text-align: right;\">4.443e8</td><td style = \"font-style: italic; text-align: right;\">7.32404</td><td style = \"font-style: italic; text-align: right;\">0.0</td><td style = \"font-style: italic; text-align: right;\">missing</td><td style = \"font-style: italic; text-align: right;\">missing</td><td style = \"font-style: italic; text-align: right;\">missing</td><td style = \"font-style: italic; text-align: right;\">missing</td><td style = \"font-style: italic; text-align: right;\">missing</td><td style = \"font-style: italic; text-align: right;\">-58.1469</td><td style = \"font-style: italic; text-align: right;\">1.31e9</td><td style = \"font-style: italic; text-align: right;\">21.5946</td><td style = \"font-style: italic; text-align: right;\">67.0</td><td style = \"font-style: italic; text-align: right;\">1.86e8</td><td style = \"font-style: italic; text-align: right;\">3.06611</td><td style = \"font-style: italic; text-align: right;\">9.24</td><td style = \"font-style: italic; text-align: right;\">2.48e6</td><td style = \"font-style: italic; text-align: right;\">2.69e6</td><td style = \"font-style: italic; text-align: right;\">4.46e6</td><td style = \"font-style: italic; text-align: right;\">4.64e6</td><td style = \"font-style: italic; text-align: right;\">2.188e7</td><td style = \"font-style: italic; text-align: right;\">640000.0</td><td style = \"font-style: italic; text-align: right;\">1.593e7</td><td style = \"font-style: italic; text-align: right;\">2.33e7</td><td style = \"font-style: italic; text-align: right;\">6.29e6</td><td style = \"font-style: italic; text-align: right;\">-880000.0</td><td style = \"font-style: italic; text-align: right;\">-800000.0</td><td style = \"font-style: italic; text-align: right;\">3.674e7</td><td style = \"font-style: italic; text-align: right;\">20000.0</td><td style = \"font-style: italic; text-align: right;\">2.41e6</td><td style = \"font-style: italic; text-align: right;\">5.41e6</td><td style = \"font-style: italic; text-align: right;\">2.676e7</td><td style = \"font-style: italic; text-align: right;\">0.0</td><td style = \"font-style: italic; text-align: right;\">2.803e7</td><td style = \"font-style: italic; text-align: right;\">1.384e7</td><td style = \"font-style: italic; text-align: right;\">400000.0</td><td style = \"font-style: italic; text-align: right;\">10000.0</td><td style = \"font-style: italic; text-align: right;\">1.974e7</td><td style = \"font-style: italic; text-align: right;\">2.3819e8</td><td style = \"font-style: italic; text-align: right;\">2.42e7</td><td style = \"font-style: italic; text-align: right;\">4.59854e9</td><td style = \"font-style: italic; text-align: right;\">80.9647</td><td style = \"font-style: italic; text-align: right;\">4.07172e8</td><td style = \"font-style: italic; text-align: right;\">3.42258e9</td><td style = \"font-style: italic; text-align: right;\">2.27982e8</td><td style = \"font-style: italic; text-align: right;\">3.1946e9</td><td style = \"font-style: italic; text-align: right;\">7.68794e8</td><td style = \"font-style: italic; text-align: right;\">248.181</td><td style = \"font-style: italic; text-align: right;\">missing</td><td style = \"font-style: italic; text-align: right;\">16.7182</td><td style = \"text-align: right;\">&ctdot;</td></tr><tr><td class = \"rowNumber\" style = \"font-weight: bold; text-align: right;\">11114</td><td style = \"text-align: left;\">Zimbabwe</td><td style = \"text-align: left;\">ZWE</td><td style = \"text-align: right;\">1999</td><td style = \"font-style: italic; text-align: right;\">24000.0</td><td style = \"font-style: italic; text-align: right;\">185000.0</td><td style = \"font-style: italic; text-align: right;\">574.534</td><td style = \"text-align: right;\">145400.0</td><td style = \"text-align: right;\">37.5856</td><td style = \"text-align: right;\">3.22e6</td><td style = \"text-align: right;\">0.260298</td><td style = \"text-align: right;\">8.32364</td><td style = \"font-style: italic; text-align: right;\">1.83306e6</td><td style = \"font-style: italic; text-align: right;\">0.336048</td><td style = \"font-style: italic; text-align: right;\">194179.0</td><td style = \"font-style: italic; text-align: right;\">50.1949</td><td style = \"font-style: italic; text-align: right;\">5.19403</td><td style = \"text-align: right;\">386850.0</td><td style = \"font-style: italic; text-align: right;\">74.5342</td><td style = \"font-style: italic; text-align: right;\">93.38</td><td style = \"font-style: italic; text-align: right;\">94.53</td><td style = \"font-style: italic; text-align: right;\">94.17</td><td style = \"text-align: right;\">390760.0</td><td style = \"font-style: italic; text-align: right;\">1091.7</td><td style = \"font-style: italic; text-align: right;\">missing</td><td style = \"font-style: italic; text-align: right;\">missing</td><td style = \"font-style: italic; text-align: right;\">missing</td><td style = \"font-style: italic; text-align: right;\">missing</td><td style = \"font-style: italic; text-align: right;\">missing</td><td style = \"font-style: italic; text-align: right;\">missing</td><td style = \"font-style: italic; text-align: right;\">missing</td><td style = \"font-style: italic; text-align: right;\">missing</td><td style = \"font-style: italic; text-align: right;\">missing</td><td style = \"font-style: italic; text-align: right;\">missing</td><td style = \"font-style: italic; text-align: right;\">missing</td><td style = \"font-style: italic; text-align: right;\">missing</td><td style = \"font-style: italic; text-align: right;\">missing</td><td style = \"font-style: italic; text-align: right;\">missing</td><td style = \"font-style: italic; text-align: right;\">missing</td><td style = \"font-style: italic; text-align: right;\">missing</td><td style = \"font-style: italic; text-align: right;\">missing</td><td style = \"font-style: italic; text-align: right;\">missing</td><td style = \"font-style: italic; text-align: right;\">missing</td><td style = \"font-style: italic; text-align: right;\">missing</td><td style = \"font-style: italic; text-align: right;\">missing</td><td style = \"font-style: italic; text-align: right;\">missing</td><td style = \"font-style: italic; text-align: right;\">missing</td><td style = \"font-style: italic; text-align: right;\">missing</td><td style = \"font-style: italic; text-align: right;\">missing</td><td style = \"font-style: italic; text-align: right;\">missing</td><td style = \"font-style: italic; text-align: right;\">missing</td><td style = \"font-style: italic; text-align: right;\">missing</td><td style = \"font-style: italic; text-align: right;\">5.9e7</td><td style = \"font-style: italic; text-align: right;\">0.989245</td><td style = \"font-style: italic; text-align: right;\">0.0</td><td style = \"font-style: italic; text-align: right;\">missing</td><td style = \"font-style: italic; text-align: right;\">missing</td><td style = \"font-style: italic; text-align: right;\">missing</td><td style = \"font-style: italic; text-align: right;\">missing</td><td style = \"font-style: italic; text-align: right;\">missing</td><td style = \"font-style: italic; text-align: right;\">140.6</td><td style = \"font-style: italic; text-align: right;\">2.51439e9</td><td style = \"font-style: italic; text-align: right;\">42.1585</td><td style = \"font-style: italic; text-align: right;\">70.0</td><td style = \"font-style: italic; text-align: right;\">2.269e8</td><td style = \"font-style: italic; text-align: right;\">3.8044</td><td style = \"font-style: italic; text-align: right;\">12.04</td><td style = \"font-style: italic; text-align: right;\">3.04e6</td><td style = \"font-style: italic; text-align: right;\">1.18e6</td><td style = \"font-style: italic; text-align: right;\">4.26e6</td><td style = \"font-style: italic; text-align: right;\">3.65e6</td><td style = \"font-style: italic; text-align: right;\">4.2e6</td><td style = \"font-style: italic; text-align: right;\">250000.0</td><td style = \"font-style: italic; text-align: right;\">8.47e6</td><td style = \"font-style: italic; text-align: right;\">2.857e7</td><td style = \"font-style: italic; text-align: right;\">2.83e6</td><td style = \"font-style: italic; text-align: right;\">-1.97e6</td><td style = \"font-style: italic; text-align: right;\">170000.0</td><td style = \"font-style: italic; text-align: right;\">2.635e7</td><td style = \"font-style: italic; text-align: right;\">20000.0</td><td style = \"font-style: italic; text-align: right;\">1.7e6</td><td style = \"font-style: italic; text-align: right;\">-3.27e6</td><td style = \"font-style: italic; text-align: right;\">7.796e7</td><td style = \"font-style: italic; text-align: right;\">0.0</td><td style = \"font-style: italic; text-align: right;\">1.299e7</td><td style = \"font-style: italic; text-align: right;\">1.333e7</td><td style = \"font-style: italic; text-align: right;\">360000.0</td><td style = \"font-style: italic; text-align: right;\">70000.0</td><td style = \"font-style: italic; text-align: right;\">1.911e7</td><td style = \"font-style: italic; text-align: right;\">2.2343e8</td><td style = \"font-style: italic; text-align: right;\">2.016e7</td><td style = \"font-style: italic; text-align: right;\">4.32263e9</td><td style = \"font-style: italic; text-align: right;\">75.598</td><td style = \"font-style: italic; text-align: right;\">3.6893e8</td><td style = \"font-style: italic; text-align: right;\">3.20599e9</td><td style = \"font-style: italic; text-align: right;\">2.23704e8</td><td style = \"font-style: italic; text-align: right;\">2.98228e9</td><td style = \"font-style: italic; text-align: right;\">7.47711e8</td><td style = \"font-style: italic; text-align: right;\">155.636</td><td style = \"font-style: italic; text-align: right;\">missing</td><td style = \"font-style: italic; text-align: right;\">17.2976</td><td style = \"text-align: right;\">&ctdot;</td></tr><tr><td class = \"rowNumber\" style = \"font-weight: bold; text-align: right;\">11115</td><td style = \"text-align: left;\">Zimbabwe</td><td style = \"text-align: left;\">ZWE</td><td style = \"text-align: right;\">2000</td><td style = \"font-style: italic; text-align: right;\">24000.0</td><td style = \"font-style: italic; text-align: right;\">165300.0</td><td style = \"font-style: italic; text-align: right;\">513.354</td><td style = \"text-align: right;\">147100.0</td><td style = \"text-align: right;\">38.0251</td><td style = \"text-align: right;\">3.22e6</td><td style = \"text-align: right;\">0.258523</td><td style = \"text-align: right;\">8.32364</td><td style = \"font-style: italic; text-align: right;\">1.79759e6</td><td style = \"font-style: italic; text-align: right;\">0.336048</td><td style = \"font-style: italic; text-align: right;\">191050.0</td><td style = \"font-style: italic; text-align: right;\">49.3861</td><td style = \"font-style: italic; text-align: right;\">5.19403</td><td style = \"text-align: right;\">386850.0</td><td style = \"font-style: italic; text-align: right;\">74.5342</td><td style = \"font-style: italic; text-align: right;\">108.36</td><td style = \"font-style: italic; text-align: right;\">105.6</td><td style = \"font-style: italic; text-align: right;\">102.31</td><td style = \"text-align: right;\">390760.0</td><td style = \"font-style: italic; text-align: right;\">1412.6</td><td style = \"font-style: italic; text-align: right;\">missing</td><td style = \"font-style: italic; text-align: right;\">missing</td><td style = \"font-style: italic; text-align: right;\">missing</td><td style = \"font-style: italic; text-align: right;\">missing</td><td style = \"font-style: italic; text-align: right;\">missing</td><td style = \"font-style: italic; text-align: right;\">missing</td><td style = \"font-style: italic; text-align: right;\">missing</td><td style = \"font-style: italic; text-align: right;\">missing</td><td style = \"font-style: italic; text-align: right;\">missing</td><td style = \"font-style: italic; text-align: right;\">missing</td><td style = \"font-style: italic; text-align: right;\">missing</td><td style = \"font-style: italic; text-align: right;\">missing</td><td style = \"font-style: italic; text-align: right;\">missing</td><td style = \"font-style: italic; text-align: right;\">missing</td><td style = \"font-style: italic; text-align: right;\">missing</td><td style = \"font-style: italic; text-align: right;\">missing</td><td style = \"font-style: italic; text-align: right;\">missing</td><td style = \"font-style: italic; text-align: right;\">missing</td><td style = \"font-style: italic; text-align: right;\">missing</td><td style = \"font-style: italic; text-align: right;\">missing</td><td style = \"font-style: italic; text-align: right;\">missing</td><td style = \"font-style: italic; text-align: right;\">missing</td><td style = \"font-style: italic; text-align: right;\">missing</td><td style = \"font-style: italic; text-align: right;\">missing</td><td style = \"font-style: italic; text-align: right;\">missing</td><td style = \"font-style: italic; text-align: right;\">missing</td><td style = \"font-style: italic; text-align: right;\">missing</td><td style = \"font-style: italic; text-align: right;\">missing</td><td style = \"font-style: italic; text-align: right;\">2.32e7</td><td style = \"font-style: italic; text-align: right;\">0.313546</td><td style = \"font-style: italic; text-align: right;\">0.0</td><td style = \"font-style: italic; text-align: right;\">missing</td><td style = \"font-style: italic; text-align: right;\">missing</td><td style = \"font-style: italic; text-align: right;\">missing</td><td style = \"font-style: italic; text-align: right;\">missing</td><td style = \"font-style: italic; text-align: right;\">missing</td><td style = \"font-style: italic; text-align: right;\">-24.5719</td><td style = \"font-style: italic; text-align: right;\">2.43238e9</td><td style = \"font-style: italic; text-align: right;\">32.8734</td><td style = \"font-style: italic; text-align: right;\">69.0</td><td style = \"font-style: italic; text-align: right;\">2.7913e8</td><td style = \"font-style: italic; text-align: right;\">3.77242</td><td style = \"font-style: italic; text-align: right;\">10.77</td><td style = \"font-style: italic; text-align: right;\">3.66e6</td><td style = \"font-style: italic; text-align: right;\">1.45e6</td><td style = \"font-style: italic; text-align: right;\">4.27e6</td><td style = \"font-style: italic; text-align: right;\">8.95e6</td><td style = \"font-style: italic; text-align: right;\">-1.48e6</td><td style = \"font-style: italic; text-align: right;\">370000.0</td><td style = \"font-style: italic; text-align: right;\">1.246e7</td><td style = \"font-style: italic; text-align: right;\">2.245e7</td><td style = \"font-style: italic; text-align: right;\">1.25e6</td><td style = \"font-style: italic; text-align: right;\">180000.0</td><td style = \"font-style: italic; text-align: right;\">3.21e6</td><td style = \"font-style: italic; text-align: right;\">2.023e7</td><td style = \"font-style: italic; text-align: right;\">10000.0</td><td style = \"font-style: italic; text-align: right;\">1.6e6</td><td style = \"font-style: italic; text-align: right;\">710000.0</td><td style = \"font-style: italic; text-align: right;\">6.237e7</td><td style = \"font-style: italic; text-align: right;\">0.0</td><td style = \"font-style: italic; text-align: right;\">1.125e7</td><td style = \"font-style: italic; text-align: right;\">9.77e6</td><td style = \"font-style: italic; text-align: right;\">280000.0</td><td style = \"font-style: italic; text-align: right;\">240000.0</td><td style = \"font-style: italic; text-align: right;\">1.479e7</td><td style = \"font-style: italic; text-align: right;\">1.9113e8</td><td style = \"font-style: italic; text-align: right;\">1.311e7</td><td style = \"font-style: italic; text-align: right;\">3.82738e9</td><td style = \"font-style: italic; text-align: right;\">53.5662</td><td style = \"font-style: italic; text-align: right;\">2.80659e8</td><td style = \"font-style: italic; text-align: right;\">2.97891e9</td><td style = \"font-style: italic; text-align: right;\">2.04852e8</td><td style = \"font-style: italic; text-align: right;\">2.77406e9</td><td style = \"font-style: italic; text-align: right;\">5.67811e8</td><td style = \"font-style: italic; text-align: right;\">176.722</td><td style = \"font-style: italic; text-align: right;\">missing</td><td style = \"font-style: italic; text-align: right;\">14.8355</td><td style = \"text-align: right;\">&ctdot;</td></tr><tr><td class = \"rowNumber\" style = \"font-weight: bold; text-align: right;\">11116</td><td style = \"text-align: left;\">Zimbabwe</td><td style = \"text-align: left;\">ZWE</td><td style = \"text-align: right;\">2001</td><td style = \"font-style: italic; text-align: right;\">24000.0</td><td style = \"font-style: italic; text-align: right;\">152200.0</td><td style = \"font-style: italic; text-align: right;\">472.671</td><td style = \"text-align: right;\">148900.0</td><td style = \"text-align: right;\">38.4904</td><td style = \"text-align: right;\">3.22e6</td><td style = \"text-align: right;\">0.25755</td><td style = \"text-align: right;\">8.32364</td><td style = \"font-style: italic; text-align: right;\">1.59985e6</td><td style = \"font-style: italic; text-align: right;\">0.336048</td><td style = \"font-style: italic; text-align: right;\">187920.0</td><td style = \"font-style: italic; text-align: right;\">48.577</td><td style = \"font-style: italic; text-align: right;\">5.19403</td><td style = \"text-align: right;\">386850.0</td><td style = \"font-style: italic; text-align: right;\">74.5342</td><td style = \"font-style: italic; text-align: right;\">98.26</td><td style = \"font-style: italic; text-align: right;\">99.87</td><td style = \"font-style: italic; text-align: right;\">103.52</td><td style = \"text-align: right;\">390760.0</td><td style = \"font-style: italic; text-align: right;\">1233.3</td><td style = \"font-style: italic; text-align: right;\">missing</td><td style = \"font-style: italic; text-align: right;\">missing</td><td style = \"font-style: italic; text-align: right;\">missing</td><td style = \"font-style: italic; text-align: right;\">missing</td><td style = \"font-style: italic; text-align: right;\">missing</td><td style = \"font-style: italic; text-align: right;\">missing</td><td style = \"font-style: italic; text-align: right;\">missing</td><td style = \"font-style: italic; text-align: right;\">missing</td><td style = \"font-style: italic; text-align: right;\">missing</td><td style = \"font-style: italic; text-align: right;\">missing</td><td style = \"font-style: italic; text-align: right;\">missing</td><td style = \"font-style: italic; text-align: right;\">missing</td><td style = \"font-style: italic; text-align: right;\">missing</td><td style = \"font-style: italic; text-align: right;\">missing</td><td style = \"font-style: italic; text-align: right;\">missing</td><td style = \"font-style: italic; text-align: right;\">missing</td><td style = \"font-style: italic; text-align: right;\">missing</td><td style = \"font-style: italic; text-align: right;\">missing</td><td style = \"font-style: italic; text-align: right;\">missing</td><td style = \"font-style: italic; text-align: right;\">missing</td><td style = \"font-style: italic; text-align: right;\">missing</td><td style = \"font-style: italic; text-align: right;\">missing</td><td style = \"font-style: italic; text-align: right;\">missing</td><td style = \"font-style: italic; text-align: right;\">missing</td><td style = \"font-style: italic; text-align: right;\">missing</td><td style = \"font-style: italic; text-align: right;\">missing</td><td style = \"font-style: italic; text-align: right;\">missing</td><td style = \"font-style: italic; text-align: right;\">missing</td><td style = \"font-style: italic; text-align: right;\">3.8e6</td><td style = \"font-style: italic; text-align: right;\">0.0370498</td><td style = \"font-style: italic; text-align: right;\">0.0</td><td style = \"font-style: italic; text-align: right;\">missing</td><td style = \"font-style: italic; text-align: right;\">missing</td><td style = \"font-style: italic; text-align: right;\">missing</td><td style = \"font-style: italic; text-align: right;\">missing</td><td style = \"font-style: italic; text-align: right;\">missing</td><td style = \"font-style: italic; text-align: right;\">134.277</td><td style = \"font-style: italic; text-align: right;\">7.97228e9</td><td style = \"font-style: italic; text-align: right;\">77.7293</td><td style = \"font-style: italic; text-align: right;\">72.0</td><td style = \"font-style: italic; text-align: right;\">1.52961e9</td><td style = \"font-style: italic; text-align: right;\">14.9136</td><td style = \"font-style: italic; text-align: right;\">29.4</td><td style = \"font-style: italic; text-align: right;\">2.63e6</td><td style = \"font-style: italic; text-align: right;\">810000.0</td><td style = \"font-style: italic; text-align: right;\">2.86e6</td><td style = \"font-style: italic; text-align: right;\">2.98e6</td><td style = \"font-style: italic; text-align: right;\">5.48e6</td><td style = \"font-style: italic; text-align: right;\">340000.0</td><td style = \"font-style: italic; text-align: right;\">1.018e7</td><td style = \"font-style: italic; text-align: right;\">1.789e7</td><td style = \"font-style: italic; text-align: right;\">260000.0</td><td style = \"font-style: italic; text-align: right;\">170000.0</td><td style = \"font-style: italic; text-align: right;\">1.99e6</td><td style = \"font-style: italic; text-align: right;\">1.807e7</td><td style = \"font-style: italic; text-align: right;\">20000.0</td><td style = \"font-style: italic; text-align: right;\">1.14e6</td><td style = \"font-style: italic; text-align: right;\">1.74e6</td><td style = \"font-style: italic; text-align: right;\">2.901e7</td><td style = \"font-style: italic; text-align: right;\">0.0</td><td style = \"font-style: italic; text-align: right;\">2.351e7</td><td style = \"font-style: italic; text-align: right;\">1.021e7</td><td style = \"font-style: italic; text-align: right;\">410000.0</td><td style = \"font-style: italic; text-align: right;\">140000.0</td><td style = \"font-style: italic; text-align: right;\">8.22e6</td><td style = \"font-style: italic; text-align: right;\">1.5403e8</td><td style = \"font-style: italic; text-align: right;\">1.597e7</td><td style = \"font-style: italic; text-align: right;\">3.59012e9</td><td style = \"font-style: italic; text-align: right;\">36.1929</td><td style = \"font-style: italic; text-align: right;\">2.61951e8</td><td style = \"font-style: italic; text-align: right;\">2.80706e9</td><td style = \"font-style: italic; text-align: right;\">1.28281e8</td><td style = \"font-style: italic; text-align: right;\">2.67878e9</td><td style = \"font-style: italic; text-align: right;\">5.21109e8</td><td style = \"font-style: italic; text-align: right;\">436.223</td><td style = \"font-style: italic; text-align: right;\">missing</td><td style = \"font-style: italic; text-align: right;\">14.5151</td><td style = \"text-align: right;\">&ctdot;</td></tr><tr><td class = \"rowNumber\" style = \"font-weight: bold; text-align: right;\">11117</td><td style = \"text-align: left;\">Zimbabwe</td><td style = \"text-align: left;\">ZWE</td><td style = \"text-align: right;\">2002</td><td style = \"font-style: italic; text-align: right;\">24000.0</td><td style = \"font-style: italic; text-align: right;\">130311.0</td><td style = \"font-style: italic; text-align: right;\">404.693</td><td style = \"text-align: right;\">150700.0</td><td style = \"text-align: right;\">38.9557</td><td style = \"text-align: right;\">3.22e6</td><td style = \"text-align: right;\">0.257237</td><td style = \"text-align: right;\">8.32364</td><td style = \"font-style: italic; text-align: right;\">1.65011e6</td><td style = \"font-style: italic; text-align: right;\">0.336048</td><td style = \"font-style: italic; text-align: right;\">184790.0</td><td style = \"font-style: italic; text-align: right;\">47.7679</td><td style = \"font-style: italic; text-align: right;\">5.19403</td><td style = \"text-align: right;\">386850.0</td><td style = \"font-style: italic; text-align: right;\">74.5342</td><td style = \"font-style: italic; text-align: right;\">72.61</td><td style = \"font-style: italic; text-align: right;\">80.34</td><td style = \"font-style: italic; text-align: right;\">101.8</td><td style = \"text-align: right;\">390760.0</td><td style = \"font-style: italic; text-align: right;\">465.1</td><td style = \"font-style: italic; text-align: right;\">missing</td><td style = \"font-style: italic; text-align: right;\">missing</td><td style = \"font-style: italic; text-align: right;\">missing</td><td style = \"font-style: italic; text-align: right;\">missing</td><td style = \"font-style: italic; text-align: right;\">missing</td><td style = \"font-style: italic; text-align: right;\">missing</td><td style = \"font-style: italic; text-align: right;\">missing</td><td style = \"font-style: italic; text-align: right;\">missing</td><td style = \"font-style: italic; text-align: right;\">missing</td><td style = \"font-style: italic; text-align: right;\">missing</td><td style = \"font-style: italic; text-align: right;\">missing</td><td style = \"font-style: italic; text-align: right;\">missing</td><td style = \"font-style: italic; text-align: right;\">missing</td><td style = \"font-style: italic; text-align: right;\">missing</td><td style = \"font-style: italic; text-align: right;\">missing</td><td style = \"font-style: italic; text-align: right;\">missing</td><td style = \"font-style: italic; text-align: right;\">missing</td><td style = \"font-style: italic; text-align: right;\">missing</td><td style = \"font-style: italic; text-align: right;\">missing</td><td style = \"font-style: italic; text-align: right;\">missing</td><td style = \"font-style: italic; text-align: right;\">missing</td><td style = \"font-style: italic; text-align: right;\">missing</td><td style = \"font-style: italic; text-align: right;\">missing</td><td style = \"font-style: italic; text-align: right;\">missing</td><td style = \"font-style: italic; text-align: right;\">missing</td><td style = \"font-style: italic; text-align: right;\">missing</td><td style = \"font-style: italic; text-align: right;\">missing</td><td style = \"font-style: italic; text-align: right;\">missing</td><td style = \"font-style: italic; text-align: right;\">2.59e7</td><td style = \"font-style: italic; text-align: right;\">0.118281</td><td style = \"font-style: italic; text-align: right;\">0.0</td><td style = \"font-style: italic; text-align: right;\">missing</td><td style = \"font-style: italic; text-align: right;\">missing</td><td style = \"font-style: italic; text-align: right;\">missing</td><td style = \"font-style: italic; text-align: right;\">missing</td><td style = \"font-style: italic; text-align: right;\">missing</td><td style = \"font-style: italic; text-align: right;\">97.94</td><td style = \"font-style: italic; text-align: right;\">1.56321e10</td><td style = \"font-style: italic; text-align: right;\">71.3891</td><td style = \"font-style: italic; text-align: right;\">76.0</td><td style = \"font-style: italic; text-align: right;\">2.48507e9</td><td style = \"font-style: italic; text-align: right;\">11.3489</td><td style = \"font-style: italic; text-align: right;\">19.19</td><td style = \"font-style: italic; text-align: right;\">3.39e6</td><td style = \"font-style: italic; text-align: right;\">380000.0</td><td style = \"font-style: italic; text-align: right;\">3.37e6</td><td style = \"font-style: italic; text-align: right;\">6.52e6</td><td style = \"font-style: italic; text-align: right;\">6.47e6</td><td style = \"font-style: italic; text-align: right;\">1.09e6</td><td style = \"font-style: italic; text-align: right;\">1.033e7</td><td style = \"font-style: italic; text-align: right;\">5.55e6</td><td style = \"font-style: italic; text-align: right;\">270000.0</td><td style = \"font-style: italic; text-align: right;\">670000.0</td><td style = \"font-style: italic; text-align: right;\">3.22e6</td><td style = \"font-style: italic; text-align: right;\">2.872e7</td><td style = \"font-style: italic; text-align: right;\">20000.0</td><td style = \"font-style: italic; text-align: right;\">3.25e6</td><td style = \"font-style: italic; text-align: right;\">2.09e6</td><td style = \"font-style: italic; text-align: right;\">2.364e7</td><td style = \"font-style: italic; text-align: right;\">110000.0</td><td style = \"font-style: italic; text-align: right;\">2.233e7</td><td style = \"font-style: italic; text-align: right;\">7.19e6</td><td style = \"font-style: italic; text-align: right;\">350000.0</td><td style = \"font-style: italic; text-align: right;\">30000.0</td><td style = \"font-style: italic; text-align: right;\">8.26e6</td><td style = \"font-style: italic; text-align: right;\">1.8429e8</td><td style = \"font-style: italic; text-align: right;\">4.704e7</td><td style = \"font-style: italic; text-align: right;\">3.8869e9</td><td style = \"font-style: italic; text-align: right;\">17.9526</td><td style = \"font-style: italic; text-align: right;\">2.80246e8</td><td style = \"font-style: italic; text-align: right;\">3.10395e9</td><td style = \"font-style: italic; text-align: right;\">8.3293e7</td><td style = \"font-style: italic; text-align: right;\">3.02066e9</td><td style = \"font-style: italic; text-align: right;\">5.02705e8</td><td style = \"font-style: italic; text-align: right;\">381.746</td><td style = \"font-style: italic; text-align: right;\">missing</td><td style = \"font-style: italic; text-align: right;\">12.9333</td><td style = \"text-align: right;\">&ctdot;</td></tr><tr><td class = \"rowNumber\" style = \"font-weight: bold; text-align: right;\">11118</td><td style = \"text-align: left;\">Zimbabwe</td><td style = \"text-align: left;\">ZWE</td><td style = \"text-align: right;\">2003</td><td style = \"font-style: italic; text-align: right;\">24000.0</td><td style = \"font-style: italic; text-align: right;\">146032.0</td><td style = \"font-style: italic; text-align: right;\">453.516</td><td style = \"text-align: right;\">152500.0</td><td style = \"text-align: right;\">39.421</td><td style = \"text-align: right;\">3.22e6</td><td style = \"text-align: right;\">0.25739</td><td style = \"text-align: right;\">8.32364</td><td style = \"font-style: italic; text-align: right;\">1.6758e6</td><td style = \"font-style: italic; text-align: right;\">0.336048</td><td style = \"font-style: italic; text-align: right;\">181660.0</td><td style = \"font-style: italic; text-align: right;\">46.9588</td><td style = \"font-style: italic; text-align: right;\">5.19403</td><td style = \"text-align: right;\">386850.0</td><td style = \"font-style: italic; text-align: right;\">74.5342</td><td style = \"font-style: italic; text-align: right;\">69.95</td><td style = \"font-style: italic; text-align: right;\">87.2</td><td style = \"font-style: italic; text-align: right;\">99.67</td><td style = \"text-align: right;\">390760.0</td><td style = \"font-style: italic; text-align: right;\">714.5</td><td style = \"font-style: italic; text-align: right;\">missing</td><td style = \"font-style: italic; text-align: right;\">missing</td><td style = \"font-style: italic; text-align: right;\">missing</td><td style = \"font-style: italic; text-align: right;\">missing</td><td style = \"font-style: italic; text-align: right;\">missing</td><td style = \"font-style: italic; text-align: right;\">missing</td><td style = \"font-style: italic; text-align: right;\">missing</td><td style = \"font-style: italic; text-align: right;\">missing</td><td style = \"font-style: italic; text-align: right;\">missing</td><td style = \"font-style: italic; text-align: right;\">missing</td><td style = \"font-style: italic; text-align: right;\">missing</td><td style = \"font-style: italic; text-align: right;\">missing</td><td style = \"font-style: italic; text-align: right;\">missing</td><td style = \"font-style: italic; text-align: right;\">missing</td><td style = \"font-style: italic; text-align: right;\">missing</td><td style = \"font-style: italic; text-align: right;\">missing</td><td style = \"font-style: italic; text-align: right;\">missing</td><td style = \"font-style: italic; text-align: right;\">missing</td><td style = \"font-style: italic; text-align: right;\">missing</td><td style = \"font-style: italic; text-align: right;\">missing</td><td style = \"font-style: italic; text-align: right;\">missing</td><td style = \"font-style: italic; text-align: right;\">missing</td><td style = \"font-style: italic; text-align: right;\">missing</td><td style = \"font-style: italic; text-align: right;\">missing</td><td style = \"font-style: italic; text-align: right;\">missing</td><td style = \"font-style: italic; text-align: right;\">missing</td><td style = \"font-style: italic; text-align: right;\">missing</td><td style = \"font-style: italic; text-align: right;\">missing</td><td style = \"font-style: italic; text-align: right;\">3.8e6</td><td style = \"font-style: italic; text-align: right;\">0.0513706</td><td style = \"font-style: italic; text-align: right;\">0.0</td><td style = \"font-style: italic; text-align: right;\">missing</td><td style = \"font-style: italic; text-align: right;\">missing</td><td style = \"font-style: italic; text-align: right;\">missing</td><td style = \"font-style: italic; text-align: right;\">missing</td><td style = \"font-style: italic; text-align: right;\">missing</td><td style = \"font-style: italic; text-align: right;\">-74.76</td><td style = \"font-style: italic; text-align: right;\">4.97545e9</td><td style = \"font-style: italic; text-align: right;\">67.261</td><td style = \"font-style: italic; text-align: right;\">81.0</td><td style = \"font-style: italic; text-align: right;\">1.3447e9</td><td style = \"font-style: italic; text-align: right;\">18.1784</td><td style = \"font-style: italic; text-align: right;\">26.14</td><td style = \"font-style: italic; text-align: right;\">1.5e6</td><td style = \"font-style: italic; text-align: right;\">810000.0</td><td style = \"font-style: italic; text-align: right;\">2.75e6</td><td style = \"font-style: italic; text-align: right;\">7.06e6</td><td style = \"font-style: italic; text-align: right;\">1.419e7</td><td style = \"font-style: italic; text-align: right;\">590000.0</td><td style = \"font-style: italic; text-align: right;\">1.162e7</td><td style = \"font-style: italic; text-align: right;\">2.0e6</td><td style = \"font-style: italic; text-align: right;\">40000.0</td><td style = \"font-style: italic; text-align: right;\">280000.0</td><td style = \"font-style: italic; text-align: right;\">5.16e6</td><td style = \"font-style: italic; text-align: right;\">5.89e7</td><td style = \"font-style: italic; text-align: right;\">60000.0</td><td style = \"font-style: italic; text-align: right;\">4.27e6</td><td style = \"font-style: italic; text-align: right;\">1.12e6</td><td style = \"font-style: italic; text-align: right;\">5.01e6</td><td style = \"font-style: italic; text-align: right;\">150000.0</td><td style = \"font-style: italic; text-align: right;\">6.68e6</td><td style = \"font-style: italic; text-align: right;\">6.85e6</td><td style = \"font-style: italic; text-align: right;\">760000.0</td><td style = \"font-style: italic; text-align: right;\">0.0</td><td style = \"font-style: italic; text-align: right;\">1.013e7</td><td style = \"font-style: italic; text-align: right;\">1.7489e8</td><td style = \"font-style: italic; text-align: right;\">3.496e7</td><td style = \"font-style: italic; text-align: right;\">4.48338e9</td><td style = \"font-style: italic; text-align: right;\">62.2127</td><td style = \"font-style: italic; text-align: right;\">3.01554e8</td><td style = \"font-style: italic; text-align: right;\">3.44826e9</td><td style = \"font-style: italic; text-align: right;\">6.0131e7</td><td style = \"font-style: italic; text-align: right;\">3.38813e9</td><td style = \"font-style: italic; text-align: right;\">7.33573e8</td><td style = \"font-style: italic; text-align: right;\">missing</td><td style = \"font-style: italic; text-align: right;\">missing</td><td style = \"font-style: italic; text-align: right;\">16.362</td><td style = \"text-align: right;\">&ctdot;</td></tr><tr><td class = \"rowNumber\" style = \"font-weight: bold; text-align: right;\">11119</td><td style = \"text-align: left;\">Zimbabwe</td><td style = \"text-align: left;\">ZWE</td><td style = \"text-align: right;\">2004</td><td style = \"font-style: italic; text-align: right;\">24000.0</td><td style = \"font-style: italic; text-align: right;\">86352.0</td><td style = \"font-style: italic; text-align: right;\">268.174</td><td style = \"text-align: right;\">154300.0</td><td style = \"text-align: right;\">39.8863</td><td style = \"text-align: right;\">3.22e6</td><td style = \"text-align: right;\">0.257759</td><td style = \"text-align: right;\">8.32364</td><td style = \"font-style: italic; text-align: right;\">1.97242e6</td><td style = \"font-style: italic; text-align: right;\">0.336048</td><td style = \"font-style: italic; text-align: right;\">178530.0</td><td style = \"font-style: italic; text-align: right;\">46.1497</td><td style = \"font-style: italic; text-align: right;\">missing</td><td style = \"text-align: right;\">386850.0</td><td style = \"font-style: italic; text-align: right;\">74.5342</td><td style = \"font-style: italic; text-align: right;\">61.7</td><td style = \"font-style: italic; text-align: right;\">82.52</td><td style = \"font-style: italic; text-align: right;\">99.81</td><td style = \"text-align: right;\">390760.0</td><td style = \"font-style: italic; text-align: right;\">1036.1</td><td style = \"font-style: italic; text-align: right;\">missing</td><td style = \"font-style: italic; text-align: right;\">missing</td><td style = \"font-style: italic; text-align: right;\">missing</td><td style = \"font-style: italic; text-align: right;\">missing</td><td style = \"font-style: italic; text-align: right;\">missing</td><td style = \"font-style: italic; text-align: right;\">missing</td><td style = \"font-style: italic; text-align: right;\">missing</td><td style = \"font-style: italic; text-align: right;\">missing</td><td style = \"font-style: italic; text-align: right;\">missing</td><td style = \"font-style: italic; text-align: right;\">missing</td><td style = \"font-style: italic; text-align: right;\">missing</td><td style = \"font-style: italic; text-align: right;\">missing</td><td style = \"font-style: italic; text-align: right;\">missing</td><td style = \"font-style: italic; text-align: right;\">missing</td><td style = \"font-style: italic; text-align: right;\">missing</td><td style = \"font-style: italic; text-align: right;\">missing</td><td style = \"font-style: italic; text-align: right;\">missing</td><td style = \"font-style: italic; text-align: right;\">missing</td><td style = \"font-style: italic; text-align: right;\">missing</td><td style = \"font-style: italic; text-align: right;\">missing</td><td style = \"font-style: italic; text-align: right;\">missing</td><td style = \"font-style: italic; text-align: right;\">missing</td><td style = \"font-style: italic; text-align: right;\">missing</td><td style = \"font-style: italic; text-align: right;\">missing</td><td style = \"font-style: italic; text-align: right;\">missing</td><td style = \"font-style: italic; text-align: right;\">missing</td><td style = \"font-style: italic; text-align: right;\">missing</td><td style = \"font-style: italic; text-align: right;\">missing</td><td style = \"font-style: italic; text-align: right;\">8.7e6</td><td style = \"font-style: italic; text-align: right;\">0.184624</td><td style = \"font-style: italic; text-align: right;\">0.0</td><td style = \"font-style: italic; text-align: right;\">missing</td><td style = \"font-style: italic; text-align: right;\">missing</td><td style = \"font-style: italic; text-align: right;\">missing</td><td style = \"font-style: italic; text-align: right;\">missing</td><td style = \"font-style: italic; text-align: right;\">0.0</td><td style = \"font-style: italic; text-align: right;\">-26.7</td><td style = \"font-style: italic; text-align: right;\">1.94142e9</td><td style = \"font-style: italic; text-align: right;\">41.1991</td><td style = \"font-style: italic; text-align: right;\">79.0</td><td style = \"font-style: italic; text-align: right;\">1.3573e8</td><td style = \"font-style: italic; text-align: right;\">2.88034</td><td style = \"font-style: italic; text-align: right;\">9.22</td><td style = \"font-style: italic; text-align: right;\">530000.0</td><td style = \"font-style: italic; text-align: right;\">-120000.0</td><td style = \"font-style: italic; text-align: right;\">3.65e6</td><td style = \"font-style: italic; text-align: right;\">1.19e7</td><td style = \"font-style: italic; text-align: right;\">2.84e7</td><td style = \"font-style: italic; text-align: right;\">1.48e6</td><td style = \"font-style: italic; text-align: right;\">1.569e7</td><td style = \"font-style: italic; text-align: right;\">3.57e6</td><td style = \"font-style: italic; text-align: right;\">160000.0</td><td style = \"font-style: italic; text-align: right;\">1.32e6</td><td style = \"font-style: italic; text-align: right;\">3.14e6</td><td style = \"font-style: italic; text-align: right;\">4.966e7</td><td style = \"font-style: italic; text-align: right;\">230000.0</td><td style = \"font-style: italic; text-align: right;\">5.49e6</td><td style = \"font-style: italic; text-align: right;\">1.44e6</td><td style = \"font-style: italic; text-align: right;\">3.56e6</td><td style = \"font-style: italic; text-align: right;\">20000.0</td><td style = \"font-style: italic; text-align: right;\">1.244e7</td><td style = \"font-style: italic; text-align: right;\">8.1e6</td><td style = \"font-style: italic; text-align: right;\">840000.0</td><td style = \"font-style: italic; text-align: right;\">0.0</td><td style = \"font-style: italic; text-align: right;\">1.288e7</td><td style = \"font-style: italic; text-align: right;\">1.9482e8</td><td style = \"font-style: italic; text-align: right;\">3.044e7</td><td style = \"font-style: italic; text-align: right;\">4.78755e9</td><td style = \"font-style: italic; text-align: right;\">106.31</td><td style = \"font-style: italic; text-align: right;\">2.93207e8</td><td style = \"font-style: italic; text-align: right;\">3.61007e9</td><td style = \"font-style: italic; text-align: right;\">4.5913e7</td><td style = \"font-style: italic; text-align: right;\">3.56415e9</td><td style = \"font-style: italic; text-align: right;\">8.84277e8</td><td style = \"font-style: italic; text-align: right;\">missing</td><td style = \"font-style: italic; text-align: right;\">missing</td><td style = \"font-style: italic; text-align: right;\">18.4703</td><td style = \"text-align: right;\">&ctdot;</td></tr><tr><td class = \"rowNumber\" style = \"font-weight: bold; text-align: right;\">11120</td><td style = \"text-align: left;\">Zimbabwe</td><td style = \"text-align: left;\">ZWE</td><td style = \"text-align: right;\">2005</td><td style = \"font-style: italic; text-align: right;\">24000.0</td><td style = \"font-style: italic; text-align: right;\">85018.0</td><td style = \"font-style: italic; text-align: right;\">264.031</td><td style = \"text-align: right;\">156100.0</td><td style = \"text-align: right;\">40.3516</td><td style = \"text-align: right;\">3.22e6</td><td style = \"text-align: right;\">0.258114</td><td style = \"text-align: right;\">8.32364</td><td style = \"font-style: italic; text-align: right;\">2.10057e6</td><td style = \"font-style: italic; text-align: right;\">0.336048</td><td style = \"font-style: italic; text-align: right;\">175400.0</td><td style = \"font-style: italic; text-align: right;\">45.3406</td><td style = \"font-style: italic; text-align: right;\">missing</td><td style = \"text-align: right;\">386850.0</td><td style = \"font-style: italic; text-align: right;\">74.5342</td><td style = \"font-style: italic; text-align: right;\">63.6</td><td style = \"font-style: italic; text-align: right;\">84.46</td><td style = \"font-style: italic; text-align: right;\">99.81</td><td style = \"text-align: right;\">390760.0</td><td style = \"font-style: italic; text-align: right;\">552.9</td><td style = \"font-style: italic; text-align: right;\">missing</td><td style = \"font-style: italic; text-align: right;\">missing</td><td style = \"font-style: italic; text-align: right;\">missing</td><td style = \"font-style: italic; text-align: right;\">missing</td><td style = \"font-style: italic; text-align: right;\">missing</td><td style = \"font-style: italic; text-align: right;\">missing</td><td style = \"font-style: italic; text-align: right;\">missing</td><td style = \"font-style: italic; text-align: right;\">missing</td><td style = \"font-style: italic; text-align: right;\">missing</td><td style = \"font-style: italic; text-align: right;\">missing</td><td style = \"font-style: italic; text-align: right;\">missing</td><td style = \"font-style: italic; text-align: right;\">missing</td><td style = \"font-style: italic; text-align: right;\">missing</td><td style = \"font-style: italic; text-align: right;\">missing</td><td style = \"font-style: italic; text-align: right;\">missing</td><td style = \"font-style: italic; text-align: right;\">missing</td><td style = \"font-style: italic; text-align: right;\">missing</td><td style = \"font-style: italic; text-align: right;\">missing</td><td style = \"font-style: italic; text-align: right;\">missing</td><td style = \"font-style: italic; text-align: right;\">missing</td><td style = \"font-style: italic; text-align: right;\">missing</td><td style = \"font-style: italic; text-align: right;\">missing</td><td style = \"font-style: italic; text-align: right;\">missing</td><td style = \"font-style: italic; text-align: right;\">missing</td><td style = \"font-style: italic; text-align: right;\">missing</td><td style = \"font-style: italic; text-align: right;\">missing</td><td style = \"font-style: italic; text-align: right;\">missing</td><td style = \"font-style: italic; text-align: right;\">missing</td><td style = \"font-style: italic; text-align: right;\">1.028e8</td><td style = \"font-style: italic; text-align: right;\">3.00752</td><td style = \"font-style: italic; text-align: right;\">0.0</td><td style = \"font-style: italic; text-align: right;\">missing</td><td style = \"font-style: italic; text-align: right;\">missing</td><td style = \"font-style: italic; text-align: right;\">missing</td><td style = \"font-style: italic; text-align: right;\">missing</td><td style = \"font-style: italic; text-align: right;\">0.0</td><td style = \"font-style: italic; text-align: right;\">36.5823</td><td style = \"font-style: italic; text-align: right;\">2.40169e9</td><td style = \"font-style: italic; text-align: right;\">70.264</td><td style = \"font-style: italic; text-align: right;\">79.0</td><td style = \"font-style: italic; text-align: right;\">3.3164e8</td><td style = \"font-style: italic; text-align: right;\">9.70248</td><td style = \"font-style: italic; text-align: right;\">15.272</td><td style = \"font-style: italic; text-align: right;\">780000.0</td><td style = \"font-style: italic; text-align: right;\">410000.0</td><td style = \"font-style: italic; text-align: right;\">3.69e6</td><td style = \"font-style: italic; text-align: right;\">1.354e7</td><td style = \"font-style: italic; text-align: right;\">4.033e7</td><td style = \"font-style: italic; text-align: right;\">1.61e6</td><td style = \"font-style: italic; text-align: right;\">1.35e7</td><td style = \"font-style: italic; text-align: right;\">7.52e6</td><td style = \"font-style: italic; text-align: right;\">770000.0</td><td style = \"font-style: italic; text-align: right;\">20000.0</td><td style = \"font-style: italic; text-align: right;\">3.84e6</td><td style = \"font-style: italic; text-align: right;\">4.548e7</td><td style = \"font-style: italic; text-align: right;\">450000.0</td><td style = \"font-style: italic; text-align: right;\">5.17e6</td><td style = \"font-style: italic; text-align: right;\">1.07e6</td><td style = \"font-style: italic; text-align: right;\">4.09e6</td><td style = \"font-style: italic; text-align: right;\">10000.0</td><td style = \"font-style: italic; text-align: right;\">1.36e7</td><td style = \"font-style: italic; text-align: right;\">1.356e7</td><td style = \"font-style: italic; text-align: right;\">1.16e6</td><td style = \"font-style: italic; text-align: right;\">0.0</td><td style = \"font-style: italic; text-align: right;\">1.509e7</td><td style = \"font-style: italic; text-align: right;\">2.2734e8</td><td style = \"font-style: italic; text-align: right;\">4.165e7</td><td style = \"font-style: italic; text-align: right;\">4.25485e9</td><td style = \"font-style: italic; text-align: right;\">132.135</td><td style = \"font-style: italic; text-align: right;\">1.10507e8</td><td style = \"font-style: italic; text-align: right;\">3.24875e9</td><td style = \"font-style: italic; text-align: right;\">3.1727e7</td><td style = \"font-style: italic; text-align: right;\">3.21702e9</td><td style = \"font-style: italic; text-align: right;\">8.95596e8</td><td style = \"font-style: italic; text-align: right;\">missing</td><td style = \"font-style: italic; text-align: right;\">missing</td><td style = \"font-style: italic; text-align: right;\">21.0488</td><td style = \"text-align: right;\">&ctdot;</td></tr><tr><td class = \"rowNumber\" style = \"font-weight: bold; text-align: right;\">11121</td><td style = \"text-align: left;\">Zimbabwe</td><td style = \"text-align: left;\">ZWE</td><td style = \"text-align: right;\">2006</td><td style = \"font-style: italic; text-align: right;\">24000.0</td><td style = \"font-style: italic; text-align: right;\">132661.0</td><td style = \"font-style: italic; text-align: right;\">missing</td><td style = \"text-align: right;\">missing</td><td style = \"text-align: right;\">missing</td><td style = \"text-align: right;\">missing</td><td style = \"text-align: right;\">missing</td><td style = \"text-align: right;\">missing</td><td style = \"font-style: italic; text-align: right;\">2.25688e6</td><td style = \"font-style: italic; text-align: right;\">missing</td><td style = \"font-style: italic; text-align: right;\">missing</td><td style = \"font-style: italic; text-align: right;\">missing</td><td style = \"font-style: italic; text-align: right;\">missing</td><td style = \"text-align: right;\">386850.0</td><td style = \"font-style: italic; text-align: right;\">missing</td><td style = \"font-style: italic; text-align: right;\">missing</td><td style = \"font-style: italic; text-align: right;\">missing</td><td style = \"font-style: italic; text-align: right;\">missing</td><td style = \"text-align: right;\">390760.0</td><td style = \"font-style: italic; text-align: right;\">819.2</td><td style = \"font-style: italic; text-align: right;\">missing</td><td style = \"font-style: italic; text-align: right;\">missing</td><td style = \"font-style: italic; text-align: right;\">missing</td><td style = \"font-style: italic; text-align: right;\">missing</td><td style = \"font-style: italic; text-align: right;\">missing</td><td style = \"font-style: italic; text-align: right;\">missing</td><td style = \"font-style: italic; text-align: right;\">missing</td><td style = \"font-style: italic; text-align: right;\">missing</td><td style = \"font-style: italic; text-align: right;\">missing</td><td style = \"font-style: italic; text-align: right;\">missing</td><td style = \"font-style: italic; text-align: right;\">missing</td><td style = \"font-style: italic; text-align: right;\">missing</td><td style = \"font-style: italic; text-align: right;\">missing</td><td style = \"font-style: italic; text-align: right;\">missing</td><td style = \"font-style: italic; text-align: right;\">missing</td><td style = \"font-style: italic; text-align: right;\">missing</td><td style = \"font-style: italic; text-align: right;\">missing</td><td style = \"font-style: italic; text-align: right;\">missing</td><td style = \"font-style: italic; text-align: right;\">missing</td><td style = \"font-style: italic; text-align: right;\">missing</td><td style = \"font-style: italic; text-align: right;\">missing</td><td style = \"font-style: italic; text-align: right;\">missing</td><td style = \"font-style: italic; text-align: right;\">missing</td><td style = \"font-style: italic; text-align: right;\">missing</td><td style = \"font-style: italic; text-align: right;\">missing</td><td style = \"font-style: italic; text-align: right;\">missing</td><td style = \"font-style: italic; text-align: right;\">missing</td><td style = \"font-style: italic; text-align: right;\">missing</td><td style = \"font-style: italic; text-align: right;\">4.0e7</td><td style = \"font-style: italic; text-align: right;\">missing</td><td style = \"font-style: italic; text-align: right;\">0.0</td><td style = \"font-style: italic; text-align: right;\">missing</td><td style = \"font-style: italic; text-align: right;\">missing</td><td style = \"font-style: italic; text-align: right;\">missing</td><td style = \"font-style: italic; text-align: right;\">missing</td><td style = \"font-style: italic; text-align: right;\">missing</td><td style = \"font-style: italic; text-align: right;\">912.281</td><td style = \"font-style: italic; text-align: right;\">2.65566e10</td><td style = \"font-style: italic; text-align: right;\">missing</td><td style = \"font-style: italic; text-align: right;\">80.0</td><td style = \"font-style: italic; text-align: right;\">8.9675e8</td><td style = \"font-style: italic; text-align: right;\">missing</td><td style = \"font-style: italic; text-align: right;\">6.19338</td><td style = \"font-style: italic; text-align: right;\">4.15e6</td><td style = \"font-style: italic; text-align: right;\">1.11e6</td><td style = \"font-style: italic; text-align: right;\">2.89e6</td><td style = \"font-style: italic; text-align: right;\">6.84e6</td><td style = \"font-style: italic; text-align: right;\">5.468e7</td><td style = \"font-style: italic; text-align: right;\">890000.0</td><td style = \"font-style: italic; text-align: right;\">9.93e6</td><td style = \"font-style: italic; text-align: right;\">6.72e6</td><td style = \"font-style: italic; text-align: right;\">250000.0</td><td style = \"font-style: italic; text-align: right;\">320000.0</td><td style = \"font-style: italic; text-align: right;\">3.57e6</td><td style = \"font-style: italic; text-align: right;\">6.987e7</td><td style = \"font-style: italic; text-align: right;\">250000.0</td><td style = \"font-style: italic; text-align: right;\">1.071e7</td><td style = \"font-style: italic; text-align: right;\">2.16e6</td><td style = \"font-style: italic; text-align: right;\">6.54e6</td><td style = \"font-style: italic; text-align: right;\">30000.0</td><td style = \"font-style: italic; text-align: right;\">7.41e6</td><td style = \"font-style: italic; text-align: right;\">1.121e7</td><td style = \"font-style: italic; text-align: right;\">750000.0</td><td style = \"font-style: italic; text-align: right;\">10000.0</td><td style = \"font-style: italic; text-align: right;\">1.781e7</td><td style = \"font-style: italic; text-align: right;\">2.5449e8</td><td style = \"font-style: italic; text-align: right;\">3.639e7</td><td style = \"font-style: italic; text-align: right;\">4.65146e9</td><td style = \"font-style: italic; text-align: right;\">missing</td><td style = \"font-style: italic; text-align: right;\">1.12779e8</td><td style = \"font-style: italic; text-align: right;\">3.42789e9</td><td style = \"font-style: italic; text-align: right;\">1.9092e7</td><td style = \"font-style: italic; text-align: right;\">3.4088e9</td><td style = \"font-style: italic; text-align: right;\">1.11079e9</td><td style = \"font-style: italic; text-align: right;\">missing</td><td style = \"font-style: italic; text-align: right;\">missing</td><td style = \"font-style: italic; text-align: right;\">23.8804</td><td style = \"text-align: right;\">&ctdot;</td></tr><tr><td class = \"rowNumber\" style = \"font-weight: bold; text-align: right;\">11122</td><td style = \"text-align: left;\">Zimbabwe</td><td style = \"text-align: left;\">ZWE</td><td style = \"text-align: right;\">2007</td><td style = \"font-style: italic; text-align: right;\">missing</td><td style = \"font-style: italic; text-align: right;\">missing</td><td style = \"font-style: italic; text-align: right;\">missing</td><td style = \"text-align: right;\">missing</td><td style = \"text-align: right;\">missing</td><td style = \"text-align: right;\">missing</td><td style = \"text-align: right;\">missing</td><td style = \"text-align: right;\">missing</td><td style = \"font-style: italic; text-align: right;\">1.92769e6</td><td style = \"font-style: italic; text-align: right;\">missing</td><td style = \"font-style: italic; text-align: right;\">missing</td><td style = \"font-style: italic; text-align: right;\">missing</td><td style = \"font-style: italic; text-align: right;\">missing</td><td style = \"text-align: right;\">386850.0</td><td style = \"font-style: italic; text-align: right;\">missing</td><td style = \"font-style: italic; text-align: right;\">missing</td><td style = \"font-style: italic; text-align: right;\">missing</td><td style = \"font-style: italic; text-align: right;\">missing</td><td style = \"text-align: right;\">390760.0</td><td style = \"font-style: italic; text-align: right;\">649.0</td><td style = \"font-style: italic; text-align: right;\">missing</td><td style = \"font-style: italic; text-align: right;\">missing</td><td style = \"font-style: italic; text-align: right;\">missing</td><td style = \"font-style: italic; text-align: right;\">missing</td><td style = \"font-style: italic; text-align: right;\">missing</td><td style = \"font-style: italic; text-align: right;\">missing</td><td style = \"font-style: italic; text-align: right;\">missing</td><td style = \"font-style: italic; text-align: right;\">missing</td><td style = \"font-style: italic; text-align: right;\">missing</td><td style = \"font-style: italic; text-align: right;\">missing</td><td style = \"font-style: italic; text-align: right;\">missing</td><td style = \"font-style: italic; text-align: right;\">missing</td><td style = \"font-style: italic; text-align: right;\">missing</td><td style = \"font-style: italic; text-align: right;\">missing</td><td style = \"font-style: italic; text-align: right;\">missing</td><td style = \"font-style: italic; text-align: right;\">missing</td><td style = \"font-style: italic; text-align: right;\">missing</td><td style = \"font-style: italic; text-align: right;\">missing</td><td style = \"font-style: italic; text-align: right;\">missing</td><td style = \"font-style: italic; text-align: right;\">missing</td><td style = \"font-style: italic; text-align: right;\">missing</td><td style = \"font-style: italic; text-align: right;\">missing</td><td style = \"font-style: italic; text-align: right;\">missing</td><td style = \"font-style: italic; text-align: right;\">missing</td><td style = \"font-style: italic; text-align: right;\">missing</td><td style = \"font-style: italic; text-align: right;\">missing</td><td style = \"font-style: italic; text-align: right;\">missing</td><td style = \"font-style: italic; text-align: right;\">missing</td><td style = \"font-style: italic; text-align: right;\">6.89e7</td><td style = \"font-style: italic; text-align: right;\">missing</td><td style = \"font-style: italic; text-align: right;\">0.0</td><td style = \"font-style: italic; text-align: right;\">missing</td><td style = \"font-style: italic; text-align: right;\">missing</td><td style = \"font-style: italic; text-align: right;\">missing</td><td style = \"font-style: italic; text-align: right;\">missing</td><td style = \"font-style: italic; text-align: right;\">missing</td><td style = \"font-style: italic; text-align: right;\">-83.787</td><td style = \"font-style: italic; text-align: right;\">5.33278e9</td><td style = \"font-style: italic; text-align: right;\">missing</td><td style = \"font-style: italic; text-align: right;\">82.0</td><td style = \"font-style: italic; text-align: right;\">8.1237e8</td><td style = \"font-style: italic; text-align: right;\">missing</td><td style = \"font-style: italic; text-align: right;\">5.1</td><td style = \"font-style: italic; text-align: right;\">3.7e6</td><td style = \"font-style: italic; text-align: right;\">1.75e6</td><td style = \"font-style: italic; text-align: right;\">1.65e6</td><td style = \"font-style: italic; text-align: right;\">1.301e7</td><td style = \"font-style: italic; text-align: right;\">5.205e7</td><td style = \"font-style: italic; text-align: right;\">2.63e6</td><td style = \"font-style: italic; text-align: right;\">1.945e7</td><td style = \"font-style: italic; text-align: right;\">1.095e7</td><td style = \"font-style: italic; text-align: right;\">700000.0</td><td style = \"font-style: italic; text-align: right;\">270000.0</td><td style = \"font-style: italic; text-align: right;\">1.545e7</td><td style = \"font-style: italic; text-align: right;\">9.41e7</td><td style = \"font-style: italic; text-align: right;\">560000.0</td><td style = \"font-style: italic; text-align: right;\">1.325e7</td><td style = \"font-style: italic; text-align: right;\">2.13e6</td><td style = \"font-style: italic; text-align: right;\">1.171e7</td><td style = \"font-style: italic; text-align: right;\">1.04e6</td><td style = \"font-style: italic; text-align: right;\">7.07e6</td><td style = \"font-style: italic; text-align: right;\">1.262e7</td><td style = \"font-style: italic; text-align: right;\">560000.0</td><td style = \"font-style: italic; text-align: right;\">40000.0</td><td style = \"font-style: italic; text-align: right;\">1.971e7</td><td style = \"font-style: italic; text-align: right;\">4.2349e8</td><td style = \"font-style: italic; text-align: right;\">1.3909e8</td><td style = \"font-style: italic; text-align: right;\">5.29338e9</td><td style = \"font-style: italic; text-align: right;\">missing</td><td style = \"font-style: italic; text-align: right;\">1.18342e8</td><td style = \"font-style: italic; text-align: right;\">3.75074e9</td><td style = \"font-style: italic; text-align: right;\">1.606e7</td><td style = \"font-style: italic; text-align: right;\">3.73468e9</td><td style = \"font-style: italic; text-align: right;\">1.4243e9</td><td style = \"font-style: italic; text-align: right;\">missing</td><td style = \"font-style: italic; text-align: right;\">missing</td><td style = \"font-style: italic; text-align: right;\">26.9073</td><td style = \"text-align: right;\">&ctdot;</td></tr><tr><td class = \"rowNumber\" style = \"font-weight: bold; text-align: right;\">11123</td><td style = \"text-align: left;\">Zimbabwe</td><td style = \"text-align: left;\">ZWE</td><td style = \"text-align: right;\">2008</td><td style = \"font-style: italic; text-align: right;\">missing</td><td style = \"font-style: italic; text-align: right;\">missing</td><td style = \"font-style: italic; text-align: right;\">missing</td><td style = \"text-align: right;\">missing</td><td style = \"text-align: right;\">missing</td><td style = \"text-align: right;\">missing</td><td style = \"text-align: right;\">missing</td><td style = \"text-align: right;\">missing</td><td style = \"font-style: italic; text-align: right;\">missing</td><td style = \"font-style: italic; text-align: right;\">missing</td><td style = \"font-style: italic; text-align: right;\">missing</td><td style = \"font-style: italic; text-align: right;\">missing</td><td style = \"font-style: italic; text-align: right;\">missing</td><td style = \"text-align: right;\">386850.0</td><td style = \"font-style: italic; text-align: right;\">missing</td><td style = \"font-style: italic; text-align: right;\">missing</td><td style = \"font-style: italic; text-align: right;\">missing</td><td style = \"font-style: italic; text-align: right;\">missing</td><td style = \"text-align: right;\">390760.0</td><td style = \"font-style: italic; text-align: right;\">missing</td><td style = \"font-style: italic; text-align: right;\">missing</td><td style = \"font-style: italic; text-align: right;\">missing</td><td style = \"font-style: italic; text-align: right;\">missing</td><td style = \"font-style: italic; text-align: right;\">missing</td><td style = \"font-style: italic; text-align: right;\">missing</td><td style = \"font-style: italic; text-align: right;\">missing</td><td style = \"font-style: italic; text-align: right;\">missing</td><td style = \"font-style: italic; text-align: right;\">missing</td><td style = \"font-style: italic; text-align: right;\">missing</td><td style = \"font-style: italic; text-align: right;\">missing</td><td style = \"font-style: italic; text-align: right;\">missing</td><td style = \"font-style: italic; text-align: right;\">missing</td><td style = \"font-style: italic; text-align: right;\">missing</td><td style = \"font-style: italic; text-align: right;\">missing</td><td style = \"font-style: italic; text-align: right;\">missing</td><td style = \"font-style: italic; text-align: right;\">missing</td><td style = \"font-style: italic; text-align: right;\">missing</td><td style = \"font-style: italic; text-align: right;\">missing</td><td style = \"font-style: italic; text-align: right;\">missing</td><td style = \"font-style: italic; text-align: right;\">missing</td><td style = \"font-style: italic; text-align: right;\">missing</td><td style = \"font-style: italic; text-align: right;\">missing</td><td style = \"font-style: italic; text-align: right;\">missing</td><td style = \"font-style: italic; text-align: right;\">missing</td><td style = \"font-style: italic; text-align: right;\">missing</td><td style = \"font-style: italic; text-align: right;\">missing</td><td style = \"font-style: italic; text-align: right;\">missing</td><td style = \"font-style: italic; text-align: right;\">missing</td><td style = \"font-style: italic; text-align: right;\">missing</td><td style = \"font-style: italic; text-align: right;\">missing</td><td style = \"font-style: italic; text-align: right;\">missing</td><td style = \"font-style: italic; text-align: right;\">missing</td><td style = \"font-style: italic; text-align: right;\">missing</td><td style = \"font-style: italic; text-align: right;\">missing</td><td style = \"font-style: italic; text-align: right;\">missing</td><td style = \"font-style: italic; text-align: right;\">missing</td><td style = \"font-style: italic; text-align: right;\">missing</td><td style = \"font-style: italic; text-align: right;\">missing</td><td style = \"font-style: italic; text-align: right;\">missing</td><td style = \"font-style: italic; text-align: right;\">81.0</td><td style = \"font-style: italic; text-align: right;\">missing</td><td style = \"font-style: italic; text-align: right;\">missing</td><td style = \"font-style: italic; text-align: right;\">missing</td><td style = \"font-style: italic; text-align: right;\">missing</td><td style = \"font-style: italic; text-align: right;\">missing</td><td style = \"font-style: italic; text-align: right;\">missing</td><td style = \"font-style: italic; text-align: right;\">missing</td><td style = \"font-style: italic; text-align: right;\">missing</td><td style = \"font-style: italic; text-align: right;\">missing</td><td style = \"font-style: italic; text-align: right;\">missing</td><td style = \"font-style: italic; text-align: right;\">missing</td><td style = \"font-style: italic; text-align: right;\">missing</td><td style = \"font-style: italic; text-align: right;\">missing</td><td style = \"font-style: italic; text-align: right;\">missing</td><td style = \"font-style: italic; text-align: right;\">missing</td><td style = \"font-style: italic; text-align: right;\">missing</td><td style = \"font-style: italic; text-align: right;\">missing</td><td style = \"font-style: italic; text-align: right;\">missing</td><td style = \"font-style: italic; text-align: right;\">missing</td><td style = \"font-style: italic; text-align: right;\">missing</td><td style = \"font-style: italic; text-align: right;\">missing</td><td style = \"font-style: italic; text-align: right;\">missing</td><td style = \"font-style: italic; text-align: right;\">missing</td><td style = \"font-style: italic; text-align: right;\">missing</td><td style = \"font-style: italic; text-align: right;\">missing</td><td style = \"font-style: italic; text-align: right;\">missing</td><td style = \"font-style: italic; text-align: right;\">missing</td><td style = \"font-style: italic; text-align: right;\">missing</td><td style = \"font-style: italic; text-align: right;\">missing</td><td style = \"font-style: italic; text-align: right;\">missing</td><td style = \"font-style: italic; text-align: right;\">missing</td><td style = \"font-style: italic; text-align: right;\">missing</td><td style = \"font-style: italic; text-align: right;\">missing</td><td style = \"font-style: italic; text-align: right;\">missing</td><td style = \"font-style: italic; text-align: right;\">missing</td><td style = \"font-style: italic; text-align: right;\">missing</td><td style = \"font-style: italic; text-align: right;\">missing</td><td style = \"text-align: right;\">&ctdot;</td></tr></tbody></table></div>"
      ],
      "text/latex": [
       "\\begin{tabular}{r|cccccccc}\n",
       "\t& country & wbcode & year & AG\\_AGR\\_TRAC\\_NO & AG\\_CON\\_FERT\\_MT & AG\\_CON\\_FERT\\_ZS & AG\\_LND\\_AGRI\\_K2 & \\\\\n",
       "\t\\hline\n",
       "\t& String & String3 & Int16 & Float64? & Float64? & Float64? & Float64? & \\\\\n",
       "\t\\hline\n",
       "\t1 & Aruba & ABW & 1960 & \\emph{missing} & \\emph{missing} & \\emph{missing} & \\emph{missing} & $\\dots$ \\\\\n",
       "\t2 & Aruba & ABW & 1961 & \\emph{missing} & \\emph{missing} & \\emph{missing} & 20.0 & $\\dots$ \\\\\n",
       "\t3 & Aruba & ABW & 1962 & \\emph{missing} & \\emph{missing} & \\emph{missing} & 20.0 & $\\dots$ \\\\\n",
       "\t4 & Aruba & ABW & 1963 & \\emph{missing} & \\emph{missing} & \\emph{missing} & 20.0 & $\\dots$ \\\\\n",
       "\t5 & Aruba & ABW & 1964 & \\emph{missing} & \\emph{missing} & \\emph{missing} & 20.0 & $\\dots$ \\\\\n",
       "\t6 & Aruba & ABW & 1965 & \\emph{missing} & \\emph{missing} & \\emph{missing} & 20.0 & $\\dots$ \\\\\n",
       "\t7 & Aruba & ABW & 1966 & \\emph{missing} & \\emph{missing} & \\emph{missing} & 20.0 & $\\dots$ \\\\\n",
       "\t8 & Aruba & ABW & 1967 & \\emph{missing} & \\emph{missing} & \\emph{missing} & 20.0 & $\\dots$ \\\\\n",
       "\t9 & Aruba & ABW & 1968 & \\emph{missing} & \\emph{missing} & \\emph{missing} & 20.0 & $\\dots$ \\\\\n",
       "\t10 & Aruba & ABW & 1969 & \\emph{missing} & \\emph{missing} & \\emph{missing} & 20.0 & $\\dots$ \\\\\n",
       "\t11 & Aruba & ABW & 1970 & \\emph{missing} & \\emph{missing} & \\emph{missing} & 20.0 & $\\dots$ \\\\\n",
       "\t12 & Aruba & ABW & 1971 & \\emph{missing} & \\emph{missing} & \\emph{missing} & 20.0 & $\\dots$ \\\\\n",
       "\t13 & Aruba & ABW & 1972 & \\emph{missing} & \\emph{missing} & \\emph{missing} & 20.0 & $\\dots$ \\\\\n",
       "\t14 & Aruba & ABW & 1973 & \\emph{missing} & \\emph{missing} & \\emph{missing} & 20.0 & $\\dots$ \\\\\n",
       "\t15 & Aruba & ABW & 1974 & \\emph{missing} & \\emph{missing} & \\emph{missing} & 20.0 & $\\dots$ \\\\\n",
       "\t16 & Aruba & ABW & 1975 & \\emph{missing} & \\emph{missing} & \\emph{missing} & 20.0 & $\\dots$ \\\\\n",
       "\t17 & Aruba & ABW & 1976 & \\emph{missing} & \\emph{missing} & \\emph{missing} & 20.0 & $\\dots$ \\\\\n",
       "\t18 & Aruba & ABW & 1977 & \\emph{missing} & \\emph{missing} & \\emph{missing} & 20.0 & $\\dots$ \\\\\n",
       "\t19 & Aruba & ABW & 1978 & \\emph{missing} & \\emph{missing} & \\emph{missing} & 20.0 & $\\dots$ \\\\\n",
       "\t20 & Aruba & ABW & 1979 & \\emph{missing} & \\emph{missing} & \\emph{missing} & 20.0 & $\\dots$ \\\\\n",
       "\t21 & Aruba & ABW & 1980 & \\emph{missing} & \\emph{missing} & \\emph{missing} & 20.0 & $\\dots$ \\\\\n",
       "\t22 & Aruba & ABW & 1981 & \\emph{missing} & \\emph{missing} & \\emph{missing} & 20.0 & $\\dots$ \\\\\n",
       "\t23 & Aruba & ABW & 1982 & \\emph{missing} & \\emph{missing} & \\emph{missing} & 20.0 & $\\dots$ \\\\\n",
       "\t24 & Aruba & ABW & 1983 & \\emph{missing} & \\emph{missing} & \\emph{missing} & 20.0 & $\\dots$ \\\\\n",
       "\t25 & Aruba & ABW & 1984 & \\emph{missing} & \\emph{missing} & \\emph{missing} & 20.0 & $\\dots$ \\\\\n",
       "\t26 & Aruba & ABW & 1985 & \\emph{missing} & \\emph{missing} & \\emph{missing} & 20.0 & $\\dots$ \\\\\n",
       "\t27 & Aruba & ABW & 1986 & \\emph{missing} & \\emph{missing} & \\emph{missing} & 20.0 & $\\dots$ \\\\\n",
       "\t28 & Aruba & ABW & 1987 & \\emph{missing} & \\emph{missing} & \\emph{missing} & 20.0 & $\\dots$ \\\\\n",
       "\t29 & Aruba & ABW & 1988 & \\emph{missing} & \\emph{missing} & \\emph{missing} & 20.0 & $\\dots$ \\\\\n",
       "\t30 & Aruba & ABW & 1989 & \\emph{missing} & \\emph{missing} & \\emph{missing} & 20.0 & $\\dots$ \\\\\n",
       "\t$\\dots$ & $\\dots$ & $\\dots$ & $\\dots$ & $\\dots$ & $\\dots$ & $\\dots$ & $\\dots$ &  \\\\\n",
       "\\end{tabular}\n"
      ],
      "text/plain": [
       "\u001b[1m11123×872 DataFrame\u001b[0m\n",
       "\u001b[1m   Row \u001b[0m│\u001b[1m country  \u001b[0m\u001b[1m wbcode  \u001b[0m\u001b[1m year  \u001b[0m\u001b[1m AG_AGR_TRAC_NO \u001b[0m\u001b[1m AG_CON_FERT_MT \u001b[0m\u001b[1m AG_CON_FERT\u001b[0m ⋯\n",
       "       │\u001b[90m String   \u001b[0m\u001b[90m String3 \u001b[0m\u001b[90m Int16 \u001b[0m\u001b[90m Float64?       \u001b[0m\u001b[90m Float64?       \u001b[0m\u001b[90m Float64?   \u001b[0m ⋯\n",
       "───────┼────────────────────────────────────────────────────────────────────────\n",
       "     1 │ Aruba     ABW       1960 \u001b[90m      missing   \u001b[0m\u001b[90m      missing   \u001b[0m\u001b[90m    missing \u001b[0m ⋯\n",
       "     2 │ Aruba     ABW       1961 \u001b[90m      missing   \u001b[0m\u001b[90m      missing   \u001b[0m\u001b[90m    missing \u001b[0m\n",
       "     3 │ Aruba     ABW       1962 \u001b[90m      missing   \u001b[0m\u001b[90m      missing   \u001b[0m\u001b[90m    missing \u001b[0m\n",
       "     4 │ Aruba     ABW       1963 \u001b[90m      missing   \u001b[0m\u001b[90m      missing   \u001b[0m\u001b[90m    missing \u001b[0m\n",
       "     5 │ Aruba     ABW       1964 \u001b[90m      missing   \u001b[0m\u001b[90m      missing   \u001b[0m\u001b[90m    missing \u001b[0m ⋯\n",
       "     6 │ Aruba     ABW       1965 \u001b[90m      missing   \u001b[0m\u001b[90m      missing   \u001b[0m\u001b[90m    missing \u001b[0m\n",
       "     7 │ Aruba     ABW       1966 \u001b[90m      missing   \u001b[0m\u001b[90m      missing   \u001b[0m\u001b[90m    missing \u001b[0m\n",
       "     8 │ Aruba     ABW       1967 \u001b[90m      missing   \u001b[0m\u001b[90m      missing   \u001b[0m\u001b[90m    missing \u001b[0m\n",
       "     9 │ Aruba     ABW       1968 \u001b[90m      missing   \u001b[0m\u001b[90m      missing   \u001b[0m\u001b[90m    missing \u001b[0m ⋯\n",
       "    10 │ Aruba     ABW       1969 \u001b[90m      missing   \u001b[0m\u001b[90m      missing   \u001b[0m\u001b[90m    missing \u001b[0m\n",
       "    11 │ Aruba     ABW       1970 \u001b[90m      missing   \u001b[0m\u001b[90m      missing   \u001b[0m\u001b[90m    missing \u001b[0m\n",
       "   ⋮   │    ⋮         ⋮       ⋮          ⋮               ⋮               ⋮     ⋱\n",
       " 11114 │ Zimbabwe  ZWE       1999         24000.0        185000.0         574.\n",
       " 11115 │ Zimbabwe  ZWE       2000         24000.0        165300.0         513. ⋯\n",
       " 11116 │ Zimbabwe  ZWE       2001         24000.0        152200.0         472.\n",
       " 11117 │ Zimbabwe  ZWE       2002         24000.0        130311.0         404.\n",
       " 11118 │ Zimbabwe  ZWE       2003         24000.0        146032.0         453.\n",
       " 11119 │ Zimbabwe  ZWE       2004         24000.0         86352.0         268. ⋯\n",
       " 11120 │ Zimbabwe  ZWE       2005         24000.0         85018.0         264.\n",
       " 11121 │ Zimbabwe  ZWE       2006         24000.0        132661.0 \u001b[90m    missing \u001b[0m\n",
       " 11122 │ Zimbabwe  ZWE       2007 \u001b[90m      missing   \u001b[0m\u001b[90m      missing   \u001b[0m\u001b[90m    missing \u001b[0m\n",
       " 11123 │ Zimbabwe  ZWE       2008 \u001b[90m      missing   \u001b[0m\u001b[90m      missing   \u001b[0m\u001b[90m    missing \u001b[0m ⋯\n",
       "\u001b[36m                                              867 columns and 11102 rows omitted\u001b[0m"
      ]
     },
     "execution_count": 14,
     "metadata": {},
     "output_type": "execute_result"
    }
   ],
   "source": [
    "wdi = DataFrame(raw_wdi)"
   ]
  },
  {
   "cell_type": "markdown",
   "id": "0d3e2283",
   "metadata": {},
   "source": [
    "Note that the metadata is retained in `DataFrame`. The diffrence is that it is exposed as standard `Dict` objects instead of custom objects offered by ReadStatTables.jl."
   ]
  },
  {
   "cell_type": "code",
   "execution_count": 15,
   "id": "e3e86586",
   "metadata": {},
   "outputs": [
    {
     "data": {
      "text/plain": [
       "Dict{String, Any} with 13 entries:\n",
       "  \"file_ext\"             => \".dta\"\n",
       "  \"modified_time\"        => DateTime(\"2010-01-08T11:17:00\")\n",
       "  \"file_format_version\"  => 114\n",
       "  \"file_format_is_64bit\" => false\n",
       "  \"table_name\"           => \"\"\n",
       "  \"notes\"                => [\"2\", \"dataset coded for stata as in Catini, Panizz…\n",
       "  \"file_encoding\"        => \"\"\n",
       "  \"file_label\"           => \"\"\n",
       "  \"var_count\"            => 872\n",
       "  \"row_count\"            => 11123\n",
       "  \"creation_time\"        => DateTime(\"2010-01-08T11:17:00\")\n",
       "  \"endianness\"           => READSTAT_ENDIAN_LITTLE\n",
       "  \"compression\"          => READSTAT_COMPRESS_NONE"
      ]
     },
     "execution_count": 15,
     "metadata": {},
     "output_type": "execute_result"
    }
   ],
   "source": [
    "metadata(wdi)"
   ]
  },
  {
   "cell_type": "code",
   "execution_count": 16,
   "id": "68db7b53",
   "metadata": {},
   "outputs": [
    {
     "data": {
      "text/plain": [
       "Dict{Symbol, Dict{String, Any}} with 872 entries:\n",
       "  :GC_XPN_OTHR_ZS       => Dict(\"label\"=>\"Other expense (% of expense)\", \"forma…\n",
       "  :SH_DYN_AIDS_ZS       => Dict(\"label\"=>\"Prevalence of HIV, total (% of popula…\n",
       "  :EP_PMP_DESL_CD       => Dict(\"label\"=>\"Pump price for diesel fuel (US\\$ per …\n",
       "  :SL_TLF_PRIM_ZS       => Dict(\"label\"=>\"Labor force with primary education (%…\n",
       "  :NE_CON_PRVT_PC_KD_ZG => Dict(\"label\"=>\"Household final consumption expenditu…\n",
       "  :PA_NUS_PPP           => Dict(\"label\"=>\"PPP conversion factor, GDP (LCU per i…\n",
       "  :DT_NFL_WFPG_CD       => Dict(\"label\"=>\"UN net multilateral flows, WFP (curre…\n",
       "  :AG_LND_CREL_HA       => Dict(\"label\"=>\"Land under cereal production (hectare…\n",
       "  :EE_BOD_TOTL_KG       => Dict(\"label\"=>\"Organic water pollutant (BOD) emissio…\n",
       "  :SH_DYN_CHLD_MA       => Dict(\"label\"=>\"Mortality rate, male child (per 1,000…\n",
       "  :ER_LND_PTLD_ZS       => Dict(\"label\"=>\"Nationally protected areas (% of tota…\n",
       "  :IP_JRN_ARTC_SC       => Dict(\"label\"=>\"Scientific and technical journal arti…\n",
       "  :NY_GDP_DEFL_KD_ZG    => Dict(\"label\"=>\"Inflation, GDP deflator (annual %)\", …\n",
       "  :IT_NET_SECR_P6       => Dict(\"label\"=>\"Secure Internet servers (per 1 millio…\n",
       "  :SE_SEC_ENRL_FE_ZS    => Dict(\"label\"=>\"Secondary education, pupils (% female…\n",
       "  :FR_INR_LNDP          => Dict(\"label\"=>\"Interest rate spread (lending rate mi…\n",
       "  :NY_ADJ_AEDU_GN_ZS    => Dict(\"label\"=>\"Adjusted savings: education expenditu…\n",
       "  :BX_TRF_PWKR_CD       => Dict(\"label\"=>\"Workers' remittances, receipts (BoP, …\n",
       "  :SL_TLF_0714_WK_ZS    => Dict(\"label\"=>\"Economically active children, work on…\n",
       "  :EN_ATM_CO2E_PC       => Dict(\"label\"=>\"CO2 emissions (metric tons per capita…\n",
       "  :SM_POP_TOTL_ZS       => Dict(\"label\"=>\"International migrant stock (% of pop…\n",
       "  :EE_BOD_FOOD_ZS       => Dict(\"label\"=>\"Water pollution, food industry (% of …\n",
       "  :TX_VAL_SERV_CD_WT    => Dict(\"label\"=>\"Commercial service exports (current U…\n",
       "  :IQ_CPA_FINS_XQ       => Dict(\"label\"=>\"CPIA financial sector rating (1=low t…\n",
       "  :GC_XPN_OTHR_CN       => Dict(\"label\"=>\"Other expense (current LCU)\", \"format…\n",
       "  ⋮                     => ⋮"
      ]
     },
     "execution_count": 16,
     "metadata": {},
     "output_type": "execute_result"
    }
   ],
   "source": [
    "colmetadata(wdi)"
   ]
  },
  {
   "cell_type": "code",
   "execution_count": 17,
   "id": "51cff7db",
   "metadata": {},
   "outputs": [
    {
     "data": {
      "text/plain": [
       "Dict{String, Any} with 8 entries:\n",
       "  \"label\"         => \"Agricultural machinery, tractors\"\n",
       "  \"format\"        => \"%10.0g\"\n",
       "  \"display_width\" => 10\n",
       "  \"measure\"       => READSTAT_MEASURE_UNKNOWN\n",
       "  \"alignment\"     => READSTAT_ALIGNMENT_RIGHT\n",
       "  \"type\"          => READSTAT_TYPE_DOUBLE\n",
       "  \"storage_width\" => 0x0000000000000008\n",
       "  \"vallabel\"      => Symbol(\"\")"
      ]
     },
     "execution_count": 17,
     "metadata": {},
     "output_type": "execute_result"
    }
   ],
   "source": [
    "colmetadata(wdi, :AG_AGR_TRAC_NO)"
   ]
  },
  {
   "cell_type": "markdown",
   "id": "cab3940b",
   "metadata": {},
   "source": [
    "# Get data from R"
   ]
  },
  {
   "cell_type": "markdown",
   "id": "2308f39e",
   "metadata": {},
   "source": [
    "I created the file we used based on standard `cars` data set available in R."
   ]
  },
  {
   "cell_type": "code",
   "execution_count": 18,
   "id": "7d309b21",
   "metadata": {},
   "outputs": [
    {
     "data": {
      "text/plain": [
       "Dict{String, Any} with 1 entry:\n",
       "  \"cars\" => \u001b[1m50×2 DataFrame\u001b[0m\u001b[0m…"
      ]
     },
     "execution_count": 18,
     "metadata": {},
     "output_type": "execute_result"
    }
   ],
   "source": [
    "r_objs = load(\"cars.RData\")"
   ]
  },
  {
   "cell_type": "markdown",
   "id": "c47cfbde",
   "metadata": {},
   "source": [
    "Note that `.RData` files can store multiple objects, so we need to extract the `cars` data frame from `r_objs`:"
   ]
  },
  {
   "cell_type": "code",
   "execution_count": 19,
   "id": "d80a7bc7",
   "metadata": {},
   "outputs": [
    {
     "data": {
      "text/html": [
       "<div><div style = \"float: left;\"><span>50×2 DataFrame</span></div><div style = \"float: right;\"><span style = \"font-style: italic;\">25 rows omitted</span></div><div style = \"clear: both;\"></div></div><div class = \"data-frame\" style = \"overflow-x: scroll;\"><table class = \"data-frame\" style = \"margin-bottom: 6px;\"><thead><tr class = \"header\"><th class = \"rowNumber\" style = \"font-weight: bold; text-align: right;\">Row</th><th style = \"text-align: left;\">speed</th><th style = \"text-align: left;\">dist</th></tr><tr class = \"subheader headerLastRow\"><th class = \"rowNumber\" style = \"font-weight: bold; text-align: right;\"></th><th title = \"Float64\" style = \"text-align: left;\">Float64</th><th title = \"Float64\" style = \"text-align: left;\">Float64</th></tr></thead><tbody><tr><td class = \"rowNumber\" style = \"font-weight: bold; text-align: right;\">1</td><td style = \"text-align: right;\">4.0</td><td style = \"text-align: right;\">2.0</td></tr><tr><td class = \"rowNumber\" style = \"font-weight: bold; text-align: right;\">2</td><td style = \"text-align: right;\">4.0</td><td style = \"text-align: right;\">10.0</td></tr><tr><td class = \"rowNumber\" style = \"font-weight: bold; text-align: right;\">3</td><td style = \"text-align: right;\">7.0</td><td style = \"text-align: right;\">4.0</td></tr><tr><td class = \"rowNumber\" style = \"font-weight: bold; text-align: right;\">4</td><td style = \"text-align: right;\">7.0</td><td style = \"text-align: right;\">22.0</td></tr><tr><td class = \"rowNumber\" style = \"font-weight: bold; text-align: right;\">5</td><td style = \"text-align: right;\">8.0</td><td style = \"text-align: right;\">16.0</td></tr><tr><td class = \"rowNumber\" style = \"font-weight: bold; text-align: right;\">6</td><td style = \"text-align: right;\">9.0</td><td style = \"text-align: right;\">10.0</td></tr><tr><td class = \"rowNumber\" style = \"font-weight: bold; text-align: right;\">7</td><td style = \"text-align: right;\">10.0</td><td style = \"text-align: right;\">18.0</td></tr><tr><td class = \"rowNumber\" style = \"font-weight: bold; text-align: right;\">8</td><td style = \"text-align: right;\">10.0</td><td style = \"text-align: right;\">26.0</td></tr><tr><td class = \"rowNumber\" style = \"font-weight: bold; text-align: right;\">9</td><td style = \"text-align: right;\">10.0</td><td style = \"text-align: right;\">34.0</td></tr><tr><td class = \"rowNumber\" style = \"font-weight: bold; text-align: right;\">10</td><td style = \"text-align: right;\">11.0</td><td style = \"text-align: right;\">17.0</td></tr><tr><td class = \"rowNumber\" style = \"font-weight: bold; text-align: right;\">11</td><td style = \"text-align: right;\">11.0</td><td style = \"text-align: right;\">28.0</td></tr><tr><td class = \"rowNumber\" style = \"font-weight: bold; text-align: right;\">12</td><td style = \"text-align: right;\">12.0</td><td style = \"text-align: right;\">14.0</td></tr><tr><td class = \"rowNumber\" style = \"font-weight: bold; text-align: right;\">13</td><td style = \"text-align: right;\">12.0</td><td style = \"text-align: right;\">20.0</td></tr><tr><td style = \"text-align: right;\">&vellip;</td><td style = \"text-align: right;\">&vellip;</td><td style = \"text-align: right;\">&vellip;</td></tr><tr><td class = \"rowNumber\" style = \"font-weight: bold; text-align: right;\">39</td><td style = \"text-align: right;\">20.0</td><td style = \"text-align: right;\">32.0</td></tr><tr><td class = \"rowNumber\" style = \"font-weight: bold; text-align: right;\">40</td><td style = \"text-align: right;\">20.0</td><td style = \"text-align: right;\">48.0</td></tr><tr><td class = \"rowNumber\" style = \"font-weight: bold; text-align: right;\">41</td><td style = \"text-align: right;\">20.0</td><td style = \"text-align: right;\">52.0</td></tr><tr><td class = \"rowNumber\" style = \"font-weight: bold; text-align: right;\">42</td><td style = \"text-align: right;\">20.0</td><td style = \"text-align: right;\">56.0</td></tr><tr><td class = \"rowNumber\" style = \"font-weight: bold; text-align: right;\">43</td><td style = \"text-align: right;\">20.0</td><td style = \"text-align: right;\">64.0</td></tr><tr><td class = \"rowNumber\" style = \"font-weight: bold; text-align: right;\">44</td><td style = \"text-align: right;\">22.0</td><td style = \"text-align: right;\">66.0</td></tr><tr><td class = \"rowNumber\" style = \"font-weight: bold; text-align: right;\">45</td><td style = \"text-align: right;\">23.0</td><td style = \"text-align: right;\">54.0</td></tr><tr><td class = \"rowNumber\" style = \"font-weight: bold; text-align: right;\">46</td><td style = \"text-align: right;\">24.0</td><td style = \"text-align: right;\">70.0</td></tr><tr><td class = \"rowNumber\" style = \"font-weight: bold; text-align: right;\">47</td><td style = \"text-align: right;\">24.0</td><td style = \"text-align: right;\">92.0</td></tr><tr><td class = \"rowNumber\" style = \"font-weight: bold; text-align: right;\">48</td><td style = \"text-align: right;\">24.0</td><td style = \"text-align: right;\">93.0</td></tr><tr><td class = \"rowNumber\" style = \"font-weight: bold; text-align: right;\">49</td><td style = \"text-align: right;\">24.0</td><td style = \"text-align: right;\">120.0</td></tr><tr><td class = \"rowNumber\" style = \"font-weight: bold; text-align: right;\">50</td><td style = \"text-align: right;\">25.0</td><td style = \"text-align: right;\">85.0</td></tr></tbody></table></div>"
      ],
      "text/latex": [
       "\\begin{tabular}{r|cc}\n",
       "\t& speed & dist\\\\\n",
       "\t\\hline\n",
       "\t& Float64 & Float64\\\\\n",
       "\t\\hline\n",
       "\t1 & 4.0 & 2.0 \\\\\n",
       "\t2 & 4.0 & 10.0 \\\\\n",
       "\t3 & 7.0 & 4.0 \\\\\n",
       "\t4 & 7.0 & 22.0 \\\\\n",
       "\t5 & 8.0 & 16.0 \\\\\n",
       "\t6 & 9.0 & 10.0 \\\\\n",
       "\t7 & 10.0 & 18.0 \\\\\n",
       "\t8 & 10.0 & 26.0 \\\\\n",
       "\t9 & 10.0 & 34.0 \\\\\n",
       "\t10 & 11.0 & 17.0 \\\\\n",
       "\t11 & 11.0 & 28.0 \\\\\n",
       "\t12 & 12.0 & 14.0 \\\\\n",
       "\t13 & 12.0 & 20.0 \\\\\n",
       "\t14 & 12.0 & 24.0 \\\\\n",
       "\t15 & 12.0 & 28.0 \\\\\n",
       "\t16 & 13.0 & 26.0 \\\\\n",
       "\t17 & 13.0 & 34.0 \\\\\n",
       "\t18 & 13.0 & 34.0 \\\\\n",
       "\t19 & 13.0 & 46.0 \\\\\n",
       "\t20 & 14.0 & 26.0 \\\\\n",
       "\t21 & 14.0 & 36.0 \\\\\n",
       "\t22 & 14.0 & 60.0 \\\\\n",
       "\t23 & 14.0 & 80.0 \\\\\n",
       "\t24 & 15.0 & 20.0 \\\\\n",
       "\t25 & 15.0 & 26.0 \\\\\n",
       "\t26 & 15.0 & 54.0 \\\\\n",
       "\t27 & 16.0 & 32.0 \\\\\n",
       "\t28 & 16.0 & 40.0 \\\\\n",
       "\t29 & 17.0 & 32.0 \\\\\n",
       "\t30 & 17.0 & 40.0 \\\\\n",
       "\t$\\dots$ & $\\dots$ & $\\dots$ \\\\\n",
       "\\end{tabular}\n"
      ],
      "text/plain": [
       "\u001b[1m50×2 DataFrame\u001b[0m\n",
       "\u001b[1m Row \u001b[0m│\u001b[1m speed   \u001b[0m\u001b[1m dist    \u001b[0m\n",
       "     │\u001b[90m Float64 \u001b[0m\u001b[90m Float64 \u001b[0m\n",
       "─────┼──────────────────\n",
       "   1 │     4.0      2.0\n",
       "   2 │     4.0     10.0\n",
       "   3 │     7.0      4.0\n",
       "   4 │     7.0     22.0\n",
       "   5 │     8.0     16.0\n",
       "   6 │     9.0     10.0\n",
       "   7 │    10.0     18.0\n",
       "   8 │    10.0     26.0\n",
       "   9 │    10.0     34.0\n",
       "  10 │    11.0     17.0\n",
       "  11 │    11.0     28.0\n",
       "  ⋮  │    ⋮        ⋮\n",
       "  41 │    20.0     52.0\n",
       "  42 │    20.0     56.0\n",
       "  43 │    20.0     64.0\n",
       "  44 │    22.0     66.0\n",
       "  45 │    23.0     54.0\n",
       "  46 │    24.0     70.0\n",
       "  47 │    24.0     92.0\n",
       "  48 │    24.0     93.0\n",
       "  49 │    24.0    120.0\n",
       "  50 │    25.0     85.0\n",
       "\u001b[36m         29 rows omitted\u001b[0m"
      ]
     },
     "execution_count": 19,
     "metadata": {},
     "output_type": "execute_result"
    }
   ],
   "source": [
    "cars = r_objs[\"cars\"]"
   ]
  },
  {
   "cell_type": "markdown",
   "id": "40c72114",
   "metadata": {},
   "source": [
    "Loading CodecXz.jl package was required to be loaded for decompression (you can check that loading would fail if we had not done `using CodecXz` in setup)."
   ]
  },
  {
   "cell_type": "markdown",
   "id": "98a6d1fc",
   "metadata": {},
   "source": [
    "Observe that RData.jl does not expose a custom table type, but instead provides a DataFrames.jl `DataFrame`."
   ]
  },
  {
   "cell_type": "markdown",
   "id": "a4fd8173",
   "metadata": {},
   "source": [
    "Since we can attach attributes to objects in R, we can recover these attributes in Julia as metadata:"
   ]
  },
  {
   "cell_type": "code",
   "execution_count": 20,
   "id": "95d6ca18",
   "metadata": {},
   "outputs": [
    {
     "data": {
      "text/plain": [
       "Dict{String, Any} with 3 entries:\n",
       "  \"source\"    => \"Ezekiel, M. (1930) Methods of Correlation Analysis. Wiley.\"\n",
       "  \"row.names\" => Union{Missing, Int32}[missing, -50]\n",
       "  \"comment\"   => \"The data give the speed of cars and the distances taken to st…"
      ]
     },
     "execution_count": 20,
     "metadata": {},
     "output_type": "execute_result"
    }
   ],
   "source": [
    "metadata(cars)"
   ]
  },
  {
   "cell_type": "code",
   "execution_count": 21,
   "id": "1437185b",
   "metadata": {},
   "outputs": [
    {
     "data": {
      "text/plain": [
       "Dict{Symbol, Dict{String, String}} with 2 entries:\n",
       "  :dist  => Dict(\"label\"=>\"Stopping distance (ft)\")\n",
       "  :speed => Dict(\"label\"=>\"Speed (mph)\")"
      ]
     },
     "execution_count": 21,
     "metadata": {},
     "output_type": "execute_result"
    }
   ],
   "source": [
    "colmetadata(cars)"
   ]
  },
  {
   "cell_type": "markdown",
   "id": "b5636ddc",
   "metadata": {},
   "source": [
    "## Write and read SQLite"
   ]
  },
  {
   "cell_type": "markdown",
   "id": "5a14ab1e",
   "metadata": {},
   "source": [
    "We can create an in memory SQLite data base, but in this tutorial we explore options for storing our data on disk."
   ]
  },
  {
   "cell_type": "markdown",
   "id": "c91912c8",
   "metadata": {},
   "source": [
    "First clean up the working directory."
   ]
  },
  {
   "cell_type": "code",
   "execution_count": 22,
   "id": "80af670f",
   "metadata": {},
   "outputs": [
    {
     "data": {
      "text/plain": [
       "false"
      ]
     },
     "execution_count": 22,
     "metadata": {},
     "output_type": "execute_result"
    }
   ],
   "source": [
    "isfile(\"cars.sqlite\") && rm(\"cars.sqlite\")"
   ]
  },
  {
   "cell_type": "markdown",
   "id": "7a7bdcd1",
   "metadata": {},
   "source": [
    "Create a new database:"
   ]
  },
  {
   "cell_type": "code",
   "execution_count": 23,
   "id": "ae5ce5b0",
   "metadata": {},
   "outputs": [
    {
     "data": {
      "text/plain": [
       "SQLite.DB(\"cars.sqlite\")"
      ]
     },
     "execution_count": 23,
     "metadata": {},
     "output_type": "execute_result"
    }
   ],
   "source": [
    "cars_sqlite = SQLite.DB(\"cars.sqlite\")"
   ]
  },
  {
   "cell_type": "markdown",
   "id": "989009d9",
   "metadata": {},
   "source": [
    "Check that it does not contain any tables yet:"
   ]
  },
  {
   "cell_type": "code",
   "execution_count": 24,
   "id": "37925d96",
   "metadata": {},
   "outputs": [
    {
     "data": {
      "text/plain": [
       "SQLite.DBTable[]"
      ]
     },
     "execution_count": 24,
     "metadata": {},
     "output_type": "execute_result"
    }
   ],
   "source": [
    "SQLite.tables(cars_sqlite)"
   ]
  },
  {
   "cell_type": "markdown",
   "id": "1074a9ff",
   "metadata": {},
   "source": [
    "Use the `load!` function to load the `cars` data frame to SQLite table."
   ]
  },
  {
   "cell_type": "code",
   "execution_count": 25,
   "id": "bfc2bfb3",
   "metadata": {},
   "outputs": [
    {
     "data": {
      "text/plain": [
       "\"cars\""
      ]
     },
     "execution_count": 25,
     "metadata": {},
     "output_type": "execute_result"
    }
   ],
   "source": [
    "SQLite.load!(cars, cars_sqlite, \"cars\")"
   ]
  },
  {
   "cell_type": "markdown",
   "id": "9ee58561",
   "metadata": {},
   "source": [
    "Check that indeed a new table has been created:"
   ]
  },
  {
   "cell_type": "code",
   "execution_count": 26,
   "id": "e629d25b",
   "metadata": {},
   "outputs": [
    {
     "data": {
      "text/plain": [
       "1-element Vector{SQLite.DBTable}:\n",
       " SQLite.DBTable(\"cars\", Tables.Schema:\n",
       " :speed  Union{Missing, Float64}\n",
       " :dist   Union{Missing, Float64})"
      ]
     },
     "execution_count": 26,
     "metadata": {},
     "output_type": "execute_result"
    }
   ],
   "source": [
    "SQLite.tables(cars_sqlite)"
   ]
  },
  {
   "cell_type": "markdown",
   "id": "17caedb9",
   "metadata": {},
   "source": [
    "Execute some query on this table and fetch the result as a `DataFrame`:"
   ]
  },
  {
   "cell_type": "code",
   "execution_count": 27,
   "id": "563db353",
   "metadata": {},
   "outputs": [
    {
     "data": {
      "text/html": [
       "<div><div style = \"float: left;\"><span>6×2 DataFrame</span></div><div style = \"clear: both;\"></div></div><div class = \"data-frame\" style = \"overflow-x: scroll;\"><table class = \"data-frame\" style = \"margin-bottom: 6px;\"><thead><tr class = \"header\"><th class = \"rowNumber\" style = \"font-weight: bold; text-align: right;\">Row</th><th style = \"text-align: left;\">speed</th><th style = \"text-align: left;\">dist</th></tr><tr class = \"subheader headerLastRow\"><th class = \"rowNumber\" style = \"font-weight: bold; text-align: right;\"></th><th title = \"Float64\" style = \"text-align: left;\">Float64</th><th title = \"Float64\" style = \"text-align: left;\">Float64</th></tr></thead><tbody><tr><td class = \"rowNumber\" style = \"font-weight: bold; text-align: right;\">1</td><td style = \"text-align: right;\">4.0</td><td style = \"text-align: right;\">2.0</td></tr><tr><td class = \"rowNumber\" style = \"font-weight: bold; text-align: right;\">2</td><td style = \"text-align: right;\">4.0</td><td style = \"text-align: right;\">10.0</td></tr><tr><td class = \"rowNumber\" style = \"font-weight: bold; text-align: right;\">3</td><td style = \"text-align: right;\">7.0</td><td style = \"text-align: right;\">4.0</td></tr><tr><td class = \"rowNumber\" style = \"font-weight: bold; text-align: right;\">4</td><td style = \"text-align: right;\">7.0</td><td style = \"text-align: right;\">22.0</td></tr><tr><td class = \"rowNumber\" style = \"font-weight: bold; text-align: right;\">5</td><td style = \"text-align: right;\">8.0</td><td style = \"text-align: right;\">16.0</td></tr><tr><td class = \"rowNumber\" style = \"font-weight: bold; text-align: right;\">6</td><td style = \"text-align: right;\">9.0</td><td style = \"text-align: right;\">10.0</td></tr></tbody></table></div>"
      ],
      "text/latex": [
       "\\begin{tabular}{r|cc}\n",
       "\t& speed & dist\\\\\n",
       "\t\\hline\n",
       "\t& Float64 & Float64\\\\\n",
       "\t\\hline\n",
       "\t1 & 4.0 & 2.0 \\\\\n",
       "\t2 & 4.0 & 10.0 \\\\\n",
       "\t3 & 7.0 & 4.0 \\\\\n",
       "\t4 & 7.0 & 22.0 \\\\\n",
       "\t5 & 8.0 & 16.0 \\\\\n",
       "\t6 & 9.0 & 10.0 \\\\\n",
       "\\end{tabular}\n"
      ],
      "text/plain": [
       "\u001b[1m6×2 DataFrame\u001b[0m\n",
       "\u001b[1m Row \u001b[0m│\u001b[1m speed   \u001b[0m\u001b[1m dist    \u001b[0m\n",
       "     │\u001b[90m Float64 \u001b[0m\u001b[90m Float64 \u001b[0m\n",
       "─────┼──────────────────\n",
       "   1 │     4.0      2.0\n",
       "   2 │     4.0     10.0\n",
       "   3 │     7.0      4.0\n",
       "   4 │     7.0     22.0\n",
       "   5 │     8.0     16.0\n",
       "   6 │     9.0     10.0"
      ]
     },
     "execution_count": 27,
     "metadata": {},
     "output_type": "execute_result"
    }
   ],
   "source": [
    "DBInterface.execute(cars_sqlite, \"SELECT * FROM cars WHERE speed < 9.5\") |> DataFrame"
   ]
  },
  {
   "cell_type": "markdown",
   "id": "5f522bcf",
   "metadata": {},
   "source": [
    "Create a new table within SQLite:"
   ]
  },
  {
   "cell_type": "code",
   "execution_count": 28,
   "id": "aeff985d",
   "metadata": {},
   "outputs": [],
   "source": [
    "DBInterface.execute(cars_sqlite, \"CREATE TABLE slow_cars AS SELECT * FROM cars WHERE speed < 9.5\");"
   ]
  },
  {
   "cell_type": "code",
   "execution_count": 29,
   "id": "d895aab2",
   "metadata": {},
   "outputs": [
    {
     "data": {
      "text/plain": [
       "2-element Vector{SQLite.DBTable}:\n",
       " SQLite.DBTable(\"cars\", Tables.Schema:\n",
       " :speed  Union{Missing, Float64}\n",
       " :dist   Union{Missing, Float64})\n",
       " SQLite.DBTable(\"slow_cars\", Tables.Schema:\n",
       " :speed  Union{Missing, Float64}\n",
       " :dist   Union{Missing, Float64})"
      ]
     },
     "execution_count": 29,
     "metadata": {},
     "output_type": "execute_result"
    }
   ],
   "source": [
    "SQLite.tables(cars_sqlite)"
   ]
  },
  {
   "cell_type": "markdown",
   "id": "8e7a88fb",
   "metadata": {},
   "source": [
    "Close the connection to the data base:"
   ]
  },
  {
   "cell_type": "code",
   "execution_count": 30,
   "id": "61d57ecf",
   "metadata": {},
   "outputs": [],
   "source": [
    "DBInterface.close!(cars_sqlite)"
   ]
  },
  {
   "cell_type": "markdown",
   "id": "63ee2a42",
   "metadata": {},
   "source": [
    "Reopen it to read data:"
   ]
  },
  {
   "cell_type": "code",
   "execution_count": 31,
   "id": "6b48ca1f",
   "metadata": {},
   "outputs": [
    {
     "data": {
      "text/plain": [
       "SQLite.DB(\"cars.sqlite\")"
      ]
     },
     "execution_count": 31,
     "metadata": {},
     "output_type": "execute_result"
    }
   ],
   "source": [
    "cars_sqlite = SQLite.DB(\"cars.sqlite\")"
   ]
  },
  {
   "cell_type": "code",
   "execution_count": 32,
   "id": "8d8a4662",
   "metadata": {},
   "outputs": [
    {
     "data": {
      "text/plain": [
       "2-element Vector{SQLite.DBTable}:\n",
       " SQLite.DBTable(\"cars\", Tables.Schema:\n",
       " :speed  Union{Missing, Float64}\n",
       " :dist   Union{Missing, Float64})\n",
       " SQLite.DBTable(\"slow_cars\", Tables.Schema:\n",
       " :speed  Union{Missing, Float64}\n",
       " :dist   Union{Missing, Float64})"
      ]
     },
     "execution_count": 32,
     "metadata": {},
     "output_type": "execute_result"
    }
   ],
   "source": [
    "SQLite.tables(cars_sqlite)"
   ]
  },
  {
   "cell_type": "code",
   "execution_count": 33,
   "id": "1e5a1b6d",
   "metadata": {},
   "outputs": [
    {
     "data": {
      "text/html": [
       "<div><div style = \"float: left;\"><span>6×2 DataFrame</span></div><div style = \"clear: both;\"></div></div><div class = \"data-frame\" style = \"overflow-x: scroll;\"><table class = \"data-frame\" style = \"margin-bottom: 6px;\"><thead><tr class = \"header\"><th class = \"rowNumber\" style = \"font-weight: bold; text-align: right;\">Row</th><th style = \"text-align: left;\">speed</th><th style = \"text-align: left;\">dist</th></tr><tr class = \"subheader headerLastRow\"><th class = \"rowNumber\" style = \"font-weight: bold; text-align: right;\"></th><th title = \"Float64\" style = \"text-align: left;\">Float64</th><th title = \"Float64\" style = \"text-align: left;\">Float64</th></tr></thead><tbody><tr><td class = \"rowNumber\" style = \"font-weight: bold; text-align: right;\">1</td><td style = \"text-align: right;\">4.0</td><td style = \"text-align: right;\">2.0</td></tr><tr><td class = \"rowNumber\" style = \"font-weight: bold; text-align: right;\">2</td><td style = \"text-align: right;\">4.0</td><td style = \"text-align: right;\">10.0</td></tr><tr><td class = \"rowNumber\" style = \"font-weight: bold; text-align: right;\">3</td><td style = \"text-align: right;\">7.0</td><td style = \"text-align: right;\">4.0</td></tr><tr><td class = \"rowNumber\" style = \"font-weight: bold; text-align: right;\">4</td><td style = \"text-align: right;\">7.0</td><td style = \"text-align: right;\">22.0</td></tr><tr><td class = \"rowNumber\" style = \"font-weight: bold; text-align: right;\">5</td><td style = \"text-align: right;\">8.0</td><td style = \"text-align: right;\">16.0</td></tr><tr><td class = \"rowNumber\" style = \"font-weight: bold; text-align: right;\">6</td><td style = \"text-align: right;\">9.0</td><td style = \"text-align: right;\">10.0</td></tr></tbody></table></div>"
      ],
      "text/latex": [
       "\\begin{tabular}{r|cc}\n",
       "\t& speed & dist\\\\\n",
       "\t\\hline\n",
       "\t& Float64 & Float64\\\\\n",
       "\t\\hline\n",
       "\t1 & 4.0 & 2.0 \\\\\n",
       "\t2 & 4.0 & 10.0 \\\\\n",
       "\t3 & 7.0 & 4.0 \\\\\n",
       "\t4 & 7.0 & 22.0 \\\\\n",
       "\t5 & 8.0 & 16.0 \\\\\n",
       "\t6 & 9.0 & 10.0 \\\\\n",
       "\\end{tabular}\n"
      ],
      "text/plain": [
       "\u001b[1m6×2 DataFrame\u001b[0m\n",
       "\u001b[1m Row \u001b[0m│\u001b[1m speed   \u001b[0m\u001b[1m dist    \u001b[0m\n",
       "     │\u001b[90m Float64 \u001b[0m\u001b[90m Float64 \u001b[0m\n",
       "─────┼──────────────────\n",
       "   1 │     4.0      2.0\n",
       "   2 │     4.0     10.0\n",
       "   3 │     7.0      4.0\n",
       "   4 │     7.0     22.0\n",
       "   5 │     8.0     16.0\n",
       "   6 │     9.0     10.0"
      ]
     },
     "execution_count": 33,
     "metadata": {},
     "output_type": "execute_result"
    }
   ],
   "source": [
    "DBInterface.execute(cars_sqlite, \"SELECT * FROM slow_cars\") |> DataFrame"
   ]
  },
  {
   "cell_type": "code",
   "execution_count": 34,
   "id": "2a34597c",
   "metadata": {},
   "outputs": [],
   "source": [
    "DBInterface.close!(cars_sqlite)"
   ]
  },
  {
   "cell_type": "markdown",
   "id": "637093dc",
   "metadata": {},
   "source": [
    "## Write and read DuckDB"
   ]
  },
  {
   "cell_type": "markdown",
   "id": "a4af43cf",
   "metadata": {},
   "source": [
    "Working with DuckDB is quite similar to SQLite. Let us focus on the differences."
   ]
  },
  {
   "cell_type": "code",
   "execution_count": 35,
   "id": "413bea83",
   "metadata": {},
   "outputs": [
    {
     "data": {
      "text/plain": [
       "false"
      ]
     },
     "execution_count": 35,
     "metadata": {},
     "output_type": "execute_result"
    }
   ],
   "source": [
    "isfile(\"cars.duckdb\") && rm(\"cars.duckdb\")"
   ]
  },
  {
   "cell_type": "code",
   "execution_count": 36,
   "id": "88ba0abc",
   "metadata": {},
   "outputs": [
    {
     "data": {
      "text/plain": [
       "DuckDB.DB(\"cars.duckdb\")"
      ]
     },
     "execution_count": 36,
     "metadata": {},
     "output_type": "execute_result"
    }
   ],
   "source": [
    "cars_duckdb = DBInterface.connect(DuckDB.DB, \"cars.duckdb\")"
   ]
  },
  {
   "cell_type": "markdown",
   "id": "a82341e5",
   "metadata": {},
   "source": [
    "The `register_data_frame` function allows us to transfer the `cars` data frame to a data base:"
   ]
  },
  {
   "cell_type": "code",
   "execution_count": 37,
   "id": "c4084e7a",
   "metadata": {},
   "outputs": [],
   "source": [
    "DuckDB.register_data_frame(cars_duckdb, cars, \"cars\")"
   ]
  },
  {
   "cell_type": "markdown",
   "id": "9e9d13cd",
   "metadata": {},
   "source": [
    "List tables as a data frame:"
   ]
  },
  {
   "cell_type": "code",
   "execution_count": 38,
   "id": "6079d5bc",
   "metadata": {},
   "outputs": [
    {
     "data": {
      "text/html": [
       "<div><div style = \"float: left;\"><span>1×6 DataFrame</span></div><div style = \"clear: both;\"></div></div><div class = \"data-frame\" style = \"overflow-x: scroll;\"><table class = \"data-frame\" style = \"margin-bottom: 6px;\"><thead><tr class = \"header\"><th class = \"rowNumber\" style = \"font-weight: bold; text-align: right;\">Row</th><th style = \"text-align: left;\">database</th><th style = \"text-align: left;\">schema</th><th style = \"text-align: left;\">name</th><th style = \"text-align: left;\">column_names</th><th style = \"text-align: left;\">column_types</th><th style = \"text-align: left;\">temporary</th></tr><tr class = \"subheader headerLastRow\"><th class = \"rowNumber\" style = \"font-weight: bold; text-align: right;\"></th><th title = \"Union{Missing, String}\" style = \"text-align: left;\">String?</th><th title = \"Union{Missing, String}\" style = \"text-align: left;\">String?</th><th title = \"Union{Missing, String}\" style = \"text-align: left;\">String?</th><th title = \"Union{Missing, Vector{Union{Missing, String}}}\" style = \"text-align: left;\">Array…?</th><th title = \"Union{Missing, Vector{Union{Missing, String}}}\" style = \"text-align: left;\">Array…?</th><th title = \"Union{Missing, Bool}\" style = \"text-align: left;\">Bool?</th></tr></thead><tbody><tr><td class = \"rowNumber\" style = \"font-weight: bold; text-align: right;\">1</td><td style = \"text-align: left;\">cars</td><td style = \"text-align: left;\">main</td><td style = \"text-align: left;\">cars</td><td style = \"text-align: left;\">Union{Missing, String}[&quot;speed&quot;, &quot;dist&quot;]</td><td style = \"text-align: left;\">Union{Missing, String}[&quot;DOUBLE&quot;, &quot;DOUBLE&quot;]</td><td style = \"text-align: right;\">false</td></tr></tbody></table></div>"
      ],
      "text/latex": [
       "\\begin{tabular}{r|cccccc}\n",
       "\t& database & schema & name & column\\_names & column\\_types & temporary\\\\\n",
       "\t\\hline\n",
       "\t& String? & String? & String? & Array…? & Array…? & Bool?\\\\\n",
       "\t\\hline\n",
       "\t1 & cars & main & cars & [\"speed\", \"dist\"] & [\"DOUBLE\", \"DOUBLE\"] & 0 \\\\\n",
       "\\end{tabular}\n"
      ],
      "text/plain": [
       "\u001b[1m1×6 DataFrame\u001b[0m\n",
       "\u001b[1m Row \u001b[0m│\u001b[1m database \u001b[0m\u001b[1m schema  \u001b[0m\u001b[1m name    \u001b[0m\u001b[1m column_names                      \u001b[0m\u001b[1m column_t\u001b[0m ⋯\n",
       "     │\u001b[90m String?  \u001b[0m\u001b[90m String? \u001b[0m\u001b[90m String? \u001b[0m\u001b[90m Array…?                           \u001b[0m\u001b[90m Array…? \u001b[0m ⋯\n",
       "─────┼──────────────────────────────────────────────────────────────────────────\n",
       "   1 │ cars      main     cars     Union{Missing, String}[\"speed\", …  Union{Mi ⋯\n",
       "\u001b[36m                                                               2 columns omitted\u001b[0m"
      ]
     },
     "execution_count": 38,
     "metadata": {},
     "output_type": "execute_result"
    }
   ],
   "source": [
    "DBInterface.execute(cars_duckdb, \"SHOW ALL TABLES\") |> DataFrame"
   ]
  },
  {
   "cell_type": "code",
   "execution_count": 39,
   "id": "5ee8536b",
   "metadata": {},
   "outputs": [
    {
     "data": {
      "text/html": [
       "<div><div style = \"float: left;\"><span>6×2 DataFrame</span></div><div style = \"clear: both;\"></div></div><div class = \"data-frame\" style = \"overflow-x: scroll;\"><table class = \"data-frame\" style = \"margin-bottom: 6px;\"><thead><tr class = \"header\"><th class = \"rowNumber\" style = \"font-weight: bold; text-align: right;\">Row</th><th style = \"text-align: left;\">speed</th><th style = \"text-align: left;\">dist</th></tr><tr class = \"subheader headerLastRow\"><th class = \"rowNumber\" style = \"font-weight: bold; text-align: right;\"></th><th title = \"Union{Missing, Float64}\" style = \"text-align: left;\">Float64?</th><th title = \"Union{Missing, Float64}\" style = \"text-align: left;\">Float64?</th></tr></thead><tbody><tr><td class = \"rowNumber\" style = \"font-weight: bold; text-align: right;\">1</td><td style = \"text-align: right;\">4.0</td><td style = \"text-align: right;\">2.0</td></tr><tr><td class = \"rowNumber\" style = \"font-weight: bold; text-align: right;\">2</td><td style = \"text-align: right;\">4.0</td><td style = \"text-align: right;\">10.0</td></tr><tr><td class = \"rowNumber\" style = \"font-weight: bold; text-align: right;\">3</td><td style = \"text-align: right;\">7.0</td><td style = \"text-align: right;\">4.0</td></tr><tr><td class = \"rowNumber\" style = \"font-weight: bold; text-align: right;\">4</td><td style = \"text-align: right;\">7.0</td><td style = \"text-align: right;\">22.0</td></tr><tr><td class = \"rowNumber\" style = \"font-weight: bold; text-align: right;\">5</td><td style = \"text-align: right;\">8.0</td><td style = \"text-align: right;\">16.0</td></tr><tr><td class = \"rowNumber\" style = \"font-weight: bold; text-align: right;\">6</td><td style = \"text-align: right;\">9.0</td><td style = \"text-align: right;\">10.0</td></tr></tbody></table></div>"
      ],
      "text/latex": [
       "\\begin{tabular}{r|cc}\n",
       "\t& speed & dist\\\\\n",
       "\t\\hline\n",
       "\t& Float64? & Float64?\\\\\n",
       "\t\\hline\n",
       "\t1 & 4.0 & 2.0 \\\\\n",
       "\t2 & 4.0 & 10.0 \\\\\n",
       "\t3 & 7.0 & 4.0 \\\\\n",
       "\t4 & 7.0 & 22.0 \\\\\n",
       "\t5 & 8.0 & 16.0 \\\\\n",
       "\t6 & 9.0 & 10.0 \\\\\n",
       "\\end{tabular}\n"
      ],
      "text/plain": [
       "\u001b[1m6×2 DataFrame\u001b[0m\n",
       "\u001b[1m Row \u001b[0m│\u001b[1m speed    \u001b[0m\u001b[1m dist     \u001b[0m\n",
       "     │\u001b[90m Float64? \u001b[0m\u001b[90m Float64? \u001b[0m\n",
       "─────┼────────────────────\n",
       "   1 │      4.0       2.0\n",
       "   2 │      4.0      10.0\n",
       "   3 │      7.0       4.0\n",
       "   4 │      7.0      22.0\n",
       "   5 │      8.0      16.0\n",
       "   6 │      9.0      10.0"
      ]
     },
     "execution_count": 39,
     "metadata": {},
     "output_type": "execute_result"
    }
   ],
   "source": [
    "DBInterface.execute(cars_duckdb, \"SELECT * FROM cars WHERE speed < 9.5\") |> DataFrame"
   ]
  },
  {
   "cell_type": "code",
   "execution_count": 40,
   "id": "d9661078",
   "metadata": {},
   "outputs": [],
   "source": [
    "DBInterface.execute(cars_duckdb, \"CREATE TABLE slow_cars AS SELECT * FROM cars WHERE speed < 9.5\");"
   ]
  },
  {
   "cell_type": "code",
   "execution_count": 41,
   "id": "6174bba6",
   "metadata": {},
   "outputs": [
    {
     "data": {
      "text/html": [
       "<div><div style = \"float: left;\"><span>2×6 DataFrame</span></div><div style = \"clear: both;\"></div></div><div class = \"data-frame\" style = \"overflow-x: scroll;\"><table class = \"data-frame\" style = \"margin-bottom: 6px;\"><thead><tr class = \"header\"><th class = \"rowNumber\" style = \"font-weight: bold; text-align: right;\">Row</th><th style = \"text-align: left;\">database</th><th style = \"text-align: left;\">schema</th><th style = \"text-align: left;\">name</th><th style = \"text-align: left;\">column_names</th><th style = \"text-align: left;\">column_types</th><th style = \"text-align: left;\">temporary</th></tr><tr class = \"subheader headerLastRow\"><th class = \"rowNumber\" style = \"font-weight: bold; text-align: right;\"></th><th title = \"Union{Missing, String}\" style = \"text-align: left;\">String?</th><th title = \"Union{Missing, String}\" style = \"text-align: left;\">String?</th><th title = \"Union{Missing, String}\" style = \"text-align: left;\">String?</th><th title = \"Union{Missing, Vector{Union{Missing, String}}}\" style = \"text-align: left;\">Array…?</th><th title = \"Union{Missing, Vector{Union{Missing, String}}}\" style = \"text-align: left;\">Array…?</th><th title = \"Union{Missing, Bool}\" style = \"text-align: left;\">Bool?</th></tr></thead><tbody><tr><td class = \"rowNumber\" style = \"font-weight: bold; text-align: right;\">1</td><td style = \"text-align: left;\">cars</td><td style = \"text-align: left;\">main</td><td style = \"text-align: left;\">cars</td><td style = \"text-align: left;\">Union{Missing, String}[&quot;speed&quot;, &quot;dist&quot;]</td><td style = \"text-align: left;\">Union{Missing, String}[&quot;DOUBLE&quot;, &quot;DOUBLE&quot;]</td><td style = \"text-align: right;\">false</td></tr><tr><td class = \"rowNumber\" style = \"font-weight: bold; text-align: right;\">2</td><td style = \"text-align: left;\">cars</td><td style = \"text-align: left;\">main</td><td style = \"text-align: left;\">slow_cars</td><td style = \"text-align: left;\">Union{Missing, String}[&quot;speed&quot;, &quot;dist&quot;]</td><td style = \"text-align: left;\">Union{Missing, String}[&quot;DOUBLE&quot;, &quot;DOUBLE&quot;]</td><td style = \"text-align: right;\">false</td></tr></tbody></table></div>"
      ],
      "text/latex": [
       "\\begin{tabular}{r|cccccc}\n",
       "\t& database & schema & name & column\\_names & column\\_types & temporary\\\\\n",
       "\t\\hline\n",
       "\t& String? & String? & String? & Array…? & Array…? & Bool?\\\\\n",
       "\t\\hline\n",
       "\t1 & cars & main & cars & [\"speed\", \"dist\"] & [\"DOUBLE\", \"DOUBLE\"] & 0 \\\\\n",
       "\t2 & cars & main & slow\\_cars & [\"speed\", \"dist\"] & [\"DOUBLE\", \"DOUBLE\"] & 0 \\\\\n",
       "\\end{tabular}\n"
      ],
      "text/plain": [
       "\u001b[1m2×6 DataFrame\u001b[0m\n",
       "\u001b[1m Row \u001b[0m│\u001b[1m database \u001b[0m\u001b[1m schema  \u001b[0m\u001b[1m name      \u001b[0m\u001b[1m column_names                      \u001b[0m\u001b[1m column\u001b[0m ⋯\n",
       "     │\u001b[90m String?  \u001b[0m\u001b[90m String? \u001b[0m\u001b[90m String?   \u001b[0m\u001b[90m Array…?                           \u001b[0m\u001b[90m Array…\u001b[0m ⋯\n",
       "─────┼──────────────────────────────────────────────────────────────────────────\n",
       "   1 │ cars      main     cars       Union{Missing, String}[\"speed\", …  Union{ ⋯\n",
       "   2 │ cars      main     slow_cars  Union{Missing, String}[\"speed\", …  Union{\n",
       "\u001b[36m                                                               2 columns omitted\u001b[0m"
      ]
     },
     "execution_count": 41,
     "metadata": {},
     "output_type": "execute_result"
    }
   ],
   "source": [
    "DBInterface.execute(cars_duckdb, \"SHOW ALL TABLES\") |> DataFrame"
   ]
  },
  {
   "cell_type": "code",
   "execution_count": 42,
   "id": "764bfc15",
   "metadata": {},
   "outputs": [
    {
     "data": {
      "text/html": [
       "<div><div style = \"float: left;\"><span>6×2 DataFrame</span></div><div style = \"clear: both;\"></div></div><div class = \"data-frame\" style = \"overflow-x: scroll;\"><table class = \"data-frame\" style = \"margin-bottom: 6px;\"><thead><tr class = \"header\"><th class = \"rowNumber\" style = \"font-weight: bold; text-align: right;\">Row</th><th style = \"text-align: left;\">speed</th><th style = \"text-align: left;\">dist</th></tr><tr class = \"subheader headerLastRow\"><th class = \"rowNumber\" style = \"font-weight: bold; text-align: right;\"></th><th title = \"Union{Missing, Float64}\" style = \"text-align: left;\">Float64?</th><th title = \"Union{Missing, Float64}\" style = \"text-align: left;\">Float64?</th></tr></thead><tbody><tr><td class = \"rowNumber\" style = \"font-weight: bold; text-align: right;\">1</td><td style = \"text-align: right;\">4.0</td><td style = \"text-align: right;\">2.0</td></tr><tr><td class = \"rowNumber\" style = \"font-weight: bold; text-align: right;\">2</td><td style = \"text-align: right;\">4.0</td><td style = \"text-align: right;\">10.0</td></tr><tr><td class = \"rowNumber\" style = \"font-weight: bold; text-align: right;\">3</td><td style = \"text-align: right;\">7.0</td><td style = \"text-align: right;\">4.0</td></tr><tr><td class = \"rowNumber\" style = \"font-weight: bold; text-align: right;\">4</td><td style = \"text-align: right;\">7.0</td><td style = \"text-align: right;\">22.0</td></tr><tr><td class = \"rowNumber\" style = \"font-weight: bold; text-align: right;\">5</td><td style = \"text-align: right;\">8.0</td><td style = \"text-align: right;\">16.0</td></tr><tr><td class = \"rowNumber\" style = \"font-weight: bold; text-align: right;\">6</td><td style = \"text-align: right;\">9.0</td><td style = \"text-align: right;\">10.0</td></tr></tbody></table></div>"
      ],
      "text/latex": [
       "\\begin{tabular}{r|cc}\n",
       "\t& speed & dist\\\\\n",
       "\t\\hline\n",
       "\t& Float64? & Float64?\\\\\n",
       "\t\\hline\n",
       "\t1 & 4.0 & 2.0 \\\\\n",
       "\t2 & 4.0 & 10.0 \\\\\n",
       "\t3 & 7.0 & 4.0 \\\\\n",
       "\t4 & 7.0 & 22.0 \\\\\n",
       "\t5 & 8.0 & 16.0 \\\\\n",
       "\t6 & 9.0 & 10.0 \\\\\n",
       "\\end{tabular}\n"
      ],
      "text/plain": [
       "\u001b[1m6×2 DataFrame\u001b[0m\n",
       "\u001b[1m Row \u001b[0m│\u001b[1m speed    \u001b[0m\u001b[1m dist     \u001b[0m\n",
       "     │\u001b[90m Float64? \u001b[0m\u001b[90m Float64? \u001b[0m\n",
       "─────┼────────────────────\n",
       "   1 │      4.0       2.0\n",
       "   2 │      4.0      10.0\n",
       "   3 │      7.0       4.0\n",
       "   4 │      7.0      22.0\n",
       "   5 │      8.0      16.0\n",
       "   6 │      9.0      10.0"
      ]
     },
     "execution_count": 42,
     "metadata": {},
     "output_type": "execute_result"
    }
   ],
   "source": [
    "DBInterface.execute(cars_duckdb, \"SELECT * FROM slow_cars\") |> DataFrame"
   ]
  },
  {
   "cell_type": "code",
   "execution_count": 43,
   "id": "2ec34329",
   "metadata": {},
   "outputs": [],
   "source": [
    "DBInterface.close!(cars_duckdb)"
   ]
  },
  {
   "cell_type": "markdown",
   "id": "f550b2a5",
   "metadata": {},
   "source": [
    "Notes:\n",
    "1. `close!` does not free file handle correctly currently. This is going to be fixed soon.\n",
    "2. In upcoming releases of DuckDB.jl it will get an improved integration with Tables.jl tables (current release is focused on integration with DataFrames.jl)."
   ]
  },
  {
   "cell_type": "markdown",
   "id": "f922d527",
   "metadata": {},
   "source": [
    "## Write and read Parquet"
   ]
  },
  {
   "cell_type": "markdown",
   "id": "a42f4c5f",
   "metadata": {},
   "source": [
    "We store our data in a folder, as Parquet allows for multi-file data stores."
   ]
  },
  {
   "cell_type": "code",
   "execution_count": 44,
   "id": "fa2f04f4",
   "metadata": {},
   "outputs": [
    {
     "data": {
      "text/plain": [
       "false"
      ]
     },
     "execution_count": 44,
     "metadata": {},
     "output_type": "execute_result"
    }
   ],
   "source": [
    "isdir(\"pq_data\") && rm(\"pq_data\"; recursive=true)"
   ]
  },
  {
   "cell_type": "code",
   "execution_count": 45,
   "id": "947c4293",
   "metadata": {},
   "outputs": [
    {
     "data": {
      "text/plain": [
       "\"pq_data\""
      ]
     },
     "execution_count": 45,
     "metadata": {},
     "output_type": "execute_result"
    }
   ],
   "source": [
    "mkdir(\"pq_data\")"
   ]
  },
  {
   "cell_type": "markdown",
   "id": "f622152f",
   "metadata": {},
   "source": [
    "A basic workflow:"
   ]
  },
  {
   "cell_type": "code",
   "execution_count": 46,
   "id": "0bfdea1d",
   "metadata": {},
   "outputs": [
    {
     "data": {
      "text/plain": [
       "\u001b[34m✏ \u001b[39mParquet2.FileWriter{IOStream}(pq_data/cars.parquet)"
      ]
     },
     "execution_count": 46,
     "metadata": {},
     "output_type": "execute_result"
    }
   ],
   "source": [
    "Parquet2.writefile(\"pq_data/cars.parquet\", cars)"
   ]
  },
  {
   "cell_type": "code",
   "execution_count": 47,
   "id": "16bffb56",
   "metadata": {},
   "outputs": [
    {
     "data": {
      "text/plain": [
       "\u001b[34m≔ \u001b[39mParquet2.Dataset (775 bytes)\n",
       "\t1. \u001b[33m\"speed\"\u001b[39m: \u001b[36mFloat64\u001b[39m\n",
       "\t2. \u001b[33m\"dist\"\u001b[39m: \u001b[36mFloat64\u001b[39m\n"
      ]
     },
     "execution_count": 47,
     "metadata": {},
     "output_type": "execute_result"
    }
   ],
   "source": [
    "Parquet2.readfile(\"pq_data/cars.parquet\")"
   ]
  },
  {
   "cell_type": "markdown",
   "id": "6f99017d",
   "metadata": {},
   "source": [
    "Note that below we pass `copycols=false` to save memory (there is no risk of re-using the data; this is going to be explained in more detail in part 3 of the tutorial):"
   ]
  },
  {
   "cell_type": "code",
   "execution_count": 48,
   "id": "0bc10bc9",
   "metadata": {},
   "outputs": [
    {
     "data": {
      "text/html": [
       "<div><div style = \"float: left;\"><span>50×2 DataFrame</span></div><div style = \"float: right;\"><span style = \"font-style: italic;\">25 rows omitted</span></div><div style = \"clear: both;\"></div></div><div class = \"data-frame\" style = \"overflow-x: scroll;\"><table class = \"data-frame\" style = \"margin-bottom: 6px;\"><thead><tr class = \"header\"><th class = \"rowNumber\" style = \"font-weight: bold; text-align: right;\">Row</th><th style = \"text-align: left;\">speed</th><th style = \"text-align: left;\">dist</th></tr><tr class = \"subheader headerLastRow\"><th class = \"rowNumber\" style = \"font-weight: bold; text-align: right;\"></th><th title = \"Float64\" style = \"text-align: left;\">Float64</th><th title = \"Float64\" style = \"text-align: left;\">Float64</th></tr></thead><tbody><tr><td class = \"rowNumber\" style = \"font-weight: bold; text-align: right;\">1</td><td style = \"text-align: right;\">4.0</td><td style = \"text-align: right;\">2.0</td></tr><tr><td class = \"rowNumber\" style = \"font-weight: bold; text-align: right;\">2</td><td style = \"text-align: right;\">4.0</td><td style = \"text-align: right;\">10.0</td></tr><tr><td class = \"rowNumber\" style = \"font-weight: bold; text-align: right;\">3</td><td style = \"text-align: right;\">7.0</td><td style = \"text-align: right;\">4.0</td></tr><tr><td class = \"rowNumber\" style = \"font-weight: bold; text-align: right;\">4</td><td style = \"text-align: right;\">7.0</td><td style = \"text-align: right;\">22.0</td></tr><tr><td class = \"rowNumber\" style = \"font-weight: bold; text-align: right;\">5</td><td style = \"text-align: right;\">8.0</td><td style = \"text-align: right;\">16.0</td></tr><tr><td class = \"rowNumber\" style = \"font-weight: bold; text-align: right;\">6</td><td style = \"text-align: right;\">9.0</td><td style = \"text-align: right;\">10.0</td></tr><tr><td class = \"rowNumber\" style = \"font-weight: bold; text-align: right;\">7</td><td style = \"text-align: right;\">10.0</td><td style = \"text-align: right;\">18.0</td></tr><tr><td class = \"rowNumber\" style = \"font-weight: bold; text-align: right;\">8</td><td style = \"text-align: right;\">10.0</td><td style = \"text-align: right;\">26.0</td></tr><tr><td class = \"rowNumber\" style = \"font-weight: bold; text-align: right;\">9</td><td style = \"text-align: right;\">10.0</td><td style = \"text-align: right;\">34.0</td></tr><tr><td class = \"rowNumber\" style = \"font-weight: bold; text-align: right;\">10</td><td style = \"text-align: right;\">11.0</td><td style = \"text-align: right;\">17.0</td></tr><tr><td class = \"rowNumber\" style = \"font-weight: bold; text-align: right;\">11</td><td style = \"text-align: right;\">11.0</td><td style = \"text-align: right;\">28.0</td></tr><tr><td class = \"rowNumber\" style = \"font-weight: bold; text-align: right;\">12</td><td style = \"text-align: right;\">12.0</td><td style = \"text-align: right;\">14.0</td></tr><tr><td class = \"rowNumber\" style = \"font-weight: bold; text-align: right;\">13</td><td style = \"text-align: right;\">12.0</td><td style = \"text-align: right;\">20.0</td></tr><tr><td style = \"text-align: right;\">&vellip;</td><td style = \"text-align: right;\">&vellip;</td><td style = \"text-align: right;\">&vellip;</td></tr><tr><td class = \"rowNumber\" style = \"font-weight: bold; text-align: right;\">39</td><td style = \"text-align: right;\">20.0</td><td style = \"text-align: right;\">32.0</td></tr><tr><td class = \"rowNumber\" style = \"font-weight: bold; text-align: right;\">40</td><td style = \"text-align: right;\">20.0</td><td style = \"text-align: right;\">48.0</td></tr><tr><td class = \"rowNumber\" style = \"font-weight: bold; text-align: right;\">41</td><td style = \"text-align: right;\">20.0</td><td style = \"text-align: right;\">52.0</td></tr><tr><td class = \"rowNumber\" style = \"font-weight: bold; text-align: right;\">42</td><td style = \"text-align: right;\">20.0</td><td style = \"text-align: right;\">56.0</td></tr><tr><td class = \"rowNumber\" style = \"font-weight: bold; text-align: right;\">43</td><td style = \"text-align: right;\">20.0</td><td style = \"text-align: right;\">64.0</td></tr><tr><td class = \"rowNumber\" style = \"font-weight: bold; text-align: right;\">44</td><td style = \"text-align: right;\">22.0</td><td style = \"text-align: right;\">66.0</td></tr><tr><td class = \"rowNumber\" style = \"font-weight: bold; text-align: right;\">45</td><td style = \"text-align: right;\">23.0</td><td style = \"text-align: right;\">54.0</td></tr><tr><td class = \"rowNumber\" style = \"font-weight: bold; text-align: right;\">46</td><td style = \"text-align: right;\">24.0</td><td style = \"text-align: right;\">70.0</td></tr><tr><td class = \"rowNumber\" style = \"font-weight: bold; text-align: right;\">47</td><td style = \"text-align: right;\">24.0</td><td style = \"text-align: right;\">92.0</td></tr><tr><td class = \"rowNumber\" style = \"font-weight: bold; text-align: right;\">48</td><td style = \"text-align: right;\">24.0</td><td style = \"text-align: right;\">93.0</td></tr><tr><td class = \"rowNumber\" style = \"font-weight: bold; text-align: right;\">49</td><td style = \"text-align: right;\">24.0</td><td style = \"text-align: right;\">120.0</td></tr><tr><td class = \"rowNumber\" style = \"font-weight: bold; text-align: right;\">50</td><td style = \"text-align: right;\">25.0</td><td style = \"text-align: right;\">85.0</td></tr></tbody></table></div>"
      ],
      "text/latex": [
       "\\begin{tabular}{r|cc}\n",
       "\t& speed & dist\\\\\n",
       "\t\\hline\n",
       "\t& Float64 & Float64\\\\\n",
       "\t\\hline\n",
       "\t1 & 4.0 & 2.0 \\\\\n",
       "\t2 & 4.0 & 10.0 \\\\\n",
       "\t3 & 7.0 & 4.0 \\\\\n",
       "\t4 & 7.0 & 22.0 \\\\\n",
       "\t5 & 8.0 & 16.0 \\\\\n",
       "\t6 & 9.0 & 10.0 \\\\\n",
       "\t7 & 10.0 & 18.0 \\\\\n",
       "\t8 & 10.0 & 26.0 \\\\\n",
       "\t9 & 10.0 & 34.0 \\\\\n",
       "\t10 & 11.0 & 17.0 \\\\\n",
       "\t11 & 11.0 & 28.0 \\\\\n",
       "\t12 & 12.0 & 14.0 \\\\\n",
       "\t13 & 12.0 & 20.0 \\\\\n",
       "\t14 & 12.0 & 24.0 \\\\\n",
       "\t15 & 12.0 & 28.0 \\\\\n",
       "\t16 & 13.0 & 26.0 \\\\\n",
       "\t17 & 13.0 & 34.0 \\\\\n",
       "\t18 & 13.0 & 34.0 \\\\\n",
       "\t19 & 13.0 & 46.0 \\\\\n",
       "\t20 & 14.0 & 26.0 \\\\\n",
       "\t21 & 14.0 & 36.0 \\\\\n",
       "\t22 & 14.0 & 60.0 \\\\\n",
       "\t23 & 14.0 & 80.0 \\\\\n",
       "\t24 & 15.0 & 20.0 \\\\\n",
       "\t25 & 15.0 & 26.0 \\\\\n",
       "\t26 & 15.0 & 54.0 \\\\\n",
       "\t27 & 16.0 & 32.0 \\\\\n",
       "\t28 & 16.0 & 40.0 \\\\\n",
       "\t29 & 17.0 & 32.0 \\\\\n",
       "\t30 & 17.0 & 40.0 \\\\\n",
       "\t$\\dots$ & $\\dots$ & $\\dots$ \\\\\n",
       "\\end{tabular}\n"
      ],
      "text/plain": [
       "\u001b[1m50×2 DataFrame\u001b[0m\n",
       "\u001b[1m Row \u001b[0m│\u001b[1m speed   \u001b[0m\u001b[1m dist    \u001b[0m\n",
       "     │\u001b[90m Float64 \u001b[0m\u001b[90m Float64 \u001b[0m\n",
       "─────┼──────────────────\n",
       "   1 │     4.0      2.0\n",
       "   2 │     4.0     10.0\n",
       "   3 │     7.0      4.0\n",
       "   4 │     7.0     22.0\n",
       "   5 │     8.0     16.0\n",
       "   6 │     9.0     10.0\n",
       "   7 │    10.0     18.0\n",
       "   8 │    10.0     26.0\n",
       "   9 │    10.0     34.0\n",
       "  10 │    11.0     17.0\n",
       "  11 │    11.0     28.0\n",
       "  ⋮  │    ⋮        ⋮\n",
       "  41 │    20.0     52.0\n",
       "  42 │    20.0     56.0\n",
       "  43 │    20.0     64.0\n",
       "  44 │    22.0     66.0\n",
       "  45 │    23.0     54.0\n",
       "  46 │    24.0     70.0\n",
       "  47 │    24.0     92.0\n",
       "  48 │    24.0     93.0\n",
       "  49 │    24.0    120.0\n",
       "  50 │    25.0     85.0\n",
       "\u001b[36m         29 rows omitted\u001b[0m"
      ]
     },
     "execution_count": 48,
     "metadata": {},
     "output_type": "execute_result"
    }
   ],
   "source": [
    "cars2 = DataFrame(Parquet2.readfile(\"pq_data/cars.parquet\"), copycols=false)"
   ]
  },
  {
   "cell_type": "markdown",
   "id": "00df983b",
   "metadata": {},
   "source": [
    "Parquet format stores metadata. Let us check that indedd it was retained:"
   ]
  },
  {
   "cell_type": "code",
   "execution_count": 49,
   "id": "dcf551d8",
   "metadata": {},
   "outputs": [
    {
     "data": {
      "text/plain": [
       "Dict{String, String} with 3 entries:\n",
       "  \"source\"    => \"Ezekiel, M. (1930) Methods of Correlation Analysis. Wiley.\"\n",
       "  \"row.names\" => \"Union{Missing, Int32}[missing, -50]\"\n",
       "  \"comment\"   => \"The data give the speed of cars and the distances taken to st…"
      ]
     },
     "execution_count": 49,
     "metadata": {},
     "output_type": "execute_result"
    }
   ],
   "source": [
    "metadata(cars2)"
   ]
  },
  {
   "cell_type": "code",
   "execution_count": 50,
   "id": "f5775083",
   "metadata": {},
   "outputs": [
    {
     "data": {
      "text/plain": [
       "Dict{Symbol, Dict{String, String}} with 2 entries:\n",
       "  :dist  => Dict(\"label\"=>\"Stopping distance (ft)\")\n",
       "  :speed => Dict(\"label\"=>\"Speed (mph)\")"
      ]
     },
     "execution_count": 50,
     "metadata": {},
     "output_type": "execute_result"
    }
   ],
   "source": [
    "colmetadata(cars2)"
   ]
  },
  {
   "cell_type": "markdown",
   "id": "5945ada5",
   "metadata": {},
   "source": [
    "Parquet file format allows us to split our data frame into several smaller row groups stored in one file.\n",
    "\n",
    "In part 3 we will discuss when it is especially useful.\n",
    "\n",
    "Here let us concentrate on learning how to do it:"
   ]
  },
  {
   "cell_type": "code",
   "execution_count": 51,
   "id": "2fe40594",
   "metadata": {},
   "outputs": [
    {
     "data": {
      "text/plain": [
       "Base.Iterators.PartitionIterator{DataFrame}(\u001b[1m50×2 DataFrame\u001b[0m\n",
       "\u001b[1m Row \u001b[0m│\u001b[1m speed   \u001b[0m\u001b[1m dist    \u001b[0m\n",
       "     │\u001b[90m Float64 \u001b[0m\u001b[90m Float64 \u001b[0m\n",
       "─────┼──────────────────\n",
       "   1 │     4.0      2.0\n",
       "   2 │     4.0     10.0\n",
       "   3 │     7.0      4.0\n",
       "   4 │     7.0     22.0\n",
       "   5 │     8.0     16.0\n",
       "   6 │     9.0     10.0\n",
       "   7 │    10.0     18.0\n",
       "   8 │    10.0     26.0\n",
       "   9 │    10.0     34.0\n",
       "  10 │    11.0     17.0\n",
       "  11 │    11.0     28.0\n",
       "  ⋮  │    ⋮        ⋮\n",
       "  41 │    20.0     52.0\n",
       "  42 │    20.0     56.0\n",
       "  43 │    20.0     64.0\n",
       "  44 │    22.0     66.0\n",
       "  45 │    23.0     54.0\n",
       "  46 │    24.0     70.0\n",
       "  47 │    24.0     92.0\n",
       "  48 │    24.0     93.0\n",
       "  49 │    24.0    120.0\n",
       "  50 │    25.0     85.0\n",
       "\u001b[36m         29 rows omitted\u001b[0m, 25)"
      ]
     },
     "execution_count": 51,
     "metadata": {},
     "output_type": "execute_result"
    }
   ],
   "source": [
    "cars_2part = Iterators.partition(cars, 25)"
   ]
  },
  {
   "cell_type": "code",
   "execution_count": 52,
   "id": "21fee9c1",
   "metadata": {},
   "outputs": [
    {
     "data": {
      "text/plain": [
       "2-element Vector{SubDataFrame{DataFrame, DataFrames.Index, UnitRange{Int64}}}:\n",
       " \u001b[1m25×2 SubDataFrame\u001b[0m\n",
       "\u001b[1m Row \u001b[0m│\u001b[1m speed   \u001b[0m\u001b[1m dist    \u001b[0m\n",
       "     │\u001b[90m Float64 \u001b[0m\u001b[90m Float64 \u001b[0m\n",
       "─────┼──────────────────\n",
       "   1 │     4.0      2.0\n",
       "   2 │     4.0     10.0\n",
       "   3 │     7.0      4.0\n",
       "   4 │     7.0     22.0\n",
       "   5 │     8.0     16.0\n",
       "   6 │     9.0     10.0\n",
       "   7 │    10.0     18.0\n",
       "   8 │    10.0     26.0\n",
       "   9 │    10.0     34.0\n",
       "  10 │    11.0     17.0\n",
       "  11 │    11.0     28.0\n",
       "  ⋮  │    ⋮        ⋮\n",
       "  16 │    13.0     26.0\n",
       "  17 │    13.0     34.0\n",
       "  18 │    13.0     34.0\n",
       "  19 │    13.0     46.0\n",
       "  20 │    14.0     26.0\n",
       "  21 │    14.0     36.0\n",
       "  22 │    14.0     60.0\n",
       "  23 │    14.0     80.0\n",
       "  24 │    15.0     20.0\n",
       "  25 │    15.0     26.0\n",
       "\u001b[36m          4 rows omitted\u001b[0m\n",
       " \u001b[1m25×2 SubDataFrame\u001b[0m\n",
       "\u001b[1m Row \u001b[0m│\u001b[1m speed   \u001b[0m\u001b[1m dist    \u001b[0m\n",
       "     │\u001b[90m Float64 \u001b[0m\u001b[90m Float64 \u001b[0m\n",
       "─────┼──────────────────\n",
       "   1 │    15.0     54.0\n",
       "   2 │    16.0     32.0\n",
       "   3 │    16.0     40.0\n",
       "   4 │    17.0     32.0\n",
       "   5 │    17.0     40.0\n",
       "   6 │    17.0     50.0\n",
       "   7 │    18.0     42.0\n",
       "   8 │    18.0     56.0\n",
       "   9 │    18.0     76.0\n",
       "  10 │    18.0     84.0\n",
       "  11 │    19.0     36.0\n",
       "  ⋮  │    ⋮        ⋮\n",
       "  16 │    20.0     52.0\n",
       "  17 │    20.0     56.0\n",
       "  18 │    20.0     64.0\n",
       "  19 │    22.0     66.0\n",
       "  20 │    23.0     54.0\n",
       "  21 │    24.0     70.0\n",
       "  22 │    24.0     92.0\n",
       "  23 │    24.0     93.0\n",
       "  24 │    24.0    120.0\n",
       "  25 │    25.0     85.0\n",
       "\u001b[36m          4 rows omitted\u001b[0m"
      ]
     },
     "execution_count": 52,
     "metadata": {},
     "output_type": "execute_result"
    }
   ],
   "source": [
    "collect(cars_2part)"
   ]
  },
  {
   "cell_type": "code",
   "execution_count": 53,
   "id": "87e1e74c",
   "metadata": {},
   "outputs": [
    {
     "data": {
      "text/plain": [
       "\u001b[34m✏ \u001b[39mParquet2.FileWriter{IOStream}(pq_data/cars2.parquet)"
      ]
     },
     "execution_count": 53,
     "metadata": {},
     "output_type": "execute_result"
    }
   ],
   "source": [
    "Parquet2.writefile(\"pq_data/cars2.parquet\", cars_2part)"
   ]
  },
  {
   "cell_type": "code",
   "execution_count": 54,
   "id": "f67f0b19",
   "metadata": {},
   "outputs": [
    {
     "data": {
      "text/plain": [
       "\u001b[34m≔ \u001b[39mParquet2.Dataset (856 bytes)\n",
       "\t1. \u001b[33m\"speed\"\u001b[39m: \u001b[36mFloat64\u001b[39m\n",
       "\t2. \u001b[33m\"dist\"\u001b[39m: \u001b[36mFloat64\u001b[39m\n"
      ]
     },
     "execution_count": 54,
     "metadata": {},
     "output_type": "execute_result"
    }
   ],
   "source": [
    "cars2_pq = Parquet2.readfile(\"pq_data/cars2.parquet\")"
   ]
  },
  {
   "cell_type": "markdown",
   "id": "ce07c410",
   "metadata": {},
   "source": [
    "If we pass the `cars2_pq` to the `DataFrame` constructor we get what we had previously:"
   ]
  },
  {
   "cell_type": "code",
   "execution_count": 55,
   "id": "2ef2a9cc",
   "metadata": {},
   "outputs": [
    {
     "data": {
      "text/html": [
       "<div><div style = \"float: left;\"><span>50×2 DataFrame</span></div><div style = \"float: right;\"><span style = \"font-style: italic;\">25 rows omitted</span></div><div style = \"clear: both;\"></div></div><div class = \"data-frame\" style = \"overflow-x: scroll;\"><table class = \"data-frame\" style = \"margin-bottom: 6px;\"><thead><tr class = \"header\"><th class = \"rowNumber\" style = \"font-weight: bold; text-align: right;\">Row</th><th style = \"text-align: left;\">speed</th><th style = \"text-align: left;\">dist</th></tr><tr class = \"subheader headerLastRow\"><th class = \"rowNumber\" style = \"font-weight: bold; text-align: right;\"></th><th title = \"Float64\" style = \"text-align: left;\">Float64</th><th title = \"Float64\" style = \"text-align: left;\">Float64</th></tr></thead><tbody><tr><td class = \"rowNumber\" style = \"font-weight: bold; text-align: right;\">1</td><td style = \"text-align: right;\">4.0</td><td style = \"text-align: right;\">2.0</td></tr><tr><td class = \"rowNumber\" style = \"font-weight: bold; text-align: right;\">2</td><td style = \"text-align: right;\">4.0</td><td style = \"text-align: right;\">10.0</td></tr><tr><td class = \"rowNumber\" style = \"font-weight: bold; text-align: right;\">3</td><td style = \"text-align: right;\">7.0</td><td style = \"text-align: right;\">4.0</td></tr><tr><td class = \"rowNumber\" style = \"font-weight: bold; text-align: right;\">4</td><td style = \"text-align: right;\">7.0</td><td style = \"text-align: right;\">22.0</td></tr><tr><td class = \"rowNumber\" style = \"font-weight: bold; text-align: right;\">5</td><td style = \"text-align: right;\">8.0</td><td style = \"text-align: right;\">16.0</td></tr><tr><td class = \"rowNumber\" style = \"font-weight: bold; text-align: right;\">6</td><td style = \"text-align: right;\">9.0</td><td style = \"text-align: right;\">10.0</td></tr><tr><td class = \"rowNumber\" style = \"font-weight: bold; text-align: right;\">7</td><td style = \"text-align: right;\">10.0</td><td style = \"text-align: right;\">18.0</td></tr><tr><td class = \"rowNumber\" style = \"font-weight: bold; text-align: right;\">8</td><td style = \"text-align: right;\">10.0</td><td style = \"text-align: right;\">26.0</td></tr><tr><td class = \"rowNumber\" style = \"font-weight: bold; text-align: right;\">9</td><td style = \"text-align: right;\">10.0</td><td style = \"text-align: right;\">34.0</td></tr><tr><td class = \"rowNumber\" style = \"font-weight: bold; text-align: right;\">10</td><td style = \"text-align: right;\">11.0</td><td style = \"text-align: right;\">17.0</td></tr><tr><td class = \"rowNumber\" style = \"font-weight: bold; text-align: right;\">11</td><td style = \"text-align: right;\">11.0</td><td style = \"text-align: right;\">28.0</td></tr><tr><td class = \"rowNumber\" style = \"font-weight: bold; text-align: right;\">12</td><td style = \"text-align: right;\">12.0</td><td style = \"text-align: right;\">14.0</td></tr><tr><td class = \"rowNumber\" style = \"font-weight: bold; text-align: right;\">13</td><td style = \"text-align: right;\">12.0</td><td style = \"text-align: right;\">20.0</td></tr><tr><td style = \"text-align: right;\">&vellip;</td><td style = \"text-align: right;\">&vellip;</td><td style = \"text-align: right;\">&vellip;</td></tr><tr><td class = \"rowNumber\" style = \"font-weight: bold; text-align: right;\">39</td><td style = \"text-align: right;\">20.0</td><td style = \"text-align: right;\">32.0</td></tr><tr><td class = \"rowNumber\" style = \"font-weight: bold; text-align: right;\">40</td><td style = \"text-align: right;\">20.0</td><td style = \"text-align: right;\">48.0</td></tr><tr><td class = \"rowNumber\" style = \"font-weight: bold; text-align: right;\">41</td><td style = \"text-align: right;\">20.0</td><td style = \"text-align: right;\">52.0</td></tr><tr><td class = \"rowNumber\" style = \"font-weight: bold; text-align: right;\">42</td><td style = \"text-align: right;\">20.0</td><td style = \"text-align: right;\">56.0</td></tr><tr><td class = \"rowNumber\" style = \"font-weight: bold; text-align: right;\">43</td><td style = \"text-align: right;\">20.0</td><td style = \"text-align: right;\">64.0</td></tr><tr><td class = \"rowNumber\" style = \"font-weight: bold; text-align: right;\">44</td><td style = \"text-align: right;\">22.0</td><td style = \"text-align: right;\">66.0</td></tr><tr><td class = \"rowNumber\" style = \"font-weight: bold; text-align: right;\">45</td><td style = \"text-align: right;\">23.0</td><td style = \"text-align: right;\">54.0</td></tr><tr><td class = \"rowNumber\" style = \"font-weight: bold; text-align: right;\">46</td><td style = \"text-align: right;\">24.0</td><td style = \"text-align: right;\">70.0</td></tr><tr><td class = \"rowNumber\" style = \"font-weight: bold; text-align: right;\">47</td><td style = \"text-align: right;\">24.0</td><td style = \"text-align: right;\">92.0</td></tr><tr><td class = \"rowNumber\" style = \"font-weight: bold; text-align: right;\">48</td><td style = \"text-align: right;\">24.0</td><td style = \"text-align: right;\">93.0</td></tr><tr><td class = \"rowNumber\" style = \"font-weight: bold; text-align: right;\">49</td><td style = \"text-align: right;\">24.0</td><td style = \"text-align: right;\">120.0</td></tr><tr><td class = \"rowNumber\" style = \"font-weight: bold; text-align: right;\">50</td><td style = \"text-align: right;\">25.0</td><td style = \"text-align: right;\">85.0</td></tr></tbody></table></div>"
      ],
      "text/latex": [
       "\\begin{tabular}{r|cc}\n",
       "\t& speed & dist\\\\\n",
       "\t\\hline\n",
       "\t& Float64 & Float64\\\\\n",
       "\t\\hline\n",
       "\t1 & 4.0 & 2.0 \\\\\n",
       "\t2 & 4.0 & 10.0 \\\\\n",
       "\t3 & 7.0 & 4.0 \\\\\n",
       "\t4 & 7.0 & 22.0 \\\\\n",
       "\t5 & 8.0 & 16.0 \\\\\n",
       "\t6 & 9.0 & 10.0 \\\\\n",
       "\t7 & 10.0 & 18.0 \\\\\n",
       "\t8 & 10.0 & 26.0 \\\\\n",
       "\t9 & 10.0 & 34.0 \\\\\n",
       "\t10 & 11.0 & 17.0 \\\\\n",
       "\t11 & 11.0 & 28.0 \\\\\n",
       "\t12 & 12.0 & 14.0 \\\\\n",
       "\t13 & 12.0 & 20.0 \\\\\n",
       "\t14 & 12.0 & 24.0 \\\\\n",
       "\t15 & 12.0 & 28.0 \\\\\n",
       "\t16 & 13.0 & 26.0 \\\\\n",
       "\t17 & 13.0 & 34.0 \\\\\n",
       "\t18 & 13.0 & 34.0 \\\\\n",
       "\t19 & 13.0 & 46.0 \\\\\n",
       "\t20 & 14.0 & 26.0 \\\\\n",
       "\t21 & 14.0 & 36.0 \\\\\n",
       "\t22 & 14.0 & 60.0 \\\\\n",
       "\t23 & 14.0 & 80.0 \\\\\n",
       "\t24 & 15.0 & 20.0 \\\\\n",
       "\t25 & 15.0 & 26.0 \\\\\n",
       "\t26 & 15.0 & 54.0 \\\\\n",
       "\t27 & 16.0 & 32.0 \\\\\n",
       "\t28 & 16.0 & 40.0 \\\\\n",
       "\t29 & 17.0 & 32.0 \\\\\n",
       "\t30 & 17.0 & 40.0 \\\\\n",
       "\t$\\dots$ & $\\dots$ & $\\dots$ \\\\\n",
       "\\end{tabular}\n"
      ],
      "text/plain": [
       "\u001b[1m50×2 DataFrame\u001b[0m\n",
       "\u001b[1m Row \u001b[0m│\u001b[1m speed   \u001b[0m\u001b[1m dist    \u001b[0m\n",
       "     │\u001b[90m Float64 \u001b[0m\u001b[90m Float64 \u001b[0m\n",
       "─────┼──────────────────\n",
       "   1 │     4.0      2.0\n",
       "   2 │     4.0     10.0\n",
       "   3 │     7.0      4.0\n",
       "   4 │     7.0     22.0\n",
       "   5 │     8.0     16.0\n",
       "   6 │     9.0     10.0\n",
       "   7 │    10.0     18.0\n",
       "   8 │    10.0     26.0\n",
       "   9 │    10.0     34.0\n",
       "  10 │    11.0     17.0\n",
       "  11 │    11.0     28.0\n",
       "  ⋮  │    ⋮        ⋮\n",
       "  41 │    20.0     52.0\n",
       "  42 │    20.0     56.0\n",
       "  43 │    20.0     64.0\n",
       "  44 │    22.0     66.0\n",
       "  45 │    23.0     54.0\n",
       "  46 │    24.0     70.0\n",
       "  47 │    24.0     92.0\n",
       "  48 │    24.0     93.0\n",
       "  49 │    24.0    120.0\n",
       "  50 │    25.0     85.0\n",
       "\u001b[36m         29 rows omitted\u001b[0m"
      ]
     },
     "execution_count": 55,
     "metadata": {},
     "output_type": "execute_result"
    }
   ],
   "source": [
    "DataFrame(cars2_pq, copycols=false)"
   ]
  },
  {
   "cell_type": "markdown",
   "id": "213b0d0f",
   "metadata": {},
   "source": [
    "However, actually it is a collection of smaller tables, called `RowGroup`. In our case we have 2 groups:"
   ]
  },
  {
   "cell_type": "code",
   "execution_count": 56,
   "id": "33b7660e",
   "metadata": {},
   "outputs": [
    {
     "data": {
      "text/plain": [
       "2"
      ]
     },
     "execution_count": 56,
     "metadata": {},
     "output_type": "execute_result"
    }
   ],
   "source": [
    "length(cars2_pq)"
   ]
  },
  {
   "cell_type": "markdown",
   "id": "01bc2fff",
   "metadata": {},
   "source": [
    "We can fetch them separately as `DataFrame`:"
   ]
  },
  {
   "cell_type": "code",
   "execution_count": 57,
   "id": "dae2b456",
   "metadata": {},
   "outputs": [
    {
     "data": {
      "text/plain": [
       "2-element Vector{DataFrame}:\n",
       " \u001b[1m25×2 DataFrame\u001b[0m\n",
       "\u001b[1m Row \u001b[0m│\u001b[1m speed   \u001b[0m\u001b[1m dist    \u001b[0m\n",
       "     │\u001b[90m Float64 \u001b[0m\u001b[90m Float64 \u001b[0m\n",
       "─────┼──────────────────\n",
       "   1 │     4.0      2.0\n",
       "   2 │     4.0     10.0\n",
       "   3 │     7.0      4.0\n",
       "   4 │     7.0     22.0\n",
       "   5 │     8.0     16.0\n",
       "   6 │     9.0     10.0\n",
       "   7 │    10.0     18.0\n",
       "   8 │    10.0     26.0\n",
       "   9 │    10.0     34.0\n",
       "  10 │    11.0     17.0\n",
       "  11 │    11.0     28.0\n",
       "  ⋮  │    ⋮        ⋮\n",
       "  16 │    13.0     26.0\n",
       "  17 │    13.0     34.0\n",
       "  18 │    13.0     34.0\n",
       "  19 │    13.0     46.0\n",
       "  20 │    14.0     26.0\n",
       "  21 │    14.0     36.0\n",
       "  22 │    14.0     60.0\n",
       "  23 │    14.0     80.0\n",
       "  24 │    15.0     20.0\n",
       "  25 │    15.0     26.0\n",
       "\u001b[36m          4 rows omitted\u001b[0m\n",
       " \u001b[1m25×2 DataFrame\u001b[0m\n",
       "\u001b[1m Row \u001b[0m│\u001b[1m speed   \u001b[0m\u001b[1m dist    \u001b[0m\n",
       "     │\u001b[90m Float64 \u001b[0m\u001b[90m Float64 \u001b[0m\n",
       "─────┼──────────────────\n",
       "   1 │    15.0     54.0\n",
       "   2 │    16.0     32.0\n",
       "   3 │    16.0     40.0\n",
       "   4 │    17.0     32.0\n",
       "   5 │    17.0     40.0\n",
       "   6 │    17.0     50.0\n",
       "   7 │    18.0     42.0\n",
       "   8 │    18.0     56.0\n",
       "   9 │    18.0     76.0\n",
       "  10 │    18.0     84.0\n",
       "  11 │    19.0     36.0\n",
       "  ⋮  │    ⋮        ⋮\n",
       "  16 │    20.0     52.0\n",
       "  17 │    20.0     56.0\n",
       "  18 │    20.0     64.0\n",
       "  19 │    22.0     66.0\n",
       "  20 │    23.0     54.0\n",
       "  21 │    24.0     70.0\n",
       "  22 │    24.0     92.0\n",
       "  23 │    24.0     93.0\n",
       "  24 │    24.0    120.0\n",
       "  25 │    25.0     85.0\n",
       "\u001b[36m          4 rows omitted\u001b[0m"
      ]
     },
     "execution_count": 57,
     "metadata": {},
     "output_type": "execute_result"
    }
   ],
   "source": [
    "DataFrame.(cars2_pq)"
   ]
  },
  {
   "cell_type": "markdown",
   "id": "e00728b9",
   "metadata": {},
   "source": [
    "Note that in `pq_data` folder we now have two files:"
   ]
  },
  {
   "cell_type": "code",
   "execution_count": 58,
   "id": "238745a1",
   "metadata": {},
   "outputs": [
    {
     "data": {
      "text/plain": [
       "2-element Vector{String}:\n",
       " \"cars.parquet\"\n",
       " \"cars2.parquet\""
      ]
     },
     "execution_count": 58,
     "metadata": {},
     "output_type": "execute_result"
    }
   ],
   "source": [
    "readdir(\"pq_data\")"
   ]
  },
  {
   "cell_type": "markdown",
   "id": "638341f2",
   "metadata": {},
   "source": [
    "Assuming all files stored in it have the same schema, we can view them as a larger `DataSet` (multi-file, and each file can potentially have multiple `RowGroup`s):"
   ]
  },
  {
   "cell_type": "code",
   "execution_count": 59,
   "id": "de74d511",
   "metadata": {},
   "outputs": [
    {
     "data": {
      "text/plain": [
       "\u001b[34m≔ \u001b[39mParquet2.Dataset (775 bytes)\n",
       "\t1. \u001b[33m\"speed\"\u001b[39m: \u001b[36mFloat64\u001b[39m\n",
       "\t2. \u001b[33m\"dist\"\u001b[39m: \u001b[36mFloat64\u001b[39m\n"
      ]
     },
     "execution_count": 59,
     "metadata": {},
     "output_type": "execute_result"
    }
   ],
   "source": [
    "cars_multi = Parquet2.readfile(\"pq_data\", load_initial=true)"
   ]
  },
  {
   "cell_type": "markdown",
   "id": "8449ee4d",
   "metadata": {},
   "source": [
    "Again, just passing it to `DataFrame` collects all into one output table:"
   ]
  },
  {
   "cell_type": "code",
   "execution_count": 60,
   "id": "2a0a29b6",
   "metadata": {},
   "outputs": [
    {
     "data": {
      "text/html": [
       "<div><div style = \"float: left;\"><span>100×2 DataFrame</span></div><div style = \"float: right;\"><span style = \"font-style: italic;\">75 rows omitted</span></div><div style = \"clear: both;\"></div></div><div class = \"data-frame\" style = \"overflow-x: scroll;\"><table class = \"data-frame\" style = \"margin-bottom: 6px;\"><thead><tr class = \"header\"><th class = \"rowNumber\" style = \"font-weight: bold; text-align: right;\">Row</th><th style = \"text-align: left;\">speed</th><th style = \"text-align: left;\">dist</th></tr><tr class = \"subheader headerLastRow\"><th class = \"rowNumber\" style = \"font-weight: bold; text-align: right;\"></th><th title = \"Float64\" style = \"text-align: left;\">Float64</th><th title = \"Float64\" style = \"text-align: left;\">Float64</th></tr></thead><tbody><tr><td class = \"rowNumber\" style = \"font-weight: bold; text-align: right;\">1</td><td style = \"text-align: right;\">4.0</td><td style = \"text-align: right;\">2.0</td></tr><tr><td class = \"rowNumber\" style = \"font-weight: bold; text-align: right;\">2</td><td style = \"text-align: right;\">4.0</td><td style = \"text-align: right;\">10.0</td></tr><tr><td class = \"rowNumber\" style = \"font-weight: bold; text-align: right;\">3</td><td style = \"text-align: right;\">7.0</td><td style = \"text-align: right;\">4.0</td></tr><tr><td class = \"rowNumber\" style = \"font-weight: bold; text-align: right;\">4</td><td style = \"text-align: right;\">7.0</td><td style = \"text-align: right;\">22.0</td></tr><tr><td class = \"rowNumber\" style = \"font-weight: bold; text-align: right;\">5</td><td style = \"text-align: right;\">8.0</td><td style = \"text-align: right;\">16.0</td></tr><tr><td class = \"rowNumber\" style = \"font-weight: bold; text-align: right;\">6</td><td style = \"text-align: right;\">9.0</td><td style = \"text-align: right;\">10.0</td></tr><tr><td class = \"rowNumber\" style = \"font-weight: bold; text-align: right;\">7</td><td style = \"text-align: right;\">10.0</td><td style = \"text-align: right;\">18.0</td></tr><tr><td class = \"rowNumber\" style = \"font-weight: bold; text-align: right;\">8</td><td style = \"text-align: right;\">10.0</td><td style = \"text-align: right;\">26.0</td></tr><tr><td class = \"rowNumber\" style = \"font-weight: bold; text-align: right;\">9</td><td style = \"text-align: right;\">10.0</td><td style = \"text-align: right;\">34.0</td></tr><tr><td class = \"rowNumber\" style = \"font-weight: bold; text-align: right;\">10</td><td style = \"text-align: right;\">11.0</td><td style = \"text-align: right;\">17.0</td></tr><tr><td class = \"rowNumber\" style = \"font-weight: bold; text-align: right;\">11</td><td style = \"text-align: right;\">11.0</td><td style = \"text-align: right;\">28.0</td></tr><tr><td class = \"rowNumber\" style = \"font-weight: bold; text-align: right;\">12</td><td style = \"text-align: right;\">12.0</td><td style = \"text-align: right;\">14.0</td></tr><tr><td class = \"rowNumber\" style = \"font-weight: bold; text-align: right;\">13</td><td style = \"text-align: right;\">12.0</td><td style = \"text-align: right;\">20.0</td></tr><tr><td style = \"text-align: right;\">&vellip;</td><td style = \"text-align: right;\">&vellip;</td><td style = \"text-align: right;\">&vellip;</td></tr><tr><td class = \"rowNumber\" style = \"font-weight: bold; text-align: right;\">89</td><td style = \"text-align: right;\">20.0</td><td style = \"text-align: right;\">32.0</td></tr><tr><td class = \"rowNumber\" style = \"font-weight: bold; text-align: right;\">90</td><td style = \"text-align: right;\">20.0</td><td style = \"text-align: right;\">48.0</td></tr><tr><td class = \"rowNumber\" style = \"font-weight: bold; text-align: right;\">91</td><td style = \"text-align: right;\">20.0</td><td style = \"text-align: right;\">52.0</td></tr><tr><td class = \"rowNumber\" style = \"font-weight: bold; text-align: right;\">92</td><td style = \"text-align: right;\">20.0</td><td style = \"text-align: right;\">56.0</td></tr><tr><td class = \"rowNumber\" style = \"font-weight: bold; text-align: right;\">93</td><td style = \"text-align: right;\">20.0</td><td style = \"text-align: right;\">64.0</td></tr><tr><td class = \"rowNumber\" style = \"font-weight: bold; text-align: right;\">94</td><td style = \"text-align: right;\">22.0</td><td style = \"text-align: right;\">66.0</td></tr><tr><td class = \"rowNumber\" style = \"font-weight: bold; text-align: right;\">95</td><td style = \"text-align: right;\">23.0</td><td style = \"text-align: right;\">54.0</td></tr><tr><td class = \"rowNumber\" style = \"font-weight: bold; text-align: right;\">96</td><td style = \"text-align: right;\">24.0</td><td style = \"text-align: right;\">70.0</td></tr><tr><td class = \"rowNumber\" style = \"font-weight: bold; text-align: right;\">97</td><td style = \"text-align: right;\">24.0</td><td style = \"text-align: right;\">92.0</td></tr><tr><td class = \"rowNumber\" style = \"font-weight: bold; text-align: right;\">98</td><td style = \"text-align: right;\">24.0</td><td style = \"text-align: right;\">93.0</td></tr><tr><td class = \"rowNumber\" style = \"font-weight: bold; text-align: right;\">99</td><td style = \"text-align: right;\">24.0</td><td style = \"text-align: right;\">120.0</td></tr><tr><td class = \"rowNumber\" style = \"font-weight: bold; text-align: right;\">100</td><td style = \"text-align: right;\">25.0</td><td style = \"text-align: right;\">85.0</td></tr></tbody></table></div>"
      ],
      "text/latex": [
       "\\begin{tabular}{r|cc}\n",
       "\t& speed & dist\\\\\n",
       "\t\\hline\n",
       "\t& Float64 & Float64\\\\\n",
       "\t\\hline\n",
       "\t1 & 4.0 & 2.0 \\\\\n",
       "\t2 & 4.0 & 10.0 \\\\\n",
       "\t3 & 7.0 & 4.0 \\\\\n",
       "\t4 & 7.0 & 22.0 \\\\\n",
       "\t5 & 8.0 & 16.0 \\\\\n",
       "\t6 & 9.0 & 10.0 \\\\\n",
       "\t7 & 10.0 & 18.0 \\\\\n",
       "\t8 & 10.0 & 26.0 \\\\\n",
       "\t9 & 10.0 & 34.0 \\\\\n",
       "\t10 & 11.0 & 17.0 \\\\\n",
       "\t11 & 11.0 & 28.0 \\\\\n",
       "\t12 & 12.0 & 14.0 \\\\\n",
       "\t13 & 12.0 & 20.0 \\\\\n",
       "\t14 & 12.0 & 24.0 \\\\\n",
       "\t15 & 12.0 & 28.0 \\\\\n",
       "\t16 & 13.0 & 26.0 \\\\\n",
       "\t17 & 13.0 & 34.0 \\\\\n",
       "\t18 & 13.0 & 34.0 \\\\\n",
       "\t19 & 13.0 & 46.0 \\\\\n",
       "\t20 & 14.0 & 26.0 \\\\\n",
       "\t21 & 14.0 & 36.0 \\\\\n",
       "\t22 & 14.0 & 60.0 \\\\\n",
       "\t23 & 14.0 & 80.0 \\\\\n",
       "\t24 & 15.0 & 20.0 \\\\\n",
       "\t25 & 15.0 & 26.0 \\\\\n",
       "\t26 & 15.0 & 54.0 \\\\\n",
       "\t27 & 16.0 & 32.0 \\\\\n",
       "\t28 & 16.0 & 40.0 \\\\\n",
       "\t29 & 17.0 & 32.0 \\\\\n",
       "\t30 & 17.0 & 40.0 \\\\\n",
       "\t$\\dots$ & $\\dots$ & $\\dots$ \\\\\n",
       "\\end{tabular}\n"
      ],
      "text/plain": [
       "\u001b[1m100×2 DataFrame\u001b[0m\n",
       "\u001b[1m Row \u001b[0m│\u001b[1m speed   \u001b[0m\u001b[1m dist    \u001b[0m\n",
       "     │\u001b[90m Float64 \u001b[0m\u001b[90m Float64 \u001b[0m\n",
       "─────┼──────────────────\n",
       "   1 │     4.0      2.0\n",
       "   2 │     4.0     10.0\n",
       "   3 │     7.0      4.0\n",
       "   4 │     7.0     22.0\n",
       "   5 │     8.0     16.0\n",
       "   6 │     9.0     10.0\n",
       "   7 │    10.0     18.0\n",
       "   8 │    10.0     26.0\n",
       "   9 │    10.0     34.0\n",
       "  10 │    11.0     17.0\n",
       "  11 │    11.0     28.0\n",
       "  ⋮  │    ⋮        ⋮\n",
       "  91 │    20.0     52.0\n",
       "  92 │    20.0     56.0\n",
       "  93 │    20.0     64.0\n",
       "  94 │    22.0     66.0\n",
       "  95 │    23.0     54.0\n",
       "  96 │    24.0     70.0\n",
       "  97 │    24.0     92.0\n",
       "  98 │    24.0     93.0\n",
       "  99 │    24.0    120.0\n",
       " 100 │    25.0     85.0\n",
       "\u001b[36m         79 rows omitted\u001b[0m"
      ]
     },
     "execution_count": 60,
     "metadata": {},
     "output_type": "execute_result"
    }
   ],
   "source": [
    "DataFrame(cars_multi, copycols=false)"
   ]
  },
  {
   "cell_type": "markdown",
   "id": "b139ea92",
   "metadata": {},
   "source": [
    "However, we have three row groups (1 from the first file and 2 from the second file):"
   ]
  },
  {
   "cell_type": "code",
   "execution_count": 61,
   "id": "d85045fa",
   "metadata": {},
   "outputs": [
    {
     "data": {
      "text/plain": [
       "3"
      ]
     },
     "execution_count": 61,
     "metadata": {},
     "output_type": "execute_result"
    }
   ],
   "source": [
    "length(cars_multi)"
   ]
  },
  {
   "cell_type": "code",
   "execution_count": 62,
   "id": "1950795e",
   "metadata": {},
   "outputs": [
    {
     "name": "stdout",
     "output_type": "stream",
     "text": [
      "\u001b[1m50×2 DataFrame\u001b[0m\n",
      "\u001b[1m Row \u001b[0m│\u001b[1m speed   \u001b[0m\u001b[1m dist    \u001b[0m\n",
      "     │\u001b[90m Float64 \u001b[0m\u001b[90m Float64 \u001b[0m\n",
      "─────┼──────────────────\n",
      "   1 │     4.0      2.0\n",
      "   2 │     4.0     10.0\n",
      "   3 │     7.0      4.0\n",
      "   4 │     7.0     22.0\n",
      "   5 │     8.0     16.0\n",
      "   6 │     9.0     10.0\n",
      "   7 │    10.0     18.0\n",
      "   8 │    10.0     26.0\n",
      "   9 │    10.0     34.0\n",
      "  10 │    11.0     17.0\n",
      "  11 │    11.0     28.0\n",
      "  12 │    12.0     14.0\n",
      "  13 │    12.0     20.0\n",
      "  14 │    12.0     24.0\n",
      "  15 │    12.0     28.0\n",
      "  16 │    13.0     26.0\n",
      "  17 │    13.0     34.0\n",
      "  18 │    13.0     34.0\n",
      "  19 │    13.0     46.0\n",
      "  20 │    14.0     26.0\n",
      "  21 │    14.0     36.0\n",
      "  22 │    14.0     60.0\n",
      "  23 │    14.0     80.0\n",
      "  24 │    15.0     20.0\n",
      "  25 │    15.0     26.0\n",
      "  26 │    15.0     54.0\n",
      "  27 │    16.0     32.0\n",
      "  28 │    16.0     40.0\n",
      "  29 │    17.0     32.0\n",
      "  30 │    17.0     40.0\n",
      "  31 │    17.0     50.0\n",
      "  32 │    18.0     42.0\n",
      "  33 │    18.0     56.0\n",
      "  34 │    18.0     76.0\n",
      "  35 │    18.0     84.0\n",
      "  36 │    19.0     36.0\n",
      "  37 │    19.0     46.0\n",
      "  38 │    19.0     68.0\n",
      "  39 │    20.0     32.0\n",
      "  40 │    20.0     48.0\n",
      "  41 │    20.0     52.0\n",
      "  42 │    20.0     56.0\n",
      "  43 │    20.0     64.0\n",
      "  44 │    22.0     66.0\n",
      "  45 │    23.0     54.0\n",
      "  46 │    24.0     70.0\n",
      "  47 │    24.0     92.0\n",
      "  48 │    24.0     93.0\n",
      "  49 │    24.0    120.0\n",
      "  50 │    25.0     85.0\n",
      "\u001b[1m25×2 DataFrame\u001b[0m\n",
      "\u001b[1m Row \u001b[0m│\u001b[1m speed   \u001b[0m\u001b[1m dist    \u001b[0m\n",
      "     │\u001b[90m Float64 \u001b[0m\u001b[90m Float64 \u001b[0m\n",
      "─────┼──────────────────\n",
      "   1 │     4.0      2.0\n",
      "   2 │     4.0     10.0\n",
      "   3 │     7.0      4.0\n",
      "   4 │     7.0     22.0\n",
      "   5 │     8.0     16.0\n",
      "   6 │     9.0     10.0\n",
      "   7 │    10.0     18.0\n",
      "   8 │    10.0     26.0\n",
      "   9 │    10.0     34.0\n",
      "  10 │    11.0     17.0\n",
      "  11 │    11.0     28.0\n",
      "  12 │    12.0     14.0\n",
      "  13 │    12.0     20.0\n",
      "  14 │    12.0     24.0\n",
      "  15 │    12.0     28.0\n",
      "  16 │    13.0     26.0\n",
      "  17 │    13.0     34.0\n",
      "  18 │    13.0     34.0\n",
      "  19 │    13.0     46.0\n",
      "  20 │    14.0     26.0\n",
      "  21 │    14.0     36.0\n",
      "  22 │    14.0     60.0\n",
      "  23 │    14.0     80.0\n",
      "  24 │    15.0     20.0\n",
      "  25 │    15.0     26.0\n",
      "\u001b[1m25×2 DataFrame\u001b[0m\n",
      "\u001b[1m Row \u001b[0m│\u001b[1m speed   \u001b[0m\u001b[1m dist    \u001b[0m\n",
      "     │\u001b[90m Float64 \u001b[0m\u001b[90m Float64 \u001b[0m\n",
      "─────┼──────────────────\n",
      "   1 │    15.0     54.0\n",
      "   2 │    16.0     32.0\n",
      "   3 │    16.0     40.0\n",
      "   4 │    17.0     32.0\n",
      "   5 │    17.0     40.0\n",
      "   6 │    17.0     50.0\n",
      "   7 │    18.0     42.0\n",
      "   8 │    18.0     56.0\n",
      "   9 │    18.0     76.0\n",
      "  10 │    18.0     84.0\n",
      "  11 │    19.0     36.0\n",
      "  12 │    19.0     46.0\n",
      "  13 │    19.0     68.0\n",
      "  14 │    20.0     32.0\n",
      "  15 │    20.0     48.0\n",
      "  16 │    20.0     52.0\n",
      "  17 │    20.0     56.0\n",
      "  18 │    20.0     64.0\n",
      "  19 │    22.0     66.0\n",
      "  20 │    23.0     54.0\n",
      "  21 │    24.0     70.0\n",
      "  22 │    24.0     92.0\n",
      "  23 │    24.0     93.0\n",
      "  24 │    24.0    120.0\n",
      "  25 │    25.0     85.0\n"
     ]
    }
   ],
   "source": [
    "foreach(println∘DataFrame, cars_multi)"
   ]
  },
  {
   "cell_type": "code",
   "execution_count": 63,
   "id": "d0a50f75",
   "metadata": {},
   "outputs": [
    {
     "data": {
      "text/plain": [
       "3-element Vector{Int64}:\n",
       " 50\n",
       " 25\n",
       " 25"
      ]
     },
     "execution_count": 63,
     "metadata": {},
     "output_type": "execute_result"
    }
   ],
   "source": [
    "nrow.(cars_multi)"
   ]
  },
  {
   "cell_type": "markdown",
   "id": "d92aded1",
   "metadata": {},
   "source": [
    "In part 2 we will focus on discussing how one can work with data larger than RAM using Parquet2.jl."
   ]
  },
  {
   "cell_type": "markdown",
   "id": "bf32a8fb",
   "metadata": {},
   "source": [
    "*Preparation of this worksop has been supported by the Polish National Agency for Academic Exchange under the Strategic Partnerships programme, grant number BPI/PST/2021/1/00069/U/00001.*\n",
    "\n",
    "![SGH & NAWA](logo.png)"
   ]
  }
 ],
 "metadata": {
  "kernelspec": {
   "display_name": "Julia 1.9.2",
   "language": "julia",
   "name": "julia-1.9"
  },
  "language_info": {
   "file_extension": ".jl",
   "mimetype": "application/julia",
   "name": "julia",
   "version": "1.9.2"
  }
 },
 "nbformat": 4,
 "nbformat_minor": 5
}
