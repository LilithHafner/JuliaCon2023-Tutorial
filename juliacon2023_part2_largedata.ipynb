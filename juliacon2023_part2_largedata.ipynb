{
 "cells": [
  {
   "cell_type": "markdown",
   "id": "1b05b2ef",
   "metadata": {},
   "source": [
    "# Working with DataFrames.jl beyond CSV files\n",
    "\n",
    "# Part 2: Using Parquet for data larger than RAM\n",
    "\n",
    "## Bogumił Kamiński\n",
    "### June 25, 2023"
   ]
  },
  {
   "cell_type": "markdown",
   "id": "3bd5a5f2",
   "metadata": {},
   "source": [
    "What is covered in part 2:\n",
    "* how to iteratively create Parquet data store that jointly has more data than available RAM\n",
    "* how to manually process such data on a single machine (notebook-oriented process)"
   ]
  },
  {
   "cell_type": "markdown",
   "id": "8aeb9ca8",
   "metadata": {},
   "source": [
    "## Setup"
   ]
  },
  {
   "cell_type": "code",
   "execution_count": 1,
   "id": "391b440d",
   "metadata": {},
   "outputs": [],
   "source": [
    "using DataFrames"
   ]
  },
  {
   "cell_type": "code",
   "execution_count": 2,
   "id": "b6120192",
   "metadata": {},
   "outputs": [],
   "source": [
    "using Parquet2"
   ]
  },
  {
   "cell_type": "code",
   "execution_count": 3,
   "id": "e6ba8ab9",
   "metadata": {},
   "outputs": [],
   "source": [
    "using Random"
   ]
  },
  {
   "cell_type": "code",
   "execution_count": 4,
   "id": "e5551636",
   "metadata": {},
   "outputs": [],
   "source": [
    "using Statistics"
   ]
  },
  {
   "cell_type": "code",
   "execution_count": 5,
   "id": "a3d36eba",
   "metadata": {},
   "outputs": [],
   "source": [
    "using StatsBase"
   ]
  },
  {
   "cell_type": "markdown",
   "id": "cd17df01",
   "metadata": {},
   "source": [
    "## Generate some large data"
   ]
  },
  {
   "cell_type": "code",
   "execution_count": 6,
   "id": "daa36b81",
   "metadata": {},
   "outputs": [
    {
     "data": {
      "text/plain": [
       "false"
      ]
     },
     "execution_count": 6,
     "metadata": {},
     "output_type": "execute_result"
    }
   ],
   "source": [
    "isdir(\"pq_experiment\") && rm(\"pq_experiment\"; recursive=true)"
   ]
  },
  {
   "cell_type": "code",
   "execution_count": 7,
   "id": "18b99893",
   "metadata": {},
   "outputs": [
    {
     "data": {
      "text/plain": [
       "\"pq_experiment\""
      ]
     },
     "execution_count": 7,
     "metadata": {},
     "output_type": "execute_result"
    }
   ],
   "source": [
    "mkdir(\"pq_experiment\")"
   ]
  },
  {
   "cell_type": "code",
   "execution_count": 8,
   "id": "7740f592",
   "metadata": {},
   "outputs": [],
   "source": [
    "Random.seed!(1234);"
   ]
  },
  {
   "cell_type": "markdown",
   "id": "32e53ec3",
   "metadata": {},
   "source": [
    "Create 500 groups (range `0.0:0.002:1.0`) of data, each having $2^{20}$ = 1,048,576 rows and two `Float64` columns (I could have made it larger, but this should be enough as an example)."
   ]
  },
  {
   "cell_type": "code",
   "execution_count": 9,
   "id": "a6dd4359",
   "metadata": {},
   "outputs": [
    {
     "name": "stderr",
     "output_type": "stream",
     "text": [
      "\u001b[36m\u001b[1m[ \u001b[22m\u001b[39m\u001b[36m\u001b[1mInfo: \u001b[22m\u001b[39mwriting file #1\n",
      "\u001b[36m\u001b[1m[ \u001b[22m\u001b[39m\u001b[36m\u001b[1mInfo: \u001b[22m\u001b[39mwriting file #2\n",
      "\u001b[36m\u001b[1m[ \u001b[22m\u001b[39m\u001b[36m\u001b[1mInfo: \u001b[22m\u001b[39mwriting file #3\n",
      "\u001b[36m\u001b[1m[ \u001b[22m\u001b[39m\u001b[36m\u001b[1mInfo: \u001b[22m\u001b[39mwriting file #4\n",
      "\u001b[36m\u001b[1m[ \u001b[22m\u001b[39m\u001b[36m\u001b[1mInfo: \u001b[22m\u001b[39mwriting file #5\n",
      "\u001b[36m\u001b[1m[ \u001b[22m\u001b[39m\u001b[36m\u001b[1mInfo: \u001b[22m\u001b[39mwriting file #6\n"
     ]
    },
    {
     "data": {
      "text/plain": [
       "\u001b[34m✏ \u001b[39mParquet2.FileWriter{IOStream}(pq_experiment/experiment_6.parquet)"
      ]
     },
     "execution_count": 9,
     "metadata": {},
     "output_type": "execute_result"
    }
   ],
   "source": [
    "let # create local scope for more consistent variable scoping behavior and avoid temporary variable leakage\n",
    "    i = 1\n",
    "    df = DataFrame() # temporary data frame to store intermediate results\n",
    "    maxsize = 10^8 # define size of one chunk of data written to disk\n",
    "    for μ in 0.0:0.002:1.0\n",
    "        result = DataFrame(mu=μ, x=randn(2^20) .+ μ)\n",
    "        append!(df, result) # keep appending data from partial simulations\n",
    "        if nrow(df) > maxsize # if our data gets to big dump it to a consecutive file\n",
    "            @info \"writing file #$i\"\n",
    "            Parquet2.writefile(\"pq_experiment/experiment_$i.parquet\", @view df[1:maxsize, :])\n",
    "            deleteat!(df, 1:maxsize) # drop data stored in a file\n",
    "            i += 1\n",
    "        end\n",
    "    end\n",
    "    if nrow(df) > 0 # if we have some unsaved data store it now\n",
    "        @info \"writing file #$i\"\n",
    "        Parquet2.writefile(\"pq_experiment/experiment_$i.parquet\", df)\n",
    "    end\n",
    "end"
   ]
  },
  {
   "cell_type": "markdown",
   "id": "66605891",
   "metadata": {},
   "source": [
    "Note that reading the file is lazy. Actual data is not read yet:"
   ]
  },
  {
   "cell_type": "code",
   "execution_count": 10,
   "id": "a1337937",
   "metadata": {},
   "outputs": [
    {
     "data": {
      "text/plain": [
       "\u001b[34m≔ \u001b[39mParquet2.Dataset (837645573 bytes)\n",
       "\t1. \u001b[33m\"mu\"\u001b[39m: \u001b[36mFloat64\u001b[39m\n",
       "\t2. \u001b[33m\"x\"\u001b[39m: \u001b[36mFloat64\u001b[39m\n"
      ]
     },
     "execution_count": 10,
     "metadata": {},
     "output_type": "execute_result"
    }
   ],
   "source": [
    "pq_experiment = Parquet2.readfile(\"pq_experiment\", load_initial=true)"
   ]
  },
  {
   "cell_type": "markdown",
   "id": "66f0e314",
   "metadata": {},
   "source": [
    "We have six chunks of data (each corresponding to one file, as we did not create row groups within files):"
   ]
  },
  {
   "cell_type": "code",
   "execution_count": 11,
   "id": "dfa6c314",
   "metadata": {},
   "outputs": [
    {
     "data": {
      "text/plain": [
       "6"
      ]
     },
     "execution_count": 11,
     "metadata": {},
     "output_type": "execute_result"
    }
   ],
   "source": [
    "length(pq_experiment)"
   ]
  },
  {
   "cell_type": "code",
   "execution_count": 12,
   "id": "0492ece9",
   "metadata": {},
   "outputs": [
    {
     "data": {
      "text/plain": [
       "6-element Vector{FilePathsBase.WindowsPath}:\n",
       " p\"C:/WORK/dev/DataFramesTutorials/JuliaCon2023-Tutorial/pq_experiment/experiment_1.parquet\"\n",
       " p\"C:/WORK/dev/DataFramesTutorials/JuliaCon2023-Tutorial/pq_experiment/experiment_2.parquet\"\n",
       " p\"C:/WORK/dev/DataFramesTutorials/JuliaCon2023-Tutorial/pq_experiment/experiment_3.parquet\"\n",
       " p\"C:/WORK/dev/DataFramesTutorials/JuliaCon2023-Tutorial/pq_experiment/experiment_4.parquet\"\n",
       " p\"C:/WORK/dev/DataFramesTutorials/JuliaCon2023-Tutorial/pq_experiment/experiment_5.parquet\"\n",
       " p\"C:/WORK/dev/DataFramesTutorials/JuliaCon2023-Tutorial/pq_experiment/experiment_6.parquet\""
      ]
     },
     "execution_count": 12,
     "metadata": {},
     "output_type": "execute_result"
    }
   ],
   "source": [
    "Parquet2.filelist(pq_experiment)"
   ]
  },
  {
   "cell_type": "markdown",
   "id": "903d2f1c",
   "metadata": {},
   "source": [
    "Note that the last file has less rows than the rest:"
   ]
  },
  {
   "cell_type": "code",
   "execution_count": 13,
   "id": "1270096b",
   "metadata": {},
   "outputs": [
    {
     "data": {
      "text/plain": [
       "6-element Vector{Int64}:\n",
       " 100000000\n",
       " 100000000\n",
       " 100000000\n",
       " 100000000\n",
       " 100000000\n",
       "  25336576"
      ]
     },
     "execution_count": 13,
     "metadata": {},
     "output_type": "execute_result"
    }
   ],
   "source": [
    "nrow.(pq_experiment)"
   ]
  },
  {
   "cell_type": "markdown",
   "id": "0d3ea748",
   "metadata": {},
   "source": [
    "The challenge we have in this dataset is that the same values of keys (`mu` column) are split across multiple files.\n",
    "\n",
    "Assume we want to get a mean over all keys. We need to do it in two steps.\n",
    "\n",
    "This is a standard map-reduce pattern. In this tutorial we perform both steps manually on a single node:"
   ]
  },
  {
   "cell_type": "code",
   "execution_count": 14,
   "id": "2f0b7a3d",
   "metadata": {},
   "outputs": [
    {
     "name": "stderr",
     "output_type": "stream",
     "text": [
      "\u001b[36m\u001b[1m[ \u001b[22m\u001b[39m\u001b[36m\u001b[1mInfo: \u001b[22m\u001b[39mprocessing chunk of data #1\n",
      "\u001b[36m\u001b[1m[ \u001b[22m\u001b[39m\u001b[36m\u001b[1mInfo: \u001b[22m\u001b[39mprocessing chunk of data #2\n",
      "\u001b[36m\u001b[1m[ \u001b[22m\u001b[39m\u001b[36m\u001b[1mInfo: \u001b[22m\u001b[39mprocessing chunk of data #3\n",
      "\u001b[36m\u001b[1m[ \u001b[22m\u001b[39m\u001b[36m\u001b[1mInfo: \u001b[22m\u001b[39mprocessing chunk of data #4\n",
      "\u001b[36m\u001b[1m[ \u001b[22m\u001b[39m\u001b[36m\u001b[1mInfo: \u001b[22m\u001b[39mprocessing chunk of data #5\n",
      "\u001b[36m\u001b[1m[ \u001b[22m\u001b[39m\u001b[36m\u001b[1mInfo: \u001b[22m\u001b[39mprocessing chunk of data #6\n"
     ]
    },
    {
     "data": {
      "text/plain": [
       "6-element Vector{DataFrame}:\n",
       " \u001b[1m96×3 DataFrame\u001b[0m\n",
       "\u001b[1m Row \u001b[0m│\u001b[1m mu      \u001b[0m\u001b[1m x_mean       \u001b[0m\u001b[1m nrow    \u001b[0m\n",
       "     │\u001b[90m Float64 \u001b[0m\u001b[90m Float64      \u001b[0m\u001b[90m Int64   \u001b[0m\n",
       "─────┼────────────────────────────────\n",
       "   1 │   0.0    -0.000165159  1048576\n",
       "   2 │   0.002   0.00181935   1048576\n",
       "   3 │   0.004   0.00547356   1048576\n",
       "   4 │   0.006   0.0053043    1048576\n",
       "   5 │   0.008   0.00748101   1048576\n",
       "   6 │   0.01    0.0105489    1048576\n",
       "   7 │   0.012   0.0113697    1048576\n",
       "   8 │   0.014   0.0133716    1048576\n",
       "   9 │   0.016   0.0163869    1048576\n",
       "  10 │   0.018   0.0192935    1048576\n",
       "  11 │   0.02    0.0198156    1048576\n",
       "  ⋮  │    ⋮          ⋮           ⋮\n",
       "  87 │   0.172   0.171104     1048576\n",
       "  88 │   0.174   0.175584     1048576\n",
       "  89 │   0.176   0.176103     1048576\n",
       "  90 │   0.178   0.178837     1048576\n",
       "  91 │   0.18    0.182103     1048576\n",
       "  92 │   0.182   0.182695     1048576\n",
       "  93 │   0.184   0.181319     1048576\n",
       "  94 │   0.186   0.186327     1048576\n",
       "  95 │   0.188   0.188068     1048576\n",
       "  96 │   0.19    0.187567      385280\n",
       "\u001b[36m                       75 rows omitted\u001b[0m\n",
       " \u001b[1m96×3 DataFrame\u001b[0m\n",
       "\u001b[1m Row \u001b[0m│\u001b[1m mu      \u001b[0m\u001b[1m x_mean   \u001b[0m\u001b[1m nrow    \u001b[0m\n",
       "     │\u001b[90m Float64 \u001b[0m\u001b[90m Float64  \u001b[0m\u001b[90m Int64   \u001b[0m\n",
       "─────┼────────────────────────────\n",
       "   1 │   0.19   0.190411   663296\n",
       "   2 │   0.192  0.19314   1048576\n",
       "   3 │   0.194  0.193709  1048576\n",
       "   4 │   0.196  0.195765  1048576\n",
       "   5 │   0.198  0.198623  1048576\n",
       "   6 │   0.2    0.200585  1048576\n",
       "   7 │   0.202  0.200626  1048576\n",
       "   8 │   0.204  0.205575  1048576\n",
       "   9 │   0.206  0.205889  1048576\n",
       "  10 │   0.208  0.207115  1048576\n",
       "  11 │   0.21   0.20955   1048576\n",
       "  ⋮  │    ⋮        ⋮         ⋮\n",
       "  87 │   0.362  0.360563  1048576\n",
       "  88 │   0.364  0.363005  1048576\n",
       "  89 │   0.366  0.368417  1048576\n",
       "  90 │   0.368  0.367043  1048576\n",
       "  91 │   0.37   0.369158  1048576\n",
       "  92 │   0.372  0.371584  1048576\n",
       "  93 │   0.374  0.371797  1048576\n",
       "  94 │   0.376  0.376891  1048576\n",
       "  95 │   0.378  0.379768  1048576\n",
       "  96 │   0.38   0.380511   770560\n",
       "\u001b[36m                   75 rows omitted\u001b[0m\n",
       " \u001b[1m97×3 DataFrame\u001b[0m\n",
       "\u001b[1m Row \u001b[0m│\u001b[1m mu      \u001b[0m\u001b[1m x_mean   \u001b[0m\u001b[1m nrow    \u001b[0m\n",
       "     │\u001b[90m Float64 \u001b[0m\u001b[90m Float64  \u001b[0m\u001b[90m Int64   \u001b[0m\n",
       "─────┼────────────────────────────\n",
       "   1 │   0.38   0.379609   278016\n",
       "   2 │   0.382  0.380177  1048576\n",
       "   3 │   0.384  0.385076  1048576\n",
       "   4 │   0.386  0.385815  1048576\n",
       "   5 │   0.388  0.388314  1048576\n",
       "   6 │   0.39   0.391087  1048576\n",
       "   7 │   0.392  0.391428  1048576\n",
       "   8 │   0.394  0.394603  1048576\n",
       "   9 │   0.396  0.397369  1048576\n",
       "  10 │   0.398  0.399379  1048576\n",
       "  11 │   0.4    0.400048  1048576\n",
       "  ⋮  │    ⋮        ⋮         ⋮\n",
       "  88 │   0.554  0.553804  1048576\n",
       "  89 │   0.556  0.557008  1048576\n",
       "  90 │   0.558  0.558443  1048576\n",
       "  91 │   0.56   0.559155  1048576\n",
       "  92 │   0.562  0.5614    1048576\n",
       "  93 │   0.564  0.565902  1048576\n",
       "  94 │   0.566  0.565953  1048576\n",
       "  95 │   0.568  0.567578  1048576\n",
       "  96 │   0.57   0.570556  1048576\n",
       "  97 │   0.572  0.574669   107264\n",
       "\u001b[36m                   76 rows omitted\u001b[0m\n",
       " \u001b[1m96×3 DataFrame\u001b[0m\n",
       "\u001b[1m Row \u001b[0m│\u001b[1m mu      \u001b[0m\u001b[1m x_mean   \u001b[0m\u001b[1m nrow    \u001b[0m\n",
       "     │\u001b[90m Float64 \u001b[0m\u001b[90m Float64  \u001b[0m\u001b[90m Int64   \u001b[0m\n",
       "─────┼────────────────────────────\n",
       "   1 │   0.572  0.571994   941312\n",
       "   2 │   0.574  0.573747  1048576\n",
       "   3 │   0.576  0.575925  1048576\n",
       "   4 │   0.578  0.57772   1048576\n",
       "   5 │   0.58   0.578779  1048576\n",
       "   6 │   0.582  0.582317  1048576\n",
       "   7 │   0.584  0.585391  1048576\n",
       "   8 │   0.586  0.585153  1048576\n",
       "   9 │   0.588  0.587751  1048576\n",
       "  10 │   0.59   0.5879    1048576\n",
       "  11 │   0.592  0.593437  1048576\n",
       "  ⋮  │    ⋮        ⋮         ⋮\n",
       "  87 │   0.744  0.744916  1048576\n",
       "  88 │   0.746  0.745429  1048576\n",
       "  89 │   0.748  0.747461  1048576\n",
       "  90 │   0.75   0.750765  1048576\n",
       "  91 │   0.752  0.753685  1048576\n",
       "  92 │   0.754  0.754218  1048576\n",
       "  93 │   0.756  0.756017  1048576\n",
       "  94 │   0.758  0.757438  1048576\n",
       "  95 │   0.76   0.758445  1048576\n",
       "  96 │   0.762  0.762476   492544\n",
       "\u001b[36m                   75 rows omitted\u001b[0m\n",
       " \u001b[1m96×3 DataFrame\u001b[0m\n",
       "\u001b[1m Row \u001b[0m│\u001b[1m mu      \u001b[0m\u001b[1m x_mean   \u001b[0m\u001b[1m nrow    \u001b[0m\n",
       "     │\u001b[90m Float64 \u001b[0m\u001b[90m Float64  \u001b[0m\u001b[90m Int64   \u001b[0m\n",
       "─────┼────────────────────────────\n",
       "   1 │   0.762  0.762469   556032\n",
       "   2 │   0.764  0.763604  1048576\n",
       "   3 │   0.766  0.765431  1048576\n",
       "   4 │   0.768  0.767295  1048576\n",
       "   5 │   0.77   0.770628  1048576\n",
       "   6 │   0.772  0.772683  1048576\n",
       "   7 │   0.774  0.774978  1048576\n",
       "   8 │   0.776  0.774604  1048576\n",
       "   9 │   0.778  0.777869  1048576\n",
       "  10 │   0.78   0.778066  1048576\n",
       "  11 │   0.782  0.782015  1048576\n",
       "  ⋮  │    ⋮        ⋮         ⋮\n",
       "  87 │   0.934  0.932314  1048576\n",
       "  88 │   0.936  0.93643   1048576\n",
       "  89 │   0.938  0.937392  1048576\n",
       "  90 │   0.94   0.94038   1048576\n",
       "  91 │   0.942  0.942672  1048576\n",
       "  92 │   0.944  0.943768  1048576\n",
       "  93 │   0.946  0.946796  1048576\n",
       "  94 │   0.948  0.947403  1048576\n",
       "  95 │   0.95   0.95025   1048576\n",
       "  96 │   0.952  0.953107   877824\n",
       "\u001b[36m                   75 rows omitted\u001b[0m\n",
       " \u001b[1m25×3 DataFrame\u001b[0m\n",
       "\u001b[1m Row \u001b[0m│\u001b[1m mu      \u001b[0m\u001b[1m x_mean   \u001b[0m\u001b[1m nrow    \u001b[0m\n",
       "     │\u001b[90m Float64 \u001b[0m\u001b[90m Float64  \u001b[0m\u001b[90m Int64   \u001b[0m\n",
       "─────┼────────────────────────────\n",
       "   1 │   0.952  0.954526   170752\n",
       "   2 │   0.954  0.95376   1048576\n",
       "   3 │   0.956  0.955728  1048576\n",
       "   4 │   0.958  0.95682   1048576\n",
       "   5 │   0.96   0.959156  1048576\n",
       "   6 │   0.962  0.962672  1048576\n",
       "   7 │   0.964  0.965211  1048576\n",
       "   8 │   0.966  0.964998  1048576\n",
       "   9 │   0.968  0.968262  1048576\n",
       "  10 │   0.97   0.969782  1048576\n",
       "  11 │   0.972  0.971397  1048576\n",
       "  ⋮  │    ⋮        ⋮         ⋮\n",
       "  16 │   0.982  0.980645  1048576\n",
       "  17 │   0.984  0.985538  1048576\n",
       "  18 │   0.986  0.986935  1048576\n",
       "  19 │   0.988  0.987878  1048576\n",
       "  20 │   0.99   0.990001  1048576\n",
       "  21 │   0.992  0.993618  1048576\n",
       "  22 │   0.994  0.994494  1048576\n",
       "  23 │   0.996  0.995764  1048576\n",
       "  24 │   0.998  0.999058  1048576\n",
       "  25 │   1.0    0.999101  1048576\n",
       "\u001b[36m                    4 rows omitted\u001b[0m"
      ]
     },
     "execution_count": 14,
     "metadata": {},
     "output_type": "execute_result"
    }
   ],
   "source": [
    "agg1 = map(enumerate(pq_experiment)) do (i, rowset)\n",
    "    @info \"processing chunk of data #$i\"\n",
    "    df = DataFrame(rowset, copycols=false)\n",
    "    gdf = groupby(df, :mu)\n",
    "    return combine(gdf, :x => mean, nrow)\n",
    "end"
   ]
  },
  {
   "cell_type": "code",
   "execution_count": 15,
   "id": "53fff171",
   "metadata": {},
   "outputs": [
    {
     "data": {
      "text/html": [
       "<div><div style = \"float: left;\"><span>506×3 DataFrame</span></div><div style = \"float: right;\"><span style = \"font-style: italic;\">481 rows omitted</span></div><div style = \"clear: both;\"></div></div><div class = \"data-frame\" style = \"overflow-x: scroll;\"><table class = \"data-frame\" style = \"margin-bottom: 6px;\"><thead><tr class = \"header\"><th class = \"rowNumber\" style = \"font-weight: bold; text-align: right;\">Row</th><th style = \"text-align: left;\">mu</th><th style = \"text-align: left;\">x_mean</th><th style = \"text-align: left;\">nrow</th></tr><tr class = \"subheader headerLastRow\"><th class = \"rowNumber\" style = \"font-weight: bold; text-align: right;\"></th><th title = \"Float64\" style = \"text-align: left;\">Float64</th><th title = \"Float64\" style = \"text-align: left;\">Float64</th><th title = \"Int64\" style = \"text-align: left;\">Int64</th></tr></thead><tbody><tr><td class = \"rowNumber\" style = \"font-weight: bold; text-align: right;\">1</td><td style = \"text-align: right;\">0.0</td><td style = \"text-align: right;\">-0.000165159</td><td style = \"text-align: right;\">1048576</td></tr><tr><td class = \"rowNumber\" style = \"font-weight: bold; text-align: right;\">2</td><td style = \"text-align: right;\">0.002</td><td style = \"text-align: right;\">0.00181935</td><td style = \"text-align: right;\">1048576</td></tr><tr><td class = \"rowNumber\" style = \"font-weight: bold; text-align: right;\">3</td><td style = \"text-align: right;\">0.004</td><td style = \"text-align: right;\">0.00547356</td><td style = \"text-align: right;\">1048576</td></tr><tr><td class = \"rowNumber\" style = \"font-weight: bold; text-align: right;\">4</td><td style = \"text-align: right;\">0.006</td><td style = \"text-align: right;\">0.0053043</td><td style = \"text-align: right;\">1048576</td></tr><tr><td class = \"rowNumber\" style = \"font-weight: bold; text-align: right;\">5</td><td style = \"text-align: right;\">0.008</td><td style = \"text-align: right;\">0.00748101</td><td style = \"text-align: right;\">1048576</td></tr><tr><td class = \"rowNumber\" style = \"font-weight: bold; text-align: right;\">6</td><td style = \"text-align: right;\">0.01</td><td style = \"text-align: right;\">0.0105489</td><td style = \"text-align: right;\">1048576</td></tr><tr><td class = \"rowNumber\" style = \"font-weight: bold; text-align: right;\">7</td><td style = \"text-align: right;\">0.012</td><td style = \"text-align: right;\">0.0113697</td><td style = \"text-align: right;\">1048576</td></tr><tr><td class = \"rowNumber\" style = \"font-weight: bold; text-align: right;\">8</td><td style = \"text-align: right;\">0.014</td><td style = \"text-align: right;\">0.0133716</td><td style = \"text-align: right;\">1048576</td></tr><tr><td class = \"rowNumber\" style = \"font-weight: bold; text-align: right;\">9</td><td style = \"text-align: right;\">0.016</td><td style = \"text-align: right;\">0.0163869</td><td style = \"text-align: right;\">1048576</td></tr><tr><td class = \"rowNumber\" style = \"font-weight: bold; text-align: right;\">10</td><td style = \"text-align: right;\">0.018</td><td style = \"text-align: right;\">0.0192935</td><td style = \"text-align: right;\">1048576</td></tr><tr><td class = \"rowNumber\" style = \"font-weight: bold; text-align: right;\">11</td><td style = \"text-align: right;\">0.02</td><td style = \"text-align: right;\">0.0198156</td><td style = \"text-align: right;\">1048576</td></tr><tr><td class = \"rowNumber\" style = \"font-weight: bold; text-align: right;\">12</td><td style = \"text-align: right;\">0.022</td><td style = \"text-align: right;\">0.0234726</td><td style = \"text-align: right;\">1048576</td></tr><tr><td class = \"rowNumber\" style = \"font-weight: bold; text-align: right;\">13</td><td style = \"text-align: right;\">0.024</td><td style = \"text-align: right;\">0.0237806</td><td style = \"text-align: right;\">1048576</td></tr><tr><td style = \"text-align: right;\">&vellip;</td><td style = \"text-align: right;\">&vellip;</td><td style = \"text-align: right;\">&vellip;</td><td style = \"text-align: right;\">&vellip;</td></tr><tr><td class = \"rowNumber\" style = \"font-weight: bold; text-align: right;\">495</td><td style = \"text-align: right;\">0.978</td><td style = \"text-align: right;\">0.979726</td><td style = \"text-align: right;\">1048576</td></tr><tr><td class = \"rowNumber\" style = \"font-weight: bold; text-align: right;\">496</td><td style = \"text-align: right;\">0.98</td><td style = \"text-align: right;\">0.980824</td><td style = \"text-align: right;\">1048576</td></tr><tr><td class = \"rowNumber\" style = \"font-weight: bold; text-align: right;\">497</td><td style = \"text-align: right;\">0.982</td><td style = \"text-align: right;\">0.980645</td><td style = \"text-align: right;\">1048576</td></tr><tr><td class = \"rowNumber\" style = \"font-weight: bold; text-align: right;\">498</td><td style = \"text-align: right;\">0.984</td><td style = \"text-align: right;\">0.985538</td><td style = \"text-align: right;\">1048576</td></tr><tr><td class = \"rowNumber\" style = \"font-weight: bold; text-align: right;\">499</td><td style = \"text-align: right;\">0.986</td><td style = \"text-align: right;\">0.986935</td><td style = \"text-align: right;\">1048576</td></tr><tr><td class = \"rowNumber\" style = \"font-weight: bold; text-align: right;\">500</td><td style = \"text-align: right;\">0.988</td><td style = \"text-align: right;\">0.987878</td><td style = \"text-align: right;\">1048576</td></tr><tr><td class = \"rowNumber\" style = \"font-weight: bold; text-align: right;\">501</td><td style = \"text-align: right;\">0.99</td><td style = \"text-align: right;\">0.990001</td><td style = \"text-align: right;\">1048576</td></tr><tr><td class = \"rowNumber\" style = \"font-weight: bold; text-align: right;\">502</td><td style = \"text-align: right;\">0.992</td><td style = \"text-align: right;\">0.993618</td><td style = \"text-align: right;\">1048576</td></tr><tr><td class = \"rowNumber\" style = \"font-weight: bold; text-align: right;\">503</td><td style = \"text-align: right;\">0.994</td><td style = \"text-align: right;\">0.994494</td><td style = \"text-align: right;\">1048576</td></tr><tr><td class = \"rowNumber\" style = \"font-weight: bold; text-align: right;\">504</td><td style = \"text-align: right;\">0.996</td><td style = \"text-align: right;\">0.995764</td><td style = \"text-align: right;\">1048576</td></tr><tr><td class = \"rowNumber\" style = \"font-weight: bold; text-align: right;\">505</td><td style = \"text-align: right;\">0.998</td><td style = \"text-align: right;\">0.999058</td><td style = \"text-align: right;\">1048576</td></tr><tr><td class = \"rowNumber\" style = \"font-weight: bold; text-align: right;\">506</td><td style = \"text-align: right;\">1.0</td><td style = \"text-align: right;\">0.999101</td><td style = \"text-align: right;\">1048576</td></tr></tbody></table></div>"
      ],
      "text/latex": [
       "\\begin{tabular}{r|ccc}\n",
       "\t& mu & x\\_mean & nrow\\\\\n",
       "\t\\hline\n",
       "\t& Float64 & Float64 & Int64\\\\\n",
       "\t\\hline\n",
       "\t1 & 0.0 & -0.000165159 & 1048576 \\\\\n",
       "\t2 & 0.002 & 0.00181935 & 1048576 \\\\\n",
       "\t3 & 0.004 & 0.00547356 & 1048576 \\\\\n",
       "\t4 & 0.006 & 0.0053043 & 1048576 \\\\\n",
       "\t5 & 0.008 & 0.00748101 & 1048576 \\\\\n",
       "\t6 & 0.01 & 0.0105489 & 1048576 \\\\\n",
       "\t7 & 0.012 & 0.0113697 & 1048576 \\\\\n",
       "\t8 & 0.014 & 0.0133716 & 1048576 \\\\\n",
       "\t9 & 0.016 & 0.0163869 & 1048576 \\\\\n",
       "\t10 & 0.018 & 0.0192935 & 1048576 \\\\\n",
       "\t11 & 0.02 & 0.0198156 & 1048576 \\\\\n",
       "\t12 & 0.022 & 0.0234726 & 1048576 \\\\\n",
       "\t13 & 0.024 & 0.0237806 & 1048576 \\\\\n",
       "\t14 & 0.026 & 0.0249626 & 1048576 \\\\\n",
       "\t15 & 0.028 & 0.0273897 & 1048576 \\\\\n",
       "\t16 & 0.03 & 0.030416 & 1048576 \\\\\n",
       "\t17 & 0.032 & 0.0332699 & 1048576 \\\\\n",
       "\t18 & 0.034 & 0.0349246 & 1048576 \\\\\n",
       "\t19 & 0.036 & 0.0382223 & 1048576 \\\\\n",
       "\t20 & 0.038 & 0.0385496 & 1048576 \\\\\n",
       "\t21 & 0.04 & 0.0399323 & 1048576 \\\\\n",
       "\t22 & 0.042 & 0.0425588 & 1048576 \\\\\n",
       "\t23 & 0.044 & 0.0439851 & 1048576 \\\\\n",
       "\t24 & 0.046 & 0.0462198 & 1048576 \\\\\n",
       "\t25 & 0.048 & 0.0465669 & 1048576 \\\\\n",
       "\t26 & 0.05 & 0.0487787 & 1048576 \\\\\n",
       "\t27 & 0.052 & 0.0511604 & 1048576 \\\\\n",
       "\t28 & 0.054 & 0.0538052 & 1048576 \\\\\n",
       "\t29 & 0.056 & 0.0564606 & 1048576 \\\\\n",
       "\t30 & 0.058 & 0.0583234 & 1048576 \\\\\n",
       "\t$\\dots$ & $\\dots$ & $\\dots$ & $\\dots$ \\\\\n",
       "\\end{tabular}\n"
      ],
      "text/plain": [
       "\u001b[1m506×3 DataFrame\u001b[0m\n",
       "\u001b[1m Row \u001b[0m│\u001b[1m mu      \u001b[0m\u001b[1m x_mean       \u001b[0m\u001b[1m nrow    \u001b[0m\n",
       "     │\u001b[90m Float64 \u001b[0m\u001b[90m Float64      \u001b[0m\u001b[90m Int64   \u001b[0m\n",
       "─────┼────────────────────────────────\n",
       "   1 │   0.0    -0.000165159  1048576\n",
       "   2 │   0.002   0.00181935   1048576\n",
       "   3 │   0.004   0.00547356   1048576\n",
       "   4 │   0.006   0.0053043    1048576\n",
       "   5 │   0.008   0.00748101   1048576\n",
       "   6 │   0.01    0.0105489    1048576\n",
       "   7 │   0.012   0.0113697    1048576\n",
       "   8 │   0.014   0.0133716    1048576\n",
       "   9 │   0.016   0.0163869    1048576\n",
       "  10 │   0.018   0.0192935    1048576\n",
       "  11 │   0.02    0.0198156    1048576\n",
       "  ⋮  │    ⋮          ⋮           ⋮\n",
       " 497 │   0.982   0.980645     1048576\n",
       " 498 │   0.984   0.985538     1048576\n",
       " 499 │   0.986   0.986935     1048576\n",
       " 500 │   0.988   0.987878     1048576\n",
       " 501 │   0.99    0.990001     1048576\n",
       " 502 │   0.992   0.993618     1048576\n",
       " 503 │   0.994   0.994494     1048576\n",
       " 504 │   0.996   0.995764     1048576\n",
       " 505 │   0.998   0.999058     1048576\n",
       " 506 │   1.0     0.999101     1048576\n",
       "\u001b[36m                      485 rows omitted\u001b[0m"
      ]
     },
     "execution_count": 15,
     "metadata": {},
     "output_type": "execute_result"
    }
   ],
   "source": [
    "agg2 = reduce(vcat, agg1)"
   ]
  },
  {
   "cell_type": "code",
   "execution_count": 16,
   "id": "b8c8b31b",
   "metadata": {},
   "outputs": [
    {
     "data": {
      "text/html": [
       "<div><div style = \"float: left;\"><span>501×2 DataFrame</span></div><div style = \"float: right;\"><span style = \"font-style: italic;\">476 rows omitted</span></div><div style = \"clear: both;\"></div></div><div class = \"data-frame\" style = \"overflow-x: scroll;\"><table class = \"data-frame\" style = \"margin-bottom: 6px;\"><thead><tr class = \"header\"><th class = \"rowNumber\" style = \"font-weight: bold; text-align: right;\">Row</th><th style = \"text-align: left;\">mu</th><th style = \"text-align: left;\">x_mean</th></tr><tr class = \"subheader headerLastRow\"><th class = \"rowNumber\" style = \"font-weight: bold; text-align: right;\"></th><th title = \"Float64\" style = \"text-align: left;\">Float64</th><th title = \"Float64\" style = \"text-align: left;\">Float64</th></tr></thead><tbody><tr><td class = \"rowNumber\" style = \"font-weight: bold; text-align: right;\">1</td><td style = \"text-align: right;\">0.0</td><td style = \"text-align: right;\">-0.000165159</td></tr><tr><td class = \"rowNumber\" style = \"font-weight: bold; text-align: right;\">2</td><td style = \"text-align: right;\">0.002</td><td style = \"text-align: right;\">0.00181935</td></tr><tr><td class = \"rowNumber\" style = \"font-weight: bold; text-align: right;\">3</td><td style = \"text-align: right;\">0.004</td><td style = \"text-align: right;\">0.00547356</td></tr><tr><td class = \"rowNumber\" style = \"font-weight: bold; text-align: right;\">4</td><td style = \"text-align: right;\">0.006</td><td style = \"text-align: right;\">0.0053043</td></tr><tr><td class = \"rowNumber\" style = \"font-weight: bold; text-align: right;\">5</td><td style = \"text-align: right;\">0.008</td><td style = \"text-align: right;\">0.00748101</td></tr><tr><td class = \"rowNumber\" style = \"font-weight: bold; text-align: right;\">6</td><td style = \"text-align: right;\">0.01</td><td style = \"text-align: right;\">0.0105489</td></tr><tr><td class = \"rowNumber\" style = \"font-weight: bold; text-align: right;\">7</td><td style = \"text-align: right;\">0.012</td><td style = \"text-align: right;\">0.0113697</td></tr><tr><td class = \"rowNumber\" style = \"font-weight: bold; text-align: right;\">8</td><td style = \"text-align: right;\">0.014</td><td style = \"text-align: right;\">0.0133716</td></tr><tr><td class = \"rowNumber\" style = \"font-weight: bold; text-align: right;\">9</td><td style = \"text-align: right;\">0.016</td><td style = \"text-align: right;\">0.0163869</td></tr><tr><td class = \"rowNumber\" style = \"font-weight: bold; text-align: right;\">10</td><td style = \"text-align: right;\">0.018</td><td style = \"text-align: right;\">0.0192935</td></tr><tr><td class = \"rowNumber\" style = \"font-weight: bold; text-align: right;\">11</td><td style = \"text-align: right;\">0.02</td><td style = \"text-align: right;\">0.0198156</td></tr><tr><td class = \"rowNumber\" style = \"font-weight: bold; text-align: right;\">12</td><td style = \"text-align: right;\">0.022</td><td style = \"text-align: right;\">0.0234726</td></tr><tr><td class = \"rowNumber\" style = \"font-weight: bold; text-align: right;\">13</td><td style = \"text-align: right;\">0.024</td><td style = \"text-align: right;\">0.0237806</td></tr><tr><td style = \"text-align: right;\">&vellip;</td><td style = \"text-align: right;\">&vellip;</td><td style = \"text-align: right;\">&vellip;</td></tr><tr><td class = \"rowNumber\" style = \"font-weight: bold; text-align: right;\">490</td><td style = \"text-align: right;\">0.978</td><td style = \"text-align: right;\">0.979726</td></tr><tr><td class = \"rowNumber\" style = \"font-weight: bold; text-align: right;\">491</td><td style = \"text-align: right;\">0.98</td><td style = \"text-align: right;\">0.980824</td></tr><tr><td class = \"rowNumber\" style = \"font-weight: bold; text-align: right;\">492</td><td style = \"text-align: right;\">0.982</td><td style = \"text-align: right;\">0.980645</td></tr><tr><td class = \"rowNumber\" style = \"font-weight: bold; text-align: right;\">493</td><td style = \"text-align: right;\">0.984</td><td style = \"text-align: right;\">0.985538</td></tr><tr><td class = \"rowNumber\" style = \"font-weight: bold; text-align: right;\">494</td><td style = \"text-align: right;\">0.986</td><td style = \"text-align: right;\">0.986935</td></tr><tr><td class = \"rowNumber\" style = \"font-weight: bold; text-align: right;\">495</td><td style = \"text-align: right;\">0.988</td><td style = \"text-align: right;\">0.987878</td></tr><tr><td class = \"rowNumber\" style = \"font-weight: bold; text-align: right;\">496</td><td style = \"text-align: right;\">0.99</td><td style = \"text-align: right;\">0.990001</td></tr><tr><td class = \"rowNumber\" style = \"font-weight: bold; text-align: right;\">497</td><td style = \"text-align: right;\">0.992</td><td style = \"text-align: right;\">0.993618</td></tr><tr><td class = \"rowNumber\" style = \"font-weight: bold; text-align: right;\">498</td><td style = \"text-align: right;\">0.994</td><td style = \"text-align: right;\">0.994494</td></tr><tr><td class = \"rowNumber\" style = \"font-weight: bold; text-align: right;\">499</td><td style = \"text-align: right;\">0.996</td><td style = \"text-align: right;\">0.995764</td></tr><tr><td class = \"rowNumber\" style = \"font-weight: bold; text-align: right;\">500</td><td style = \"text-align: right;\">0.998</td><td style = \"text-align: right;\">0.999058</td></tr><tr><td class = \"rowNumber\" style = \"font-weight: bold; text-align: right;\">501</td><td style = \"text-align: right;\">1.0</td><td style = \"text-align: right;\">0.999101</td></tr></tbody></table></div>"
      ],
      "text/latex": [
       "\\begin{tabular}{r|cc}\n",
       "\t& mu & x\\_mean\\\\\n",
       "\t\\hline\n",
       "\t& Float64 & Float64\\\\\n",
       "\t\\hline\n",
       "\t1 & 0.0 & -0.000165159 \\\\\n",
       "\t2 & 0.002 & 0.00181935 \\\\\n",
       "\t3 & 0.004 & 0.00547356 \\\\\n",
       "\t4 & 0.006 & 0.0053043 \\\\\n",
       "\t5 & 0.008 & 0.00748101 \\\\\n",
       "\t6 & 0.01 & 0.0105489 \\\\\n",
       "\t7 & 0.012 & 0.0113697 \\\\\n",
       "\t8 & 0.014 & 0.0133716 \\\\\n",
       "\t9 & 0.016 & 0.0163869 \\\\\n",
       "\t10 & 0.018 & 0.0192935 \\\\\n",
       "\t11 & 0.02 & 0.0198156 \\\\\n",
       "\t12 & 0.022 & 0.0234726 \\\\\n",
       "\t13 & 0.024 & 0.0237806 \\\\\n",
       "\t14 & 0.026 & 0.0249626 \\\\\n",
       "\t15 & 0.028 & 0.0273897 \\\\\n",
       "\t16 & 0.03 & 0.030416 \\\\\n",
       "\t17 & 0.032 & 0.0332699 \\\\\n",
       "\t18 & 0.034 & 0.0349246 \\\\\n",
       "\t19 & 0.036 & 0.0382223 \\\\\n",
       "\t20 & 0.038 & 0.0385496 \\\\\n",
       "\t21 & 0.04 & 0.0399323 \\\\\n",
       "\t22 & 0.042 & 0.0425588 \\\\\n",
       "\t23 & 0.044 & 0.0439851 \\\\\n",
       "\t24 & 0.046 & 0.0462198 \\\\\n",
       "\t25 & 0.048 & 0.0465669 \\\\\n",
       "\t26 & 0.05 & 0.0487787 \\\\\n",
       "\t27 & 0.052 & 0.0511604 \\\\\n",
       "\t28 & 0.054 & 0.0538052 \\\\\n",
       "\t29 & 0.056 & 0.0564606 \\\\\n",
       "\t30 & 0.058 & 0.0583234 \\\\\n",
       "\t$\\dots$ & $\\dots$ & $\\dots$ \\\\\n",
       "\\end{tabular}\n"
      ],
      "text/plain": [
       "\u001b[1m501×2 DataFrame\u001b[0m\n",
       "\u001b[1m Row \u001b[0m│\u001b[1m mu      \u001b[0m\u001b[1m x_mean       \u001b[0m\n",
       "     │\u001b[90m Float64 \u001b[0m\u001b[90m Float64      \u001b[0m\n",
       "─────┼───────────────────────\n",
       "   1 │   0.0    -0.000165159\n",
       "   2 │   0.002   0.00181935\n",
       "   3 │   0.004   0.00547356\n",
       "   4 │   0.006   0.0053043\n",
       "   5 │   0.008   0.00748101\n",
       "   6 │   0.01    0.0105489\n",
       "   7 │   0.012   0.0113697\n",
       "   8 │   0.014   0.0133716\n",
       "   9 │   0.016   0.0163869\n",
       "  10 │   0.018   0.0192935\n",
       "  11 │   0.02    0.0198156\n",
       "  ⋮  │    ⋮          ⋮\n",
       " 492 │   0.982   0.980645\n",
       " 493 │   0.984   0.985538\n",
       " 494 │   0.986   0.986935\n",
       " 495 │   0.988   0.987878\n",
       " 496 │   0.99    0.990001\n",
       " 497 │   0.992   0.993618\n",
       " 498 │   0.994   0.994494\n",
       " 499 │   0.996   0.995764\n",
       " 500 │   0.998   0.999058\n",
       " 501 │   1.0     0.999101\n",
       "\u001b[36m             480 rows omitted\u001b[0m"
      ]
     },
     "execution_count": 16,
     "metadata": {},
     "output_type": "execute_result"
    }
   ],
   "source": [
    "agg3 = combine(groupby(agg2, :mu)) do sdf\n",
    "    return (; x_mean = mean(sdf.x_mean, Weights(sdf.nrow)))\n",
    "end"
   ]
  },
  {
   "cell_type": "markdown",
   "id": "eb93a9ec",
   "metadata": {},
   "source": [
    "Other common possible scenarios:\n",
    "\n",
    "* using multiple-threads for in-core data\n",
    "* using several machines in a cluster"
   ]
  },
  {
   "cell_type": "markdown",
   "id": "a895c32b",
   "metadata": {},
   "source": [
    "What I presented above gives full flexibility, but requires manual handling of reduction.\n",
    "\n",
    "For common operations [DTables.jl](https://github.com/JuliaParallel/DTables.jl) provides distributed table structures and data manipulation operations built on top of Dagger.jl."
   ]
  },
  {
   "cell_type": "markdown",
   "id": "79263dbb",
   "metadata": {},
   "source": [
    "In part 3 we discuss some limitations of Parquet format that one needs to keep in mind when working with it."
   ]
  },
  {
   "cell_type": "markdown",
   "id": "e7820da9",
   "metadata": {},
   "source": [
    "*Preparation of this worksop has been supported by the Polish National Agency for Academic Exchange under the Strategic Partnerships programme, grant number BPI/PST/2021/1/00069/U/00001.*\n",
    "\n",
    "![SGH & NAWA](logo.png)"
   ]
  }
 ],
 "metadata": {
  "kernelspec": {
   "display_name": "Julia 1.9.2",
   "language": "julia",
   "name": "julia-1.9"
  },
  "language_info": {
   "file_extension": ".jl",
   "mimetype": "application/julia",
   "name": "julia",
   "version": "1.9.2"
  }
 },
 "nbformat": 4,
 "nbformat_minor": 5
}
